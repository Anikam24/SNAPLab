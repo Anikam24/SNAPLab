{
 "cells": [
  {
   "cell_type": "code",
   "execution_count": 1,
   "id": "d161e2a5-2b0e-498b-b709-322f53d53931",
   "metadata": {},
   "outputs": [],
   "source": [
    "import os"
   ]
  },
  {
   "cell_type": "code",
   "execution_count": 2,
   "id": "cd912d3d-c5c8-4093-96af-628b0dce4111",
   "metadata": {},
   "outputs": [],
   "source": [
    "defaultdir = '/gpfs/radev/pi/saxena/aj764'\n",
    "rootdir = f'{defaultdir}/Controls_COOPERATION/'"
   ]
  },
  {
   "cell_type": "code",
   "execution_count": 3,
   "id": "3b3f819d-8b08-458a-8251-c74653a2c344",
   "metadata": {},
   "outputs": [],
   "source": [
    "vids = {}\n",
    "for subdir, dirs, files in os.walk(rootdir):\n",
    "    for f in files:\n",
    "        if f.endswith('mp4'):\n",
    "            if subdir not in vids.keys():\n",
    "                vids[subdir] = []\n",
    "            vids[subdir].append(f)"
   ]
  },
  {
   "cell_type": "code",
   "execution_count": 5,
   "id": "d2150e24-1847-4229-bd0d-059177dfb4e5",
   "metadata": {},
   "outputs": [
    {
     "data": {
      "text/plain": [
       "{'/gpfs/radev/pi/saxena/aj764/Controls_COOPERATION/YOKED': ['050224_COOPTRAIN_LARGEARENA_EB005Y-EB007R_Camera1.mp4',\n",
       "  '050724_COOPYOKE_LARGEARENA_KL005B_Camera3.mp4',\n",
       "  '050724_COOPYOKE_LARGEARENA_KL005Y_Camera3.mp4',\n",
       "  '050724_COOPTRAIN_LARGEARENA_KL006R-KL006G_Camera4.mp4',\n",
       "  '050724_COOPTRAIN_LARGEARENA_KL003G-KL003B_Camera1.mp4',\n",
       "  '050224_COOPYOKE_LARGEARENA_EB005Y_Camera2.mp4',\n",
       "  '050224_COOPYOKE_LARGEARENA_EB021R_Camera2.mp4',\n",
       "  '050724_COOPYOKE_LARGEARENA_KL003G_Camera1.mp4',\n",
       "  '050724_COOPTRAIN_LARGEARENA_KL005B-KL005Y_Camera3.mp4',\n",
       "  '050724_COOPYOKE_LARGEARENA_KL004R_Camera2.mp4',\n",
       "  '050224_COOPYOKE_LARGEARENA_EB001R_Camera1.mp4',\n",
       "  '050224_COOPYOKE_LARGEARENA_EB007R_Camera3.mp4',\n",
       "  '050224_COOPTRAIN_LARGEARENA_EEB001R-EB031B_Camera4.mp4',\n",
       "  '050724_COOPYOKE_LARGEARENA_KL003B_Camera1.mp4',\n",
       "  '050724_COOPTRAIN_LARGEARENA_KL004R-KL004G_Camera2.mp4',\n",
       "  '050224_COOPYOKE_LARGEARENA_EB031B_Camera4.mp4',\n",
       "  '050224_COOPTRAIN_LARGEARENA_EEB011Y-EB015R_Camera2.mp4',\n",
       "  '050224_COOPYOKE_LARGEARENA_EB011Y_Camera4.mp4',\n",
       "  '050224_COOPYOKE_LARGEARENA_EB023B_Camera3.mp4',\n",
       "  '050224_COOPTRAIN_LARGEARENA_EB021R-EB023B_Camera3.mp4',\n",
       "  '050224_COOPYOKE_LARGEARENA_EB015R_Camera1.mp4',\n",
       "  '050724_COOPYOKE_LARGEARENA_KL006G_Camera4.mp4',\n",
       "  '050724_COOPYOKE_LARGEARENA_KL006R_Camera4.mp4',\n",
       "  '050724_COOPYOKE_LARGEARENA_KL004G_Camera2.mp4']}"
      ]
     },
     "execution_count": 5,
     "metadata": {},
     "output_type": "execute_result"
    }
   ],
   "source": [
    "vids"
   ]
  },
  {
   "cell_type": "code",
   "execution_count": 6,
   "id": "a036f03f-e060-4b6e-a3ae-22f3a60d0e54",
   "metadata": {},
   "outputs": [],
   "source": [
    "single_vids = {}\n",
    "multi_vids = {}\n",
    "for key, value in vids.items():\n",
    "    single_vids[key] = []\n",
    "    multi_vids[key] = []\n",
    "    for file in value:\n",
    "        if file.endswith('.mp4'):\n",
    "            KL_count = file.count('KL')\n",
    "            EB_count = file.count('EB')\n",
    "            HF_count = file.count('HF')\n",
    "            if KL_count + EB_count + HF_count == 2:\n",
    "                multi_vids[key].append(file)\n",
    "            else:\n",
    "                single_vids[key].append(file)"
   ]
  },
  {
   "cell_type": "code",
   "execution_count": 8,
   "id": "60ddb3dd-504f-4d41-a2e7-68d9dc654382",
   "metadata": {},
   "outputs": [],
   "source": [
    "# split the multi-instance videos into their respective color pairs...\n",
    "color_vids = {}\n",
    "for key, value in multi_vids.items():\n",
    "    for vid in value:\n",
    "        parsed = vid.split('-')\n",
    "        \n",
    "        trial_color = [parsed[0][-1], parsed[1][5]]\n",
    "        trial_key = ''\n",
    "        if 'R' in trial_color:\n",
    "            trial_key += 'R'\n",
    "        if 'G' in trial_color:\n",
    "            trial_key += 'G'\n",
    "        if 'Y' in trial_color:\n",
    "            trial_key += 'Y'\n",
    "        if 'B' in trial_color:\n",
    "            trial_key += 'B'\n",
    "        if trial_key not in color_vids.keys():\n",
    "            color_vids[trial_key] = []\n",
    "        color_vids[trial_key].append(vid)"
   ]
  },
  {
   "cell_type": "code",
   "execution_count": 9,
   "id": "8b467b88-937f-401d-8aea-ec6173aef647",
   "metadata": {},
   "outputs": [
    {
     "data": {
      "text/plain": [
       "{'/gpfs/radev/pi/saxena/aj764/Controls_COOPERATION/YOKED': ['050724_COOPYOKE_LARGEARENA_KL005B_Camera3.mp4',\n",
       "  '050724_COOPYOKE_LARGEARENA_KL005Y_Camera3.mp4',\n",
       "  '050224_COOPYOKE_LARGEARENA_EB005Y_Camera2.mp4',\n",
       "  '050224_COOPYOKE_LARGEARENA_EB021R_Camera2.mp4',\n",
       "  '050724_COOPYOKE_LARGEARENA_KL003G_Camera1.mp4',\n",
       "  '050724_COOPYOKE_LARGEARENA_KL004R_Camera2.mp4',\n",
       "  '050224_COOPYOKE_LARGEARENA_EB001R_Camera1.mp4',\n",
       "  '050224_COOPYOKE_LARGEARENA_EB007R_Camera3.mp4',\n",
       "  '050724_COOPYOKE_LARGEARENA_KL003B_Camera1.mp4',\n",
       "  '050224_COOPYOKE_LARGEARENA_EB031B_Camera4.mp4',\n",
       "  '050224_COOPYOKE_LARGEARENA_EB011Y_Camera4.mp4',\n",
       "  '050224_COOPYOKE_LARGEARENA_EB023B_Camera3.mp4',\n",
       "  '050224_COOPYOKE_LARGEARENA_EB015R_Camera1.mp4',\n",
       "  '050724_COOPYOKE_LARGEARENA_KL006G_Camera4.mp4',\n",
       "  '050724_COOPYOKE_LARGEARENA_KL006R_Camera4.mp4',\n",
       "  '050724_COOPYOKE_LARGEARENA_KL004G_Camera2.mp4']}"
      ]
     },
     "execution_count": 9,
     "metadata": {},
     "output_type": "execute_result"
    }
   ],
   "source": [
    "single_vids"
   ]
  },
  {
   "cell_type": "code",
   "execution_count": 10,
   "id": "a13df21e-5452-42ae-b1ac-af17e02e76b7",
   "metadata": {},
   "outputs": [
    {
     "data": {
      "text/plain": [
       "{'RY': ['050224_COOPTRAIN_LARGEARENA_EB005Y-EB007R_Camera1.mp4',\n",
       "  '050224_COOPTRAIN_LARGEARENA_EEB011Y-EB015R_Camera2.mp4'],\n",
       " 'RG': ['050724_COOPTRAIN_LARGEARENA_KL006R-KL006G_Camera4.mp4',\n",
       "  '050724_COOPTRAIN_LARGEARENA_KL004R-KL004G_Camera2.mp4'],\n",
       " 'GB': ['050724_COOPTRAIN_LARGEARENA_KL003G-KL003B_Camera1.mp4'],\n",
       " 'YB': ['050724_COOPTRAIN_LARGEARENA_KL005B-KL005Y_Camera3.mp4'],\n",
       " 'RB': ['050224_COOPTRAIN_LARGEARENA_EEB001R-EB031B_Camera4.mp4',\n",
       "  '050224_COOPTRAIN_LARGEARENA_EB021R-EB023B_Camera3.mp4']}"
      ]
     },
     "execution_count": 10,
     "metadata": {},
     "output_type": "execute_result"
    }
   ],
   "source": [
    "color_vids"
   ]
  },
  {
   "cell_type": "code",
   "execution_count": 21,
   "id": "ef09378f-e725-4372-9179-61b7d52fdcbe",
   "metadata": {},
   "outputs": [],
   "source": [
    "start_command = f'module load miniconda; conda activate sleap; cd {defaultdir};'\n",
    "# model = 'Tracking/SLEAP/models/240808_075503.single_instance.n=720'\n",
    "model = 'Tracking/DLC_SingleAnimal/SingleAnimal-V1-2024-07-16/SLEAP/models/240808_075503.single_instance.n=720'"
   ]
  },
  {
   "cell_type": "code",
   "execution_count": 22,
   "id": "8c5b5390-48e2-4ae7-a002-5d0a66dd25d7",
   "metadata": {},
   "outputs": [],
   "source": [
    "command_lines = ''\n",
    "for i, session in enumerate(single_vids.keys()): \n",
    "    video_list = single_vids[session]\n",
    "    output_path = list(single_vids.keys())[0] + '/' + 'Tracking'\n",
    "\n",
    "    # adds command for every video that doesn't have a corresponding prediction\n",
    "    for video in video_list:\n",
    "        video_path = f'{session}/{video}'\n",
    "        output_file = video[:-3] + 'predictions.'\n",
    "        if not os.path.isfile(output_path + '/slp/' + output_file + 'slp'):\n",
    "            track_command = f'sleap-track \"{video_path}\" --first-gpu -o \"{output_path + '/slp/' + output_file + 'slp'}\" -m \"{model}\"/'\n",
    "            convert_command = f'; sleap-convert --format analysis -o \"{output_path + '/h5/' + output_file + 'h5'}\" \"{output_path + '/slp/' + output_file + 'slp'}\"'\n",
    "            command_lines += (start_command + track_command + convert_command + '\\n')"
   ]
  },
  {
   "cell_type": "code",
   "execution_count": 14,
   "id": "fc7f8569-a724-4395-944a-0509a252187a",
   "metadata": {},
   "outputs": [],
   "source": [
    "start_command = f'module load miniconda; conda activate sleap; cd {defaultdir};'\n",
    "\n",
    "colors = list(color_vids.keys())\n",
    "colors.remove('GB')\n",
    "centroid_dict = {'YB':'Tracking/DLC_Pairs/YellowBlue-V1-2024-07-23/SLEAP/models/250202_164327.centroid', 'RY':'Nina_Model_Testing/Red-Yellow/models/250225_122400.centroid', 'RG':'Nina_Model_Testing/Red-Green/models/250220_172128.centroid', 'RB':'Nina_Model_Testing/Red-Blue/models/250309_231434.centroid', 'GY':'Nina_Model_Testing/Green-Yellow/models/250309_231459.centroid'}\n",
    "topdown_dict = {'YB':'Tracking/DLC_Pairs/YellowBlue-V1-2024-07-23/SLEAP/models/250202_164327.multi_class_topdown', 'RY':'Nina_Model_Testing/Red-Yellow/models/250225_122400.multi_class_topdown', 'RG':'Nina_Model_Testing/Red-Green/models/250220_172128.multi_class_topdown', 'RB':'Nina_Model_Testing/Red-Blue/models/250309_231434.multi_class_topdown', 'GY':'Nina_Model_Testing/Green-Yellow/models/250309_231459.multi_class_topdown'}"
   ]
  },
  {
   "cell_type": "code",
   "execution_count": 32,
   "id": "7b6c211c-8b9d-40ef-9c0e-021f53a5595f",
   "metadata": {},
   "outputs": [],
   "source": [
    "command_lines = ''\n",
    "for color, video_list in color_vids.items(): \n",
    "    if color != 'GB':\n",
    "        output_path = list(single_vids.keys())[0] + '/' + 'Tracking'\n",
    "    \n",
    "        # adds command for every video that doesn't have a corresponding prediction\n",
    "        for video in video_list:\n",
    "            video_path = f'{session}/{video}'\n",
    "            output_file = video[:-3] + 'predictions.'\n",
    "            centroid_model = centroid_dict[color]\n",
    "            topdown_model = topdown_dict[color]\n",
    "                        \n",
    "            if not os.path.isfile(output_path + '/slp/' + output_file + 'slp'):\n",
    "                track_command = f'sleap-track \"{video_path}\" --first-gpu -o \"{output_path + '/slp/' + output_file + 'slp'}\" -m \"{centroid_model}\" -m \"{topdown_model}\"'\n",
    "                convert_command = f'; sleap-convert --format analysis -o \"{output_path + '/h5/' + output_file + 'h5'}\" \"{output_path + '/slp/' + output_file + 'slp'}\"'\n",
    "                command_lines += (start_command + track_command + convert_command + '\\n')"
   ]
  },
  {
   "cell_type": "code",
   "execution_count": 44,
   "id": "921d6cfb-9850-4ea7-a440-397334d16c84",
   "metadata": {},
   "outputs": [],
   "source": [
    "jobdir = '/gpfs/radev/project/saxena/aj764/ood/projects/default/'\n",
    "NUM_BATCH_JOBS = 'coop_controls'"
   ]
  },
  {
   "cell_type": "code",
   "execution_count": null,
   "id": "1446d41e-5e37-485f-a162-25b8245b3bb5",
   "metadata": {},
   "outputs": [],
   "source": [
    "commanddir = jobdir + str(NUM_BATCH_JOBS)\n",
    "if not os.path.isdir(commanddir): \n",
    "    os.mkdir(commanddir)\n",
    "with open(f\"{commanddir}/single_vids_job.txt\", \"w\") as file:\n",
    "    file.write(command_lines) "
   ]
  },
  {
   "cell_type": "code",
   "execution_count": 56,
   "id": "deb410c5-20db-4c5d-bb54-7abe628745fd",
   "metadata": {},
   "outputs": [
    {
     "name": "stdout",
     "output_type": "stream",
     "text": [
      "number of vid files: 24\n",
      "number of slp files: 23\n",
      "number of h5 files: 23\n",
      "percent of videos done: 95.83% \n"
     ]
    }
   ],
   "source": [
    "print(f'number of vid files: {len(vids[list(single_vids.keys())[0]])}')\n",
    "print(f'number of slp files: {len(os.listdir(output_path + '/slp'))}')\n",
    "print(f'number of h5 files: {len(os.listdir(output_path + '/h5'))}')\n",
    "print(f'percent of videos done: {round((len(os.listdir(output_path + '/slp')) / len(vids[list(single_vids.keys())[0]])) * 100, 2)}% ')"
   ]
  },
  {
   "cell_type": "code",
   "execution_count": 43,
   "id": "25caff3c-f1b6-4e7d-b183-c41053461351",
   "metadata": {},
   "outputs": [],
   "source": [
    "x = os.listdir(output_path + '/slp')"
   ]
  },
  {
   "cell_type": "code",
   "execution_count": 45,
   "id": "038d6e56-7b7f-4f9d-94e4-841c10351c0c",
   "metadata": {},
   "outputs": [
    {
     "name": "stdout",
     "output_type": "stream",
     "text": [
      "050724_COOPTRAIN_LARGEARENA_KL003G-KL003B_Camera1.mp4\n"
     ]
    }
   ],
   "source": [
    "for key, value in color_vids.items():\n",
    "    for vid in value:\n",
    "        if vid[:-4] + '.predictions.slp' not in x:\n",
    "            vid\n",
    "            print(vid)"
   ]
  },
  {
   "cell_type": "code",
   "execution_count": null,
   "id": "eff74c23-1f85-4591-ab1e-bd34261c5bf7",
   "metadata": {},
   "outputs": [],
   "source": []
  }
 ],
 "metadata": {
  "kernelspec": {
   "display_name": "Python 3 (ipykernel)",
   "language": "python",
   "name": "python3"
  },
  "language_info": {
   "codemirror_mode": {
    "name": "ipython",
    "version": 3
   },
   "file_extension": ".py",
   "mimetype": "text/x-python",
   "name": "python",
   "nbconvert_exporter": "python",
   "pygments_lexer": "ipython3",
   "version": "3.12.5"
  }
 },
 "nbformat": 4,
 "nbformat_minor": 5
}

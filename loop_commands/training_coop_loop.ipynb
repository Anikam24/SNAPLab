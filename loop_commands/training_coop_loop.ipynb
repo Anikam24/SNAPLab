{
 "cells": [
  {
   "cell_type": "markdown",
   "id": "3d2ce3b0-18c5-4c67-a28c-bd99de1dd16e",
   "metadata": {},
   "source": [
    "SUMMARY: Will find all of the multi instance videos in the PairedTestingSessions directory that don't have a corresponding predictions file and then creates a job txt file that will save to the misha jobs folder"
   ]
  },
  {
   "cell_type": "code",
   "execution_count": 1,
   "id": "9d0db841-3d8d-4aa8-a603-27f4924db311",
   "metadata": {},
   "outputs": [],
   "source": [
    "NUM_BATCH_JOBS = 'training_coop_track' \n",
    "mb_per_sec = 0.20447582936507938 # with partition=gpu, cpus-per-gpu=8, mem-per-cpu=10G, gpus=a40:1"
   ]
  },
  {
   "cell_type": "code",
   "execution_count": 2,
   "id": "61ed4884-4655-4306-afa0-500f36b8c07f",
   "metadata": {},
   "outputs": [],
   "source": [
    "import os\n",
    "import random"
   ]
  },
  {
   "cell_type": "code",
   "execution_count": 3,
   "id": "e09fb2ae-d5cd-4da1-a15e-f832003d87fd",
   "metadata": {},
   "outputs": [],
   "source": [
    "defaultdir = '/gpfs/radev/pi/saxena/aj764'\n",
    "rootdir = f'{defaultdir}/Training_COOPERATION/'"
   ]
  },
  {
   "cell_type": "markdown",
   "id": "2609ddee-7747-4de5-b018-0d7ceb2fbe13",
   "metadata": {},
   "source": [
    "Compiles a list of all of the sessions in PairedTestingSessions that have a Videos folder in them"
   ]
  },
  {
   "cell_type": "code",
   "execution_count": 4,
   "id": "f3ec5448-a2b1-4cee-8119-32a5cb2e8f06",
   "metadata": {},
   "outputs": [],
   "source": [
    "vid_subdirs = []\n",
    "for subdir, dirs, files in os.walk(rootdir):\n",
    "    vid_subdirs.append(subdir)\n",
    "vid_subdirs = sorted(vid_subdirs)"
   ]
  },
  {
   "cell_type": "code",
   "execution_count": 5,
   "id": "58d854de-5c8c-44a2-b29e-4a65a951c52e",
   "metadata": {},
   "outputs": [],
   "source": [
    "multi_vids = {}\n",
    "for vids in vid_subdirs:\n",
    "    files = os.listdir(vids)\n",
    "    cut_vids = vids[28:]\n",
    "    multi_vids[cut_vids] = []\n",
    "    for file in files:\n",
    "        if file.endswith('.mp4'): # and int(file[:2]) >= 4:\n",
    "            multi_vids[cut_vids].append(file)\n",
    "            "
   ]
  },
  {
   "cell_type": "code",
   "execution_count": 6,
   "id": "94eaa2b8-b375-42cb-9f29-f4fdf90a9023",
   "metadata": {},
   "outputs": [
    {
     "name": "stdout",
     "output_type": "stream",
     "text": [
      "There are 212 multi instance videos\n"
     ]
    }
   ],
   "source": [
    "len_tot = 0\n",
    "for key, value in multi_vids.items():\n",
    "    len_tot += len(value)\n",
    "print(f'There are {len_tot} multi instance videos')"
   ]
  },
  {
   "cell_type": "code",
   "execution_count": 7,
   "id": "124b212b-c029-4d44-a2a0-ecefbdac4d65",
   "metadata": {},
   "outputs": [],
   "source": [
    "# split the multi-instance videos into their respective color pairs...\n",
    "color_vids = {}\n",
    "for key, value in multi_vids.items():\n",
    "    for vid in value:\n",
    "        parsed = vid.split('-')\n",
    "        \n",
    "        trial_color = [parsed[0][-1], parsed[1][5]]\n",
    "        trial_key = ''\n",
    "        if 'R' in trial_color:\n",
    "            trial_key += 'R'\n",
    "        if 'G' in trial_color:\n",
    "            trial_key += 'G'\n",
    "        if 'Y' in trial_color:\n",
    "            trial_key += 'Y'\n",
    "        if 'B' in trial_color:\n",
    "            trial_key += 'B'\n",
    "        if trial_key not in color_vids.keys():\n",
    "            color_vids[trial_key] = []\n",
    "        color_vids[trial_key].append(vid)"
   ]
  },
  {
   "cell_type": "code",
   "execution_count": 8,
   "id": "bc818315-f1e7-400b-b34f-a7fd4ae779be",
   "metadata": {},
   "outputs": [
    {
     "name": "stdout",
     "output_type": "stream",
     "text": [
      "There are 69 videos from YB color pair\n",
      "There are 18 videos from GB color pair\n",
      "There are 28 videos from RG color pair\n",
      "There are 19 videos from GY color pair\n",
      "There are 32 videos from RB color pair\n",
      "There are 46 videos from RY color pair\n",
      "\n",
      "\n",
      "There are 212 multi instance videos\n"
     ]
    }
   ],
   "source": [
    "len_tot = 0\n",
    "for key, value in color_vids.items():\n",
    "    print(f'There are {len(value)} videos from {key} color pair')\n",
    "    len_tot += len(value)\n",
    "print('\\n')\n",
    "print(f'There are {len_tot} multi instance videos')"
   ]
  },
  {
   "cell_type": "markdown",
   "id": "83bc049b-7415-410a-a2c3-2ba05dc8dc48",
   "metadata": {},
   "source": [
    "Creates a string composed of all of the necessary commands to run inference on all multi instance videos for a particular color that don't have a corresponding predictions file."
   ]
  },
  {
   "cell_type": "code",
   "execution_count": 34,
   "id": "b6dfefec-1f3e-47e5-9035-73b8561f477f",
   "metadata": {},
   "outputs": [],
   "source": [
    "start_command = f'module load miniconda; conda activate sleap; cd {defaultdir};'\n",
    "centroid_model = 'Tracking/DLC_Pairs/YellowBlue-V1-2024-07-23/SLEAP/models/250202_164327.centroid'\n",
    "topdown_model = 'Tracking/DLC_Pairs/YellowBlue-V1-2024-07-23/SLEAP/models/250202_164327.multi_class_topdown'\n",
    "color_pair = 'YB' # chose from one of these pairs ['RY', 'YB', 'GB', 'GY', 'RB', 'RG']"
   ]
  },
  {
   "cell_type": "code",
   "execution_count": 52,
   "id": "4fbe33de-9e79-4fc6-8a10-4fd33d60d528",
   "metadata": {},
   "outputs": [],
   "source": [
    "command_lines = ''\n",
    "for i, session in enumerate(multi_vids.keys()): \n",
    "    video_list = multi_vids[session]\n",
    "    output_path = defaultdir + '/' + session + '/Tracking'\n",
    "\n",
    "    # makes directory for tracking output if not already made\n",
    "    if not os.path.isdir(output_path):\n",
    "        os.mkdir(output_path)\n",
    "    if not os.path.isdir(output_path + '/slp'):\n",
    "        os.mkdir(output_path + '/slp')\n",
    "    if not os.path.isdir(output_path + '/h5'):\n",
    "        os.mkdir(output_path + '/h5')\n",
    "\n",
    "    # adds command for every video that doesn't have a corresponding prediction\n",
    "    for video in video_list:\n",
    "        if video in color_vids[color_pair]:\n",
    "            video_path = f'{session}/{video}'\n",
    "            output_file = video[:-3] + 'predictions.'\n",
    "            if not os.path.isfile(output_path + '/slp/' + output_file + 'slp'):\n",
    "                track_command = f'sleap-track \"{video_path}\" --first-gpu -o \"{output_path + '/slp/' + output_file + 'slp'}\" -m \"{centroid_model}\" -m \"{topdown_model}\"'\n",
    "                convert_command = f'; sleap-convert --format analysis -o \"{output_path + '/h5/' + output_file + 'h5'}\" \"{output_path + '/slp/' + output_file + 'slp'}\"'\n",
    "                command_lines += (start_command + track_command + convert_command + '\\n')"
   ]
  },
  {
   "cell_type": "markdown",
   "id": "b129af72-369a-4346-b4ea-fbf5de7b786f",
   "metadata": {},
   "source": [
    "Saves the commands to a txt file in the job directory."
   ]
  },
  {
   "cell_type": "code",
   "execution_count": 53,
   "id": "56be4668-246b-4862-baea-c6109d402e89",
   "metadata": {},
   "outputs": [],
   "source": [
    "jobdir = '/gpfs/radev/project/saxena/aj764/ood/projects/default/'"
   ]
  },
  {
   "cell_type": "code",
   "execution_count": 54,
   "id": "a11567c9-6563-4385-a84e-e2ead4f8d9df",
   "metadata": {},
   "outputs": [],
   "source": [
    "commanddir = jobdir + str(NUM_BATCH_JOBS)\n",
    "if not os.path.isdir(commanddir): \n",
    "    os.mkdir(commanddir)\n",
    "with open(f\"{commanddir}/{color_pair}_vids_job.txt\", \"w\") as file:\n",
    "    file.write(command_lines) "
   ]
  },
  {
   "cell_type": "markdown",
   "id": "ec9b0932-dc04-488c-850a-deb9ef43a90f",
   "metadata": {},
   "source": [
    "Keeps track of which videos have predictions and which don't"
   ]
  },
  {
   "cell_type": "code",
   "execution_count": 12,
   "id": "daaf852b-7270-4464-8726-76f149a66092",
   "metadata": {},
   "outputs": [],
   "source": [
    "done_vids = []\n",
    "done_vids_size = []\n",
    "not_done_vids = []\n",
    "not_done_vids_size = []\n",
    "for i, session in enumerate(multi_vids.keys()):\n",
    "    video_list = multi_vids[session]\n",
    "    output_path = defaultdir + '/' + session + '/Tracking'\n",
    "        \n",
    "    for video in video_list:\n",
    "        video_path = f'{session}/{video}'\n",
    "        output_file = video[:-3] + 'predictions.'\n",
    "        if os.path.isfile(output_path + '/slp/' + output_file + 'slp') and os.path.isfile(output_path + '/h5/' + output_file + 'h5'):\n",
    "            done_vids.append(session + '/' + video)\n",
    "            done_vids_size.append((os.path.getsize(defaultdir + '/' + session + '/' + video)) / 10 ** 6)\n",
    "        else:\n",
    "            not_done_vids.append(session + '/' + video)\n",
    "            not_done_vids_size.append((os.path.getsize(defaultdir + '/' + session + '/' + video)) / 10 ** 6)\n",
    "num_done = len(done_vids)\n",
    "num_not_done = len(not_done_vids)\n",
    "time_done = sum(done_vids_size) / mb_per_sec\n",
    "time_not_done = sum(not_done_vids_size) / mb_per_sec"
   ]
  },
  {
   "cell_type": "code",
   "execution_count": 13,
   "id": "c2418a6e-65be-4f31-8ea2-e0d4d6cc74f2",
   "metadata": {},
   "outputs": [],
   "source": [
    "def seconds(secs):\n",
    "    days = secs//86400\n",
    "    hours = (secs - days*86400)//3600\n",
    "    minutes = (secs - days*86400 - hours*3600)//60\n",
    "    seconds = secs - days*86400 - hours*3600 - minutes*60\n",
    "    result = (\"{0} day{1}, \".format(days, \"s\" if days!=1 else \"\") if days else \"\") + \\\n",
    "    (\"{0} hour{1}, \".format(hours, \"s\" if hours!=1 else \"\") if hours else \"\") + \\\n",
    "    (\"{0} minute{1}, \".format(minutes, \"s\" if minutes!=1 else \"\") if minutes else \"\") + \\\n",
    "    (\"{0} second{1}, \".format(seconds, \"s\" if seconds!=1 else \"\") if seconds else \"\")\n",
    "    return result[:-2]"
   ]
  },
  {
   "cell_type": "code",
   "execution_count": 14,
   "id": "6e7429c2-3554-4e6a-bb79-57a066319ef6",
   "metadata": {},
   "outputs": [
    {
     "name": "stdout",
     "output_type": "stream",
     "text": [
      "46.9% of videos have been tracked (68 tracked videos, 144 untracked videos)\n",
      "compute time of tracked videos: 5.0 days, 13.0 hours, 13.0 minutes, 4.423740928410552 seconds\n",
      "compute time of untracked videos: 12.0 days, 6.0 hours, 1.0 minute, 1.6412856185343117 seconds\n",
      "realish time of tracked videos: 1.0 day, 9.0 hours, 18.0 minutes, 16.105935232102638 seconds\n",
      "realish time of untracked videos: 3.0 days, 1.0 hour, 30.0 minutes, 15.410321404633578 seconds\n"
     ]
    }
   ],
   "source": [
    "print(f'{round((len(done_vids) / (len(not_done_vids)+1)) * 100, 2)}% of videos have been tracked ({len(done_vids)} tracked videos, {len(not_done_vids)} untracked videos)')   \n",
    "print(f'compute time of tracked videos: {seconds(time_done)}')\n",
    "print(f'compute time of untracked videos: {seconds(time_not_done)}')\n",
    "print(f'realish time of tracked videos: {seconds(time_done / 4)}')\n",
    "print(f'realish time of untracked videos: {seconds(time_not_done / 4)}')"
   ]
  },
  {
   "cell_type": "code",
   "execution_count": 17,
   "id": "35af0295-0d13-4729-9439-8ee040753ca8",
   "metadata": {},
   "outputs": [
    {
     "data": {
      "text/plain": [
       "'Training_COOPERATION/070524/070524_COOPTRAIN_LARGEARENA_HF003B-HF004Y_Camera2.mp4'"
      ]
     },
     "execution_count": 17,
     "metadata": {},
     "output_type": "execute_result"
    }
   ],
   "source": [
    "random.choice(done_vids)"
   ]
  },
  {
   "cell_type": "code",
   "execution_count": 19,
   "id": "9127846d-2729-4a4d-baf5-a22219c48a48",
   "metadata": {},
   "outputs": [
    {
     "data": {
      "text/plain": [
       "28"
      ]
     },
     "execution_count": 19,
     "metadata": {},
     "output_type": "execute_result"
    }
   ],
   "source": [
    "len('Training_COOPERATION/070524/')"
   ]
  },
  {
   "cell_type": "code",
   "execution_count": 22,
   "id": "5e658762-4281-4403-82f7-2fb66203f898",
   "metadata": {},
   "outputs": [
    {
     "name": "stdout",
     "output_type": "stream",
     "text": [
      "041524_COOPTRAIN_LARGEARENA_EB009B-EB019Y_Camera2.mp4\n"
     ]
    }
   ],
   "source": [
    "color_pair = 'YB'\n",
    "match = False\n",
    "# for vid in color_vids[color_pair]: \n",
    "for vid in color_vids[color_pair]:\n",
    "    match = False\n",
    "    for second_vid in done_vids:\n",
    "        if second_vid[28:] == vid:\n",
    "            match = True\n",
    "    if not match:\n",
    "        print(vid)\n",
    "    "
   ]
  },
  {
   "cell_type": "code",
   "execution_count": null,
   "id": "77f7eafc-7322-48d7-a448-035e3188ddce",
   "metadata": {},
   "outputs": [],
   "source": []
  }
 ],
 "metadata": {
  "kernelspec": {
   "display_name": "Python 3 (ipykernel)",
   "language": "python",
   "name": "python3"
  },
  "language_info": {
   "codemirror_mode": {
    "name": "ipython",
    "version": 3
   },
   "file_extension": ".py",
   "mimetype": "text/x-python",
   "name": "python",
   "nbconvert_exporter": "python",
   "pygments_lexer": "ipython3",
   "version": "3.12.5"
  }
 },
 "nbformat": 4,
 "nbformat_minor": 5
}

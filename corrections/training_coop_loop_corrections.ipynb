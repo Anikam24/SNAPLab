{
 "cells": [
  {
   "cell_type": "markdown",
   "id": "3d2ce3b0-18c5-4c67-a28c-bd99de1dd16e",
   "metadata": {},
   "source": [
    "## SUMMARY: Will correct the h5 prediction files for all of the training cooperation videos for a specified color pair"
   ]
  },
  {
   "cell_type": "markdown",
   "id": "d6e1048a-e7ed-45c6-aaea-6bca2e60ef17",
   "metadata": {},
   "source": [
    "# get color vids"
   ]
  },
  {
   "cell_type": "code",
   "execution_count": 3,
   "id": "61ed4884-4655-4306-afa0-500f36b8c07f",
   "metadata": {},
   "outputs": [],
   "source": [
    "import os\n",
    "import random\n",
    "import h5py\n",
    "import numpy as np\n",
    "import time\n",
    "\n",
    "from utils import find_node_velocity, get_stats, fill_missing, graph_vels, nan_vals"
   ]
  },
  {
   "cell_type": "code",
   "execution_count": 4,
   "id": "e09fb2ae-d5cd-4da1-a15e-f832003d87fd",
   "metadata": {},
   "outputs": [],
   "source": [
    "defaultdir = '/gpfs/radev/pi/saxena/aj764'\n",
    "rootdir = f'{defaultdir}/Training_COOPERATION/'"
   ]
  },
  {
   "cell_type": "markdown",
   "id": "2609ddee-7747-4de5-b018-0d7ceb2fbe13",
   "metadata": {},
   "source": [
    "Compiles a list of all of the sessions in PairedTestingSessions that have a Videos folder in them"
   ]
  },
  {
   "cell_type": "code",
   "execution_count": 5,
   "id": "f3ec5448-a2b1-4cee-8119-32a5cb2e8f06",
   "metadata": {},
   "outputs": [],
   "source": [
    "vid_subdirs = []\n",
    "for subdir, dirs, files in os.walk(rootdir):\n",
    "    vid_subdirs.append(subdir)\n",
    "vid_subdirs = sorted(vid_subdirs)"
   ]
  },
  {
   "cell_type": "markdown",
   "id": "71e4752a-8577-4a54-bf0c-1d591811c85e",
   "metadata": {},
   "source": [
    "Seperates all of the videos into single instance videos and multi instance videos (and takes out videos from before April)."
   ]
  },
  {
   "cell_type": "code",
   "execution_count": 6,
   "id": "58d854de-5c8c-44a2-b29e-4a65a951c52e",
   "metadata": {},
   "outputs": [],
   "source": [
    "multi_vids = {}\n",
    "for vids in vid_subdirs:\n",
    "    files = os.listdir(vids)\n",
    "    cut_vids = vids[28:]\n",
    "    multi_vids[cut_vids] = []\n",
    "    for file in files:\n",
    "        if file.endswith('.mp4'): # and int(file[:2]) >= 4:\n",
    "            multi_vids[cut_vids].append(file)\n",
    "            "
   ]
  },
  {
   "cell_type": "code",
   "execution_count": 7,
   "id": "94eaa2b8-b375-42cb-9f29-f4fdf90a9023",
   "metadata": {},
   "outputs": [
    {
     "name": "stdout",
     "output_type": "stream",
     "text": [
      "There are 360 multi instance videos\n"
     ]
    }
   ],
   "source": [
    "multi_len_tot = 0\n",
    "for key, value in multi_vids.items():\n",
    "    multi_len_tot += len(value)\n",
    "print(f'There are {multi_len_tot} multi instance videos')"
   ]
  },
  {
   "cell_type": "code",
   "execution_count": 8,
   "id": "c13c26a2-135f-4714-af67-6664a4419fb4",
   "metadata": {},
   "outputs": [],
   "source": [
    "# split the multi-instance videos into their respective color pairs...\n",
    "color_vids = {}\n",
    "for key, value in multi_vids.items():\n",
    "    for vid in value:\n",
    "        parsed = vid.split('-')\n",
    "        \n",
    "        trial_color = [parsed[0][-1], parsed[1][5]]\n",
    "        trial_key = ''\n",
    "        if 'R' in trial_color:\n",
    "            trial_key += 'R'\n",
    "        if 'G' in trial_color:\n",
    "            trial_key += 'G'\n",
    "        if 'Y' in trial_color:\n",
    "            trial_key += 'Y'\n",
    "        if 'B' in trial_color:\n",
    "            trial_key += 'B'\n",
    "        if trial_key not in color_vids.keys():\n",
    "            color_vids[trial_key] = []\n",
    "        color_vids[trial_key].append(vid)"
   ]
  },
  {
   "cell_type": "code",
   "execution_count": 9,
   "id": "03cf1aa9-50df-489c-a752-5d9ffb5fe684",
   "metadata": {},
   "outputs": [
    {
     "name": "stdout",
     "output_type": "stream",
     "text": [
      "There are 132 videos from YB color pair\n",
      "There are 18 videos from GB color pair\n",
      "There are 103 videos from RG color pair\n",
      "There are 19 videos from GY color pair\n",
      "There are 32 videos from RB color pair\n",
      "There are 46 videos from RY color pair\n",
      "There are 10 videos from B color pair\n",
      "\n",
      "\n",
      "There are 360 multi instance videos\n"
     ]
    }
   ],
   "source": [
    "len_tot = 0\n",
    "for key, value in color_vids.items():\n",
    "    print(f'There are {len(value)} videos from {key} color pair')\n",
    "    len_tot += len(value)\n",
    "print('\\n')\n",
    "print(f'There are {len_tot} multi instance videos')"
   ]
  },
  {
   "cell_type": "markdown",
   "id": "a8b54ea6-405c-4b20-9abc-a2c0601f4342",
   "metadata": {},
   "source": [
    "# fills in missing vals"
   ]
  },
  {
   "cell_type": "code",
   "execution_count": 20,
   "id": "ea19671a-3ff7-432a-9af4-979bef73b60c",
   "metadata": {},
   "outputs": [],
   "source": [
    "CHECK = False\n",
    "actually_fill = False # will also have to change file open to \"r+\"\n",
    "color_pair = 'GY'\n",
    "max_rat = 70"
   ]
  },
  {
   "cell_type": "code",
   "execution_count": 21,
   "id": "b5b796c8-4dfc-4d03-b2e2-317e79ac11bc",
   "metadata": {},
   "outputs": [
    {
     "name": "stdout",
     "output_type": "stream",
     "text": [
      "time elapse: 125.38346433639526\n"
     ]
    }
   ],
   "source": [
    "start_time = time.time()\n",
    "\n",
    "all_errors = np.empty((len(color_vids[color_pair]), 5))\n",
    "all_vids = []\n",
    "\n",
    "count = 0\n",
    "for i, session in enumerate(multi_vids.keys()): \n",
    "    video_list = multi_vids[session]\n",
    "    analysis_path = defaultdir + '/' + session + '/Tracking/h5/'\n",
    "    \n",
    "    for video in video_list:\n",
    "        if not (int(session[-6:-4]) > 7 or int(session[-2:]) > 24): # to not get collar vids!!\n",
    "            if video in color_vids[color_pair]:\n",
    "                # open analysis file\n",
    "                analysis_file = analysis_path + video[:-3] + 'predictions.h5'\n",
    "                with h5py.File(analysis_file,'r') as f:\n",
    "                    locations = f[\"tracks\"][:].T \n",
    "        \n",
    "                    # find FIRST nan values\n",
    "                    intial = nan_vals(locations)\n",
    "                    all_errors[count][0] = intial\n",
    "        \n",
    "                    # just to check you haven't already done this vid or it isn't empty\n",
    "                    if intial != 0:\n",
    "                        # take out positional outliers\n",
    "                        for rat in range(locations.shape[-1]): # for each rat (not actually necessary, the dims work out without this loop but I don't feel like thinking abt that)\n",
    "                            all_vels = {}\n",
    "                            for node in range(locations.shape[1]): # for each node\n",
    "                                # find the velocities\n",
    "                                all_vels[node] = find_node_velocity(locations[:, node, :,  rat:rat+1])\n",
    "                            \n",
    "                                # replace outliers in locations with nan\n",
    "                                nan_index = [i for i in range(len(all_vels[node])) if (all_vels[node][i] > max_rat)]\n",
    "                                for index in nan_index:\n",
    "                                    locations[index + 1, node, 0, rat], locations[index + 1, node, 0, rat] = np.nan, np.nan\n",
    "            \n",
    "                        # find SECOND nan values\n",
    "                        all_errors[count][1] = nan_vals(locations)\n",
    "                        \n",
    "            \n",
    "                        # fill in missing locations\n",
    "                        # print(f'video name: {video}')\n",
    "                        new_locations = fill_missing(locations)\n",
    "                        if actually_fill:\n",
    "                            f[\"tracks\"][:] = new_locations.T\n",
    "        \n",
    "                        # finds THIRD nan values\n",
    "                        all_errors[count][2] = nan_vals(new_locations)\n",
    "    \n",
    "                        # take out positional outliers again (to make sure we aren't filling in stupid stuff...?\n",
    "                        all_vels = {}\n",
    "                        for node in range(locations.shape[1]):\n",
    "                            # find the velocities\n",
    "                            all_vels[node] = find_node_velocity(new_locations[:, node, :])\n",
    "                        \n",
    "                            # replace outliers in locations with nan\n",
    "                            nan_index = [i for i in range(len(all_vels[node])) if (all_vels[node][i] > max_rat)]\n",
    "                            for index in nan_index:\n",
    "                                new_locations[index + 1, node, 0], new_locations[index + 1, node, 0] = np.nan, np.nan\n",
    "                       \n",
    "                        # finds FOURTH nan values\n",
    "                        all_errors[count][3] = nan_vals(new_locations)\n",
    "                        all_vids.append(video)\n",
    "                        count += 1\n",
    "            \n",
    "                        # if you want to check the nan/fill values for a each video\n",
    "                        if False:\n",
    "                            # print(f'video name: {video}')\n",
    "                            print(f'intial nan: {round(intial, 2)} %, after out nan: {round(after_out, 2)} %, final nan: {round(after_fill, 2)} %, after check nan: {round(after_check, 2)} %')\n",
    "print(f'time elapse: {time.time() - start_time}')"
   ]
  },
  {
   "cell_type": "code",
   "execution_count": 22,
   "id": "97caac85-2076-43cc-8113-ec8ebc1fd404",
   "metadata": {},
   "outputs": [
    {
     "name": "stdout",
     "output_type": "stream",
     "text": [
      "mean: 39.61304251035633; median: 43.187177073669524; std: 6.356250125247971\n",
      "mean: 41.49972094306441; median: 45.32077630981967; std: 6.386508025424418\n",
      "mean: 0.0; median: 0.0; std: 0.0\n",
      "mean: 5.534987673515754; median: 5.4626244275387; std: 1.1127932581568585\n"
     ]
    }
   ],
   "source": [
    "for i in range(4):\n",
    "    x = all_errors[:, i]\n",
    "    print('mean: ' + str(np.mean(x)) + '; median: ' + str(np.median(x)) + '; std: ' + str(np.std(x)))"
   ]
  },
  {
   "cell_type": "code",
   "execution_count": 23,
   "id": "641bd4f9-a628-45d8-aa94-3d65a81991f8",
   "metadata": {},
   "outputs": [
    {
     "data": {
      "text/plain": [
       "19"
      ]
     },
     "execution_count": 23,
     "metadata": {},
     "output_type": "execute_result"
    }
   ],
   "source": [
    "len(all_vids)"
   ]
  },
  {
   "cell_type": "code",
   "execution_count": 24,
   "id": "c7362efd-43dc-4701-81cb-8a6b390c5ae3",
   "metadata": {},
   "outputs": [],
   "source": [
    "np.save(f'errors/{color_pair}/training_vids.npy', all_vids)\n",
    "np.save(f'errors/{color_pair}/training_errors.npy', all_errors)\n"
   ]
  },
  {
   "cell_type": "code",
   "execution_count": 25,
   "id": "6a26079f-a5e6-4474-9ce7-72d434efbe2c",
   "metadata": {},
   "outputs": [
    {
     "data": {
      "text/plain": [
       "['032924_COOPTRAIN_LARGEARENA_KL007G-KL007Y_Camera3.mp4',\n",
       " '033024_COOPTRAIN_LARGEARENA_KL007G-KL007Y_Camera3.mp4',\n",
       " '033124_COOPTRAIN_LARGEARENA_KL007G-KL007Y_Camera3.mp4',\n",
       " '040124_COOPTRAIN_LARGEARENA_KL007G-KL007Y_Camera3.mp4',\n",
       " '040224_COOPTRAIN_LARGEARENA_KL007G-KL007Y_Camera3.mp4',\n",
       " '040324_COOPTRAIN_LARGEARENA_KL007G-KL007Y_Camera3.mp4',\n",
       " '040424_COOPTRAIN_LARGEARENA_KL007G-KL007Y_Camera3.mp4',\n",
       " '040524_COOPTRAIN_LARGEARENA_KL007G-KL007Y_Camera3.mp4',\n",
       " '040824_COOPTRAIN_LARGEARENA_KL007G-KL007Y_Camera3.mp4',\n",
       " '070224_COOPTRAIN_LARGEARENA_HF006G-HF008Y_Camera1.mp4',\n",
       " '070324_COOPTRAIN_LARGEARENA_HF006G-HF008Y_Camera1.mp4',\n",
       " '070524_COOPTRAIN_LARGEARENA_HF006G-HF008Y_Camera1.mp4',\n",
       " '070824_COOPTRAIN_LARGEARENA_HF006G-HF008Y_Camera1.mp4',\n",
       " '070924_COOPTRAIN_LARGEARENA_HF006G-HF008Y_Camera3.mp4',\n",
       " '071024_COOPTRAIN_LARGEARENA_HF006G-HF008Y.txt_Camera3.mp4',\n",
       " '071124_COOPTRAIN_LARGEARENA_HF006G-HF008Y.txt_Camera3.mp4',\n",
       " '071224_COOPTRAIN_LARGEARENA_HF006G-HF008Y_Camera4.mp4',\n",
       " '071524_COOPTRAIN_LARGEARENA_HF006G-HF008Y_Camera4.mp4',\n",
       " '071624_COOPTRAIN_LARGEARENA_HF006G-HF008Y_Camera3.mp4']"
      ]
     },
     "execution_count": 25,
     "metadata": {},
     "output_type": "execute_result"
    }
   ],
   "source": [
    "all_vids"
   ]
  },
  {
   "cell_type": "code",
   "execution_count": 26,
   "id": "2cff0d82-8f14-42a2-a5c1-a236ed359c1b",
   "metadata": {},
   "outputs": [
    {
     "data": {
      "text/plain": [
       "array([[3.83183883e+001, 4.00854854e+001, 0.00000000e+000,\n",
       "        5.55485812e+000, 1.13333704e-310],\n",
       "       [3.07547475e+001, 3.21647708e+001, 0.00000000e+000,\n",
       "        4.15582314e+000, 4.66433987e-310],\n",
       "       [2.94110523e+001, 3.07021620e+001, 0.00000000e+000,\n",
       "        4.02834843e+000, 1.13333704e-310],\n",
       "       [3.34524053e+001, 3.51129405e+001, 0.00000000e+000,\n",
       "        5.46262443e+000, 1.13333704e-310],\n",
       "       [3.10691504e+001, 3.28946797e+001, 0.00000000e+000,\n",
       "        5.82400975e+000, 1.13333704e-310],\n",
       "       [3.38647953e+001, 3.62458644e+001, 0.00000000e+000,\n",
       "        7.39959092e+000, 1.13333704e-310],\n",
       "       [3.45574708e+001, 3.64400721e+001, 0.00000000e+000,\n",
       "        5.59001840e+000, 1.13333704e-310],\n",
       "       [3.28378145e+001, 3.48468118e+001, 0.00000000e+000,\n",
       "        5.94856573e+000, 1.13333704e-310],\n",
       "       [3.48077821e+001, 3.76995720e+001, 0.00000000e+000,\n",
       "        8.87307940e+000, 1.13333704e-310],\n",
       "       [4.51323593e+001, 4.70417705e+001, 0.00000000e+000,\n",
       "        5.43145681e+000, 1.13333704e-310],\n",
       "       [4.59549988e+001, 4.78183633e+001, 0.00000000e+000,\n",
       "        5.18224751e+000, 1.13333704e-310],\n",
       "       [4.74670099e+001, 4.92766978e+001, 0.00000000e+000,\n",
       "        5.12379307e+000, 1.13333704e-310],\n",
       "       [4.56657089e+001, 4.78034037e+001, 0.00000000e+000,\n",
       "        6.27759973e+000, 1.13333704e-310],\n",
       "       [4.48957078e+001, 4.69425460e+001, 0.00000000e+000,\n",
       "        5.76914370e+000, 1.13333704e-310],\n",
       "       [4.48871974e+001, 4.67166881e+001, 0.00000000e+000,\n",
       "        5.06031774e+000, 1.13333704e-310],\n",
       "       [4.31871771e+001, 4.53207763e+001, 0.00000000e+000,\n",
       "        5.94265709e+000, 1.13333704e-310],\n",
       "       [4.38457893e+001, 4.54335666e+001, 0.00000000e+000,\n",
       "        4.35610812e+000, 1.13333704e-310],\n",
       "       [4.69171022e+001, 4.86364768e+001, 0.00000000e+000,\n",
       "        4.63536405e+000, 1.13333704e-310],\n",
       "       [4.56211504e+001, 4.73120501e+001, 0.00000000e+000,\n",
       "        4.54915966e+000, 3.79442416e-321]])"
      ]
     },
     "execution_count": 26,
     "metadata": {},
     "output_type": "execute_result"
    }
   ],
   "source": [
    "all_errors"
   ]
  },
  {
   "cell_type": "markdown",
   "id": "44fbe955-5fc4-4895-aa47-0396c83e4932",
   "metadata": {},
   "source": [
    "# check our work... (abt 28 vids that I WOULDN'T trust!!)"
   ]
  },
  {
   "cell_type": "code",
   "execution_count": 15,
   "id": "0cf36dc1-6255-4f1f-b6c1-6e30bc909352",
   "metadata": {},
   "outputs": [],
   "source": [
    "x = 69 # len(color_vids[color_pair])"
   ]
  },
  {
   "cell_type": "code",
   "execution_count": 16,
   "id": "b1e1e8db-45bc-49a5-8738-d943192b85fc",
   "metadata": {},
   "outputs": [
    {
     "name": "stdout",
     "output_type": "stream",
     "text": [
      "intial nan: 23.99 %, after out nan: 24.44 %, final nan: 0.0 %\n"
     ]
    }
   ],
   "source": [
    "print(f'intial nan: {round(total_intial_nan / x, 2)} %, after out nan: {round(total_after_out_nan / x, 2)} %, final nan: {round(total_final_nan / x, 2)} %')\n"
   ]
  },
  {
   "cell_type": "code",
   "execution_count": 13,
   "id": "a24b879f-25ef-4897-8191-9b2d59d4e261",
   "metadata": {},
   "outputs": [
    {
     "name": "stdout",
     "output_type": "stream",
     "text": [
      "percent of videos intitially have over 1/5 of values nan: 21.21% \n"
     ]
    }
   ],
   "source": [
    "print(f'percent of videos intitially have over 1/5 of values nan: {round(100 * len(bad_vids) / len(color_vids[color_pair]) ,2)}% ')"
   ]
  },
  {
   "cell_type": "code",
   "execution_count": 18,
   "id": "72cdbd21-1704-4a07-b26f-d151b9f842f3",
   "metadata": {},
   "outputs": [
    {
     "data": {
      "text/plain": [
       "['032824_COOPTRAIN_LARGEARENA_KL002B-KL002Y_Camera2.mp4',\n",
       " '032824_COOPTRAIN_LARGEARENA_KL001B-KL001Y_Camera1.mp4',\n",
       " '040124_COOPTRAIN_LARGEARENA_KL001B-KL001Y_Camera1.mp4',\n",
       " '040324_COOPTRAIN_LARGEARENA_KL001B-KL001Y_Camera1.mp4',\n",
       " '040824_COOPTRAIN_LARGEARENA_KL005B-KL005Y_Camera1.mp4',\n",
       " '041024_COOPTRAIN_LARGEARENA_EB031B-EB033Y_Camera3.mp4',\n",
       " '041224_COOPTRAIN_LARGEARENA_EB009B-EB019Y_Camera4.mp4',\n",
       " '041324_COOPTRAIN_LARGEARENA_EB031B-EB033Y_Camera4.mp4',\n",
       " '041324_COOPTRAIN_LARGEARENA_EB009B-EB019Y_Camera3.mp4',\n",
       " '041424_COOPTRAIN_LARGEARENA_EB009B-EB019Y_Camera2.mp4',\n",
       " '041524_COOPTRAIN_LARGEARENA_EB009B-EB019Y_Camera2.mp4',\n",
       " '041624_COOPTRAIN_LARGEARENA_EB009B-EB019Y_Camera2.mp4',\n",
       " '042424_COOPTRAIN_LARGEARENA_EB003B-EB019Y_Camera2.mp4',\n",
       " '042524_COOPTRAIN_LARGEARENA_EB003B-EB019Y_Camera2.mp4',\n",
       " '061224_COOPTRAIN_LARGEARENA_HF003B-HF004Y_Camera2.mp4',\n",
       " '061824_COOPTRAIN_LARGEARENA_HF003B-HF004Y_Camera2.mp4',\n",
       " '062024_COOPTRAIN_LARGEARENA_HF003B-HF004Y_Camera2.mp4',\n",
       " '062424_COOPTRAIN_LARGEARENA_HF003B-HF004Y_Camera2.mp4',\n",
       " '070224_COOPTRAIN_LARGEARENA_HF003B-HF004Y_Camera2.mp4',\n",
       " '070324_COOPTRAIN_LARGEARENA_HF003B-HF004Y_Camera2.mp4',\n",
       " '070524_COOPTRAIN_LARGEARENA_HF003B-HF004Y_Camera2.mp4',\n",
       " '070824_COOPTRAIN_LARGEARENA_HF003B-HF004Y_Camera2.mp4',\n",
       " '070924_COOPTRAIN_LARGEARENA_HF003B-HF004Y_Camera2.mp4',\n",
       " '071024_COOPTRAIN_LARGEARENA_HF003B-HF004Y_Camera2.mp4',\n",
       " '071124_COOPTRAIN_LARGEARENA_HF003B-HF004Y.txt_Camera2.mp4',\n",
       " '071224_COOPTRAIN_LARGEARENA_HF003B-HF004Y_Camera3.mp4',\n",
       " '071524_COOPTRAIN_LARGEARENA_HF003B-HF004Y_Camera3.mp4',\n",
       " '071624_COOPTRAIN_LARGEARENA_HF003B-HF004Y_Camera2.mp4']"
      ]
     },
     "execution_count": 18,
     "metadata": {},
     "output_type": "execute_result"
    }
   ],
   "source": [
    "# the videos in question :(\n",
    "bad_vids"
   ]
  },
  {
   "cell_type": "code",
   "execution_count": null,
   "id": "ed30ae94-01f7-486e-b3c3-c47ba963d438",
   "metadata": {},
   "outputs": [],
   "source": []
  }
 ],
 "metadata": {
  "kernelspec": {
   "display_name": "Python 3 (ipykernel)",
   "language": "python",
   "name": "python3"
  },
  "language_info": {
   "codemirror_mode": {
    "name": "ipython",
    "version": 3
   },
   "file_extension": ".py",
   "mimetype": "text/x-python",
   "name": "python",
   "nbconvert_exporter": "python",
   "pygments_lexer": "ipython3",
   "version": "3.12.5"
  }
 },
 "nbformat": 4,
 "nbformat_minor": 5
}

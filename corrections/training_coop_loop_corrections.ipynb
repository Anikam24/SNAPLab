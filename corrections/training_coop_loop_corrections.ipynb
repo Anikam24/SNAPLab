{
 "cells": [
  {
   "cell_type": "markdown",
   "id": "3d2ce3b0-18c5-4c67-a28c-bd99de1dd16e",
   "metadata": {},
   "source": [
    "## SUMMARY: Will correct the h5 prediction files for all of the training cooperation videos for a specified color pair"
   ]
  },
  {
   "cell_type": "markdown",
   "id": "d6e1048a-e7ed-45c6-aaea-6bca2e60ef17",
   "metadata": {},
   "source": [
    "# get color vids"
   ]
  },
  {
   "cell_type": "code",
   "execution_count": 1,
   "id": "61ed4884-4655-4306-afa0-500f36b8c07f",
   "metadata": {},
   "outputs": [],
   "source": [
    "import os\n",
    "import random\n",
    "import h5py\n",
    "import numpy as np\n",
    "import time\n",
    "\n",
    "from utils import find_node_velocity, get_stats, fill_missing, graph_vels, nan_vals"
   ]
  },
  {
   "cell_type": "code",
   "execution_count": 2,
   "id": "e09fb2ae-d5cd-4da1-a15e-f832003d87fd",
   "metadata": {},
   "outputs": [],
   "source": [
    "defaultdir = '/gpfs/radev/pi/saxena/aj764'\n",
    "rootdir = f'{defaultdir}/Training_COOPERATION/'"
   ]
  },
  {
   "cell_type": "markdown",
   "id": "2609ddee-7747-4de5-b018-0d7ceb2fbe13",
   "metadata": {},
   "source": [
    "Compiles a list of all of the sessions in PairedTestingSessions that have a Videos folder in them"
   ]
  },
  {
   "cell_type": "code",
   "execution_count": 3,
   "id": "f3ec5448-a2b1-4cee-8119-32a5cb2e8f06",
   "metadata": {},
   "outputs": [],
   "source": [
    "vid_subdirs = []\n",
    "for subdir, dirs, files in os.walk(rootdir):\n",
    "    vid_subdirs.append(subdir)\n",
    "vid_subdirs = sorted(vid_subdirs)"
   ]
  },
  {
   "cell_type": "markdown",
   "id": "71e4752a-8577-4a54-bf0c-1d591811c85e",
   "metadata": {},
   "source": [
    "Seperates all of the videos into single instance videos and multi instance videos (and takes out videos from before April)."
   ]
  },
  {
   "cell_type": "code",
   "execution_count": 4,
   "id": "58d854de-5c8c-44a2-b29e-4a65a951c52e",
   "metadata": {},
   "outputs": [],
   "source": [
    "multi_vids = {}\n",
    "for vids in vid_subdirs:\n",
    "    files = os.listdir(vids)\n",
    "    cut_vids = vids[28:]\n",
    "    multi_vids[cut_vids] = []\n",
    "    for file in files:\n",
    "        if file.endswith('.mp4'): # and int(file[:2]) >= 4:\n",
    "            multi_vids[cut_vids].append(file)\n",
    "            "
   ]
  },
  {
   "cell_type": "code",
   "execution_count": 5,
   "id": "94eaa2b8-b375-42cb-9f29-f4fdf90a9023",
   "metadata": {},
   "outputs": [
    {
     "name": "stdout",
     "output_type": "stream",
     "text": [
      "There are 360 multi instance videos\n"
     ]
    }
   ],
   "source": [
    "multi_len_tot = 0\n",
    "for key, value in multi_vids.items():\n",
    "    multi_len_tot += len(value)\n",
    "print(f'There are {multi_len_tot} multi instance videos')"
   ]
  },
  {
   "cell_type": "code",
   "execution_count": 6,
   "id": "c13c26a2-135f-4714-af67-6664a4419fb4",
   "metadata": {},
   "outputs": [],
   "source": [
    "# split the multi-instance videos into their respective color pairs...\n",
    "color_vids = {}\n",
    "for key, value in multi_vids.items():\n",
    "    for vid in value:\n",
    "        parsed = vid.split('-')\n",
    "        \n",
    "        trial_color = [parsed[0][-1], parsed[1][5]]\n",
    "        trial_key = ''\n",
    "        if 'R' in trial_color:\n",
    "            trial_key += 'R'\n",
    "        if 'G' in trial_color:\n",
    "            trial_key += 'G'\n",
    "        if 'Y' in trial_color:\n",
    "            trial_key += 'Y'\n",
    "        if 'B' in trial_color:\n",
    "            trial_key += 'B'\n",
    "        if trial_key not in color_vids.keys():\n",
    "            color_vids[trial_key] = []\n",
    "        color_vids[trial_key].append(vid)"
   ]
  },
  {
   "cell_type": "code",
   "execution_count": 7,
   "id": "03cf1aa9-50df-489c-a752-5d9ffb5fe684",
   "metadata": {},
   "outputs": [
    {
     "name": "stdout",
     "output_type": "stream",
     "text": [
      "There are 132 videos from YB color pair\n",
      "There are 18 videos from GB color pair\n",
      "There are 103 videos from RG color pair\n",
      "There are 19 videos from GY color pair\n",
      "There are 32 videos from RB color pair\n",
      "There are 46 videos from RY color pair\n",
      "There are 10 videos from B color pair\n",
      "\n",
      "\n",
      "There are 360 multi instance videos\n"
     ]
    }
   ],
   "source": [
    "len_tot = 0\n",
    "for key, value in color_vids.items():\n",
    "    print(f'There are {len(value)} videos from {key} color pair')\n",
    "    len_tot += len(value)\n",
    "print('\\n')\n",
    "print(f'There are {len_tot} multi instance videos')"
   ]
  },
  {
   "cell_type": "markdown",
   "id": "a8b54ea6-405c-4b20-9abc-a2c0601f4342",
   "metadata": {},
   "source": [
    "# fills in missing vals"
   ]
  },
  {
   "cell_type": "code",
   "execution_count": 8,
   "id": "ea19671a-3ff7-432a-9af4-979bef73b60c",
   "metadata": {},
   "outputs": [],
   "source": [
    "CHECK = False\n",
    "ACTUALLY_FILL = False # will also have to change file open to \"r+\"\n",
    "color_pair = 'YB'"
   ]
  },
  {
   "cell_type": "code",
   "execution_count": 9,
   "id": "b5b796c8-4dfc-4d03-b2e2-317e79ac11bc",
   "metadata": {},
   "outputs": [
    {
     "name": "stdout",
     "output_type": "stream",
     "text": [
      "video name: 032824_COOPTRAIN_LARGEARENA_KL002B-KL002Y_Camera2.mp4\n",
      "intial nan: 60.7 %, after out nan: 61.14 %, final nan: 0.0 %, after check nan: 0.98 %\n",
      "video name: 032824_COOPTRAIN_LARGEARENA_KL001B-KL001Y_Camera1.mp4\n",
      "intial nan: 87.74 %, after out nan: 87.94 %, final nan: 0.0 %, after check nan: 0.65 %\n",
      "video name: 032924_COOPTRAIN_LARGEARENA_KL001B-KL001Y_Camera1.mp4\n",
      "intial nan: 10.45 %, after out nan: 10.6 %, final nan: 0.0 %, after check nan: 0.4 %\n",
      "video name: 032924_COOPTRAIN_LARGEARENA_KL005B-KL005Y_Camera1.mp4\n",
      "intial nan: 8.37 %, after out nan: 8.61 %, final nan: 0.0 %, after check nan: 0.38 %\n",
      "video name: 032924_COOPTRAIN_LARGEARENA_KL002B-KL002Y_Camera2.mp4\n",
      "intial nan: 10.93 %, after out nan: 11.27 %, final nan: 0.0 %, after check nan: 0.53 %\n",
      "video name: 033024_COOPTRAIN_LARGEARENA_KL005B-KL005Y_Camera1.mp4\n",
      "intial nan: 6.83 %, after out nan: 7.07 %, final nan: 0.0 %, after check nan: 0.44 %\n",
      "video name: 033024_COOPTRAIN_LARGEARENA_KL001B-KL001Y_Camera1.mp4\n",
      "intial nan: 12.67 %, after out nan: 12.93 %, final nan: 0.0 %, after check nan: 0.42 %\n",
      "video name: 033024_COOPTRAIN_LARGEARENA_KL002B-KL002Y_Camera2.mp4\n",
      "intial nan: 9.25 %, after out nan: 9.43 %, final nan: 0.0 %, after check nan: 0.32 %\n",
      "video name: 033124_COOPTRAIN_LARGEARENA_KL002B-KL002Y_Camera2.mp4\n",
      "intial nan: 8.69 %, after out nan: 8.95 %, final nan: 0.0 %, after check nan: 0.46 %\n",
      "video name: 033124_COOPTRAIN_LARGEARENA_KL005B-KL005Y_Camera1.mp4\n",
      "intial nan: 9.97 %, after out nan: 10.26 %, final nan: 0.0 %, after check nan: 0.49 %\n",
      "video name: 033124_COOPTRAIN_LARGEARENA_KL001B-KL001Y_Camera1.mp4\n",
      "intial nan: 14.98 %, after out nan: 15.09 %, final nan: 0.0 %, after check nan: 0.26 %\n",
      "video name: 040124_COOPTRAIN_LARGEARENA_KL005B-KL005Y_Camera1.mp4\n",
      "intial nan: 12.35 %, after out nan: 12.79 %, final nan: 0.0 %, after check nan: 0.75 %\n",
      "video name: 040124_COOPTRAIN_LARGEARENA_KL001B-KL001Y_Camera1.mp4\n",
      "intial nan: 20.08 %, after out nan: 20.42 %, final nan: 0.0 %, after check nan: 0.56 %\n",
      "video name: 040124_COOPTRAIN_LARGEARENA_KL002B-KL002Y_Camera2.mp4\n",
      "intial nan: 13.81 %, after out nan: 14.18 %, final nan: 0.0 %, after check nan: 0.61 %\n",
      "video name: 040224_COOPTRAIN_LARGEARENA_KL002B-KL002Y_Camera2.mp4\n",
      "intial nan: 6.73 %, after out nan: 7.02 %, final nan: 0.0 %, after check nan: 0.56 %\n",
      "video name: 040224_COOPTRAIN_LARGEARENA_KL005B-KL005Y_Camera1.mp4\n",
      "intial nan: 14.13 %, after out nan: 14.54 %, final nan: 0.0 %, after check nan: 0.68 %\n",
      "video name: 040224_COOPTRAIN_LARGEARENA_KL001B-KL001Y_Camera1.mp4\n",
      "intial nan: 18.9 %, after out nan: 19.05 %, final nan: 0.0 %, after check nan: 0.3 %\n",
      "video name: 040324_COOPTRAIN_LARGEARENA_KL002B-KL002Y_Camera2.mp4\n",
      "intial nan: 11.44 %, after out nan: 11.67 %, final nan: 0.0 %, after check nan: 0.39 %\n",
      "video name: 040324_COOPTRAIN_LARGEARENA_KL001B-KL001Y_Camera1.mp4\n",
      "intial nan: 26.23 %, after out nan: 26.43 %, final nan: 0.0 %, after check nan: 0.43 %\n",
      "video name: 040324_COOPTRAIN_LARGEARENA_KL005B-KL005Y_Camera1.mp4\n",
      "intial nan: 7.73 %, after out nan: 8.0 %, final nan: 0.0 %, after check nan: 0.55 %\n",
      "video name: 040424_COOPTRAIN_LARGEARENA_KL005B-KL005Y_Camera1.mp4\n",
      "intial nan: 6.2 %, after out nan: 6.44 %, final nan: 0.0 %, after check nan: 0.38 %\n",
      "video name: 040524_COOPTRAIN_LARGEARENA_KL005B-KL005Y_Camera1.mp4\n",
      "intial nan: 11.36 %, after out nan: 11.69 %, final nan: 0.0 %, after check nan: 0.61 %\n",
      "video name: 040524_COOPTRAIN_LARGEARENA_KL002B-KL002Y_Camera2.mp4\n",
      "intial nan: 3.6 %, after out nan: 3.71 %, final nan: 0.0 %, after check nan: 0.25 %\n",
      "video name: 040524_COOPTRAIN_LARGEARENA_KL001B-KL001Y_Camera1.mp4\n",
      "intial nan: 9.2 %, after out nan: 9.37 %, final nan: 0.0 %, after check nan: 0.37 %\n",
      "video name: 040724_COOPTRAIN_LARGEARENA_KL001B-KL001Y_Camera1.mp4\n",
      "intial nan: 9.44 %, after out nan: 9.62 %, final nan: 0.0 %, after check nan: 0.5 %\n",
      "video name: 040724_COOPTRAIN_LARGEARENA_KL002B-KL002Y_Camera2.mp4\n",
      "intial nan: 8.0 %, after out nan: 8.28 %, final nan: 0.0 %, after check nan: 0.56 %\n",
      "video name: 040824_COOPTRAIN_LARGEARENA_KL005B-KL005Y_Camera1.mp4\n",
      "intial nan: 29.7 %, after out nan: 30.31 %, final nan: 0.0 %, after check nan: 0.94 %\n",
      "video name: 040824_COOPTRAIN_LARGEARENA_KL001B-KL001Y_Camera1.mp4\n",
      "intial nan: 5.76 %, after out nan: 6.14 %, final nan: 0.0 %, after check nan: 0.53 %\n",
      "video name: 040824_COOPTRAIN_LARGEARENA_KL002B-KL002Y_Camera2.mp4\n",
      "intial nan: 6.36 %, after out nan: 6.57 %, final nan: 0.0 %, after check nan: 0.35 %\n",
      "video name: 041024_COOPTRAIN_LARGEARENA_EB009B-EB019Y_Camera2.mp4\n",
      "intial nan: 12.23 %, after out nan: 12.6 %, final nan: 0.0 %, after check nan: 0.56 %\n",
      "video name: 041024_COOPTRAIN_LARGEARENA_EB031B-EB033Y_Camera3.mp4\n",
      "intial nan: 22.28 %, after out nan: 22.87 %, final nan: 0.0 %, after check nan: 0.85 %\n",
      "video name: 041124_COOPTRAIN_LARGEARENA_EB031B-EB033Y_Camera3.mp4\n",
      "intial nan: 18.29 %, after out nan: 18.84 %, final nan: 0.0 %, after check nan: 0.79 %\n",
      "video name: 041124_COOPTRAIN_LARGEARENA_EB009B-EB019Y_Camera4.mp4\n",
      "intial nan: 17.85 %, after out nan: 18.54 %, final nan: 0.0 %, after check nan: 0.98 %\n",
      "video name: 041224_COOPTRAIN_LARGEARENA_EB009B-EB019Y_Camera4.mp4\n",
      "intial nan: 36.25 %, after out nan: 37.13 %, final nan: 0.0 %, after check nan: 1.14 %\n",
      "video name: 041224_COOPTRAIN_LARGEARENA_EB031B-EB033Y_Camera3.mp4\n",
      "intial nan: 17.2 %, after out nan: 17.52 %, final nan: 0.0 %, after check nan: 0.49 %\n",
      "video name: 041324_COOPTRAIN_LARGEARENA_EB031B-EB033Y_Camera4.mp4\n",
      "intial nan: 22.28 %, after out nan: 22.85 %, final nan: 0.0 %, after check nan: 0.81 %\n",
      "video name: 041324_COOPTRAIN_LARGEARENA_EB009B-EB019Y_Camera3.mp4\n",
      "intial nan: 30.18 %, after out nan: 30.86 %, final nan: 0.0 %, after check nan: 0.92 %\n",
      "video name: 041424_COOPTRAIN_LARGEARENA_EB009B-EB019Y_Camera2.mp4\n",
      "intial nan: 30.31 %, after out nan: 30.92 %, final nan: 0.0 %, after check nan: 0.89 %\n",
      "video name: 041424_COOPTRAIN_LARGEARENA_EB031B-EB033Y_Camera3.mp4\n",
      "intial nan: 14.66 %, after out nan: 14.96 %, final nan: 0.0 %, after check nan: 0.52 %\n",
      "video name: 041524_COOPTRAIN_LARGEARENA_EB031B-EB033Y_Camera3.mp4\n",
      "intial nan: 18.31 %, after out nan: 18.69 %, final nan: 0.0 %, after check nan: 0.59 %\n",
      "video name: 041524_COOPTRAIN_LARGEARENA_EB009B-EB019Y_Camera2.mp4\n",
      "intial nan: 26.55 %, after out nan: 27.13 %, final nan: 0.0 %, after check nan: 0.81 %\n",
      "video name: 041624_COOPTRAIN_LARGEARENA_EB031B-EB033Y_Camera3.mp4\n",
      "intial nan: 11.18 %, after out nan: 11.44 %, final nan: 0.0 %, after check nan: 0.4 %\n",
      "video name: 041624_COOPTRAIN_LARGEARENA_EB009B-EB019Y_Camera2.mp4\n",
      "intial nan: 22.37 %, after out nan: 22.98 %, final nan: 0.0 %, after check nan: 0.88 %\n",
      "video name: 041824_COOPTRAIN_LARGEARENA_EB009B-EB033Y_Camera3.mp4\n",
      "intial nan: 11.7 %, after out nan: 12.01 %, final nan: 0.0 %, after check nan: 0.53 %\n",
      "video name: 041824_COOPTRAIN_LARGEARENA_EB003B-EB019Y_Camera2.mp4\n",
      "intial nan: 17.54 %, after out nan: 18.04 %, final nan: 0.0 %, after check nan: 0.77 %\n",
      "video name: 041924_COOPTRAIN_LARGEARENA_EB003B-EB019Y_Camera2.mp4\n",
      "intial nan: 16.92 %, after out nan: 17.37 %, final nan: 0.0 %, after check nan: 0.71 %\n",
      "video name: 041924_COOPTRAIN_LARGEARENA_EB009B-EB033Y_Camera3.mp4\n",
      "intial nan: 13.05 %, after out nan: 13.29 %, final nan: 0.0 %, after check nan: 0.4 %\n",
      "video name: 042224_COOPTRAIN_LARGEARENA_EB003B-EB019Y_Camera2.mp4\n",
      "intial nan: 17.87 %, after out nan: 18.36 %, final nan: 0.0 %, after check nan: 0.76 %\n",
      "video name: 042224_COOPTRAIN_LARGEARENA_EB009B-EB033Y_Camera3.mp4\n",
      "intial nan: 11.48 %, after out nan: 11.76 %, final nan: 0.0 %, after check nan: 0.42 %\n",
      "video name: 042324_COOPTRAIN_LARGEARENA_EB009B-EB033Y_Camera3.mp4\n",
      "intial nan: 17.0 %, after out nan: 17.26 %, final nan: 0.0 %, after check nan: 0.45 %\n",
      "video name: 042324_COOPTRAIN_LARGEARENA_EB003B-EB019Y_Camera2.mp4\n",
      "intial nan: 19.83 %, after out nan: 20.36 %, final nan: 0.0 %, after check nan: 0.81 %\n",
      "video name: 042424_COOPTRAIN_LARGEARENA_EB003B-EB019Y_Camera2.mp4\n",
      "intial nan: 26.41 %, after out nan: 27.07 %, final nan: 0.0 %, after check nan: 0.98 %\n",
      "video name: 042424_COOPTRAIN_LARGEARENA_EB009B-EB033Y_Camera3.mp4\n",
      "intial nan: 15.46 %, after out nan: 15.74 %, final nan: 0.0 %, after check nan: 0.46 %\n",
      "video name: 042524_COOPTRAIN_LARGEARENA_EB009B-EB033Y_Camera3.mp4\n",
      "intial nan: 12.44 %, after out nan: 12.68 %, final nan: 0.0 %, after check nan: 0.38 %\n",
      "video name: 042524_COOPTRAIN_LARGEARENA_EB003B-EB019Y_Camera2.mp4\n",
      "intial nan: 22.31 %, after out nan: 22.83 %, final nan: 0.0 %, after check nan: 0.79 %\n",
      "video name: 061224_COOPTRAIN_LARGEARENA_HF003B-HF004Y_Camera2.mp4\n",
      "intial nan: 49.24 %, after out nan: 50.13 %, final nan: 0.0 %, after check nan: 1.28 %\n",
      "video name: 061824_COOPTRAIN_LARGEARENA_HF003B-HF004Y_Camera2.mp4\n",
      "intial nan: 49.66 %, after out nan: 50.62 %, final nan: 0.0 %, after check nan: 1.41 %\n",
      "video name: 062024_COOPTRAIN_LARGEARENA_HF003B-HF004Y_Camera2.mp4\n",
      "intial nan: 49.55 %, after out nan: 50.5 %, final nan: 0.0 %, after check nan: 1.21 %\n",
      "video name: 062424_COOPTRAIN_LARGEARENA_HF003B-HF004Y_Camera2.mp4\n",
      "intial nan: 49.63 %, after out nan: 50.57 %, final nan: 0.0 %, after check nan: 1.25 %\n",
      "video name: 070224_COOPTRAIN_LARGEARENA_HF003B-HF004Y_Camera2.mp4\n",
      "intial nan: 49.64 %, after out nan: 50.49 %, final nan: 0.0 %, after check nan: 1.36 %\n",
      "video name: 070324_COOPTRAIN_LARGEARENA_HF003B-HF004Y_Camera2.mp4\n",
      "intial nan: 49.04 %, after out nan: 49.79 %, final nan: 0.0 %, after check nan: 1.14 %\n",
      "video name: 070524_COOPTRAIN_LARGEARENA_HF003B-HF004Y_Camera2.mp4\n",
      "intial nan: 48.75 %, after out nan: 49.47 %, final nan: 0.0 %, after check nan: 1.12 %\n",
      "video name: 070824_COOPTRAIN_LARGEARENA_HF003B-HF004Y_Camera2.mp4\n",
      "intial nan: 49.26 %, after out nan: 50.1 %, final nan: 0.0 %, after check nan: 1.22 %\n",
      "video name: 070924_COOPTRAIN_LARGEARENA_HF003B-HF004Y_Camera2.mp4\n",
      "intial nan: 49.39 %, after out nan: 50.19 %, final nan: 0.0 %, after check nan: 1.39 %\n",
      "video name: 071024_COOPTRAIN_LARGEARENA_HF003B-HF004Y_Camera2.mp4\n",
      "intial nan: 49.41 %, after out nan: 50.21 %, final nan: 0.0 %, after check nan: 1.32 %\n",
      "video name: 071124_COOPTRAIN_LARGEARENA_HF003B-HF004Y.txt_Camera2.mp4\n",
      "intial nan: 49.53 %, after out nan: 50.29 %, final nan: 0.0 %, after check nan: 1.18 %\n",
      "video name: 071224_COOPTRAIN_LARGEARENA_HF003B-HF004Y_Camera3.mp4\n",
      "intial nan: 49.64 %, after out nan: 50.44 %, final nan: 0.0 %, after check nan: 1.15 %\n",
      "video name: 071524_COOPTRAIN_LARGEARENA_HF003B-HF004Y_Camera3.mp4\n",
      "intial nan: 49.57 %, after out nan: 50.33 %, final nan: 0.0 %, after check nan: 1.13 %\n",
      "video name: 071624_COOPTRAIN_LARGEARENA_HF003B-HF004Y_Camera2.mp4\n",
      "intial nan: 49.19 %, after out nan: 49.91 %, final nan: 0.0 %, after check nan: 1.1 %\n"
     ]
    },
    {
     "ename": "FileNotFoundError",
     "evalue": "[Errno 2] Unable to synchronously open file (unable to open file: name = '/gpfs/radev/pi/saxena/aj764/Training_COOPERATION/110724/Tracking/h5/110724_COOPTRAIN_LARGEARENA_NF010B-NF010Y_Camera4.predictions.h5', errno = 2, error message = 'No such file or directory', flags = 0, o_flags = 0)",
     "output_type": "error",
     "traceback": [
      "\u001b[0;31m---------------------------------------------------------------------------\u001b[0m",
      "\u001b[0;31mFileNotFoundError\u001b[0m                         Traceback (most recent call last)",
      "Cell \u001b[0;32mIn[9], line 21\u001b[0m\n\u001b[1;32m     18\u001b[0m \u001b[38;5;28;01mif\u001b[39;00m video \u001b[38;5;129;01min\u001b[39;00m color_vids[color_pair]:\n\u001b[1;32m     19\u001b[0m     \u001b[38;5;66;03m# open analysis file\u001b[39;00m\n\u001b[1;32m     20\u001b[0m     analysis_file \u001b[38;5;241m=\u001b[39m analysis_path \u001b[38;5;241m+\u001b[39m video[:\u001b[38;5;241m-\u001b[39m\u001b[38;5;241m3\u001b[39m] \u001b[38;5;241m+\u001b[39m \u001b[38;5;124m'\u001b[39m\u001b[38;5;124mpredictions.h5\u001b[39m\u001b[38;5;124m'\u001b[39m\n\u001b[0;32m---> 21\u001b[0m     \u001b[38;5;28;01mwith\u001b[39;00m \u001b[43mh5py\u001b[49m\u001b[38;5;241;43m.\u001b[39;49m\u001b[43mFile\u001b[49m\u001b[43m(\u001b[49m\u001b[43manalysis_file\u001b[49m\u001b[43m,\u001b[49m\u001b[38;5;124;43m'\u001b[39;49m\u001b[38;5;124;43mr\u001b[39;49m\u001b[38;5;124;43m'\u001b[39;49m\u001b[43m)\u001b[49m \u001b[38;5;28;01mas\u001b[39;00m f:\n\u001b[1;32m     22\u001b[0m         locations \u001b[38;5;241m=\u001b[39m f[\u001b[38;5;124m\"\u001b[39m\u001b[38;5;124mtracks\u001b[39m\u001b[38;5;124m\"\u001b[39m][:]\u001b[38;5;241m.\u001b[39mT \n\u001b[1;32m     24\u001b[0m         \u001b[38;5;66;03m# find nan values\u001b[39;00m\n",
      "File \u001b[0;32m/home/aj764/.conda/envs/social_comp/lib/python3.12/site-packages/h5py/_hl/files.py:562\u001b[0m, in \u001b[0;36mFile.__init__\u001b[0;34m(self, name, mode, driver, libver, userblock_size, swmr, rdcc_nslots, rdcc_nbytes, rdcc_w0, track_order, fs_strategy, fs_persist, fs_threshold, fs_page_size, page_buf_size, min_meta_keep, min_raw_keep, locking, alignment_threshold, alignment_interval, meta_block_size, **kwds)\u001b[0m\n\u001b[1;32m    553\u001b[0m     fapl \u001b[38;5;241m=\u001b[39m make_fapl(driver, libver, rdcc_nslots, rdcc_nbytes, rdcc_w0,\n\u001b[1;32m    554\u001b[0m                      locking, page_buf_size, min_meta_keep, min_raw_keep,\n\u001b[1;32m    555\u001b[0m                      alignment_threshold\u001b[38;5;241m=\u001b[39malignment_threshold,\n\u001b[1;32m    556\u001b[0m                      alignment_interval\u001b[38;5;241m=\u001b[39malignment_interval,\n\u001b[1;32m    557\u001b[0m                      meta_block_size\u001b[38;5;241m=\u001b[39mmeta_block_size,\n\u001b[1;32m    558\u001b[0m                      \u001b[38;5;241m*\u001b[39m\u001b[38;5;241m*\u001b[39mkwds)\n\u001b[1;32m    559\u001b[0m     fcpl \u001b[38;5;241m=\u001b[39m make_fcpl(track_order\u001b[38;5;241m=\u001b[39mtrack_order, fs_strategy\u001b[38;5;241m=\u001b[39mfs_strategy,\n\u001b[1;32m    560\u001b[0m                      fs_persist\u001b[38;5;241m=\u001b[39mfs_persist, fs_threshold\u001b[38;5;241m=\u001b[39mfs_threshold,\n\u001b[1;32m    561\u001b[0m                      fs_page_size\u001b[38;5;241m=\u001b[39mfs_page_size)\n\u001b[0;32m--> 562\u001b[0m     fid \u001b[38;5;241m=\u001b[39m \u001b[43mmake_fid\u001b[49m\u001b[43m(\u001b[49m\u001b[43mname\u001b[49m\u001b[43m,\u001b[49m\u001b[43m \u001b[49m\u001b[43mmode\u001b[49m\u001b[43m,\u001b[49m\u001b[43m \u001b[49m\u001b[43muserblock_size\u001b[49m\u001b[43m,\u001b[49m\u001b[43m \u001b[49m\u001b[43mfapl\u001b[49m\u001b[43m,\u001b[49m\u001b[43m \u001b[49m\u001b[43mfcpl\u001b[49m\u001b[43m,\u001b[49m\u001b[43m \u001b[49m\u001b[43mswmr\u001b[49m\u001b[38;5;241;43m=\u001b[39;49m\u001b[43mswmr\u001b[49m\u001b[43m)\u001b[49m\n\u001b[1;32m    564\u001b[0m \u001b[38;5;28;01mif\u001b[39;00m \u001b[38;5;28misinstance\u001b[39m(libver, \u001b[38;5;28mtuple\u001b[39m):\n\u001b[1;32m    565\u001b[0m     \u001b[38;5;28mself\u001b[39m\u001b[38;5;241m.\u001b[39m_libver \u001b[38;5;241m=\u001b[39m libver\n",
      "File \u001b[0;32m/home/aj764/.conda/envs/social_comp/lib/python3.12/site-packages/h5py/_hl/files.py:235\u001b[0m, in \u001b[0;36mmake_fid\u001b[0;34m(name, mode, userblock_size, fapl, fcpl, swmr)\u001b[0m\n\u001b[1;32m    233\u001b[0m     \u001b[38;5;28;01mif\u001b[39;00m swmr \u001b[38;5;129;01mand\u001b[39;00m swmr_support:\n\u001b[1;32m    234\u001b[0m         flags \u001b[38;5;241m|\u001b[39m\u001b[38;5;241m=\u001b[39m h5f\u001b[38;5;241m.\u001b[39mACC_SWMR_READ\n\u001b[0;32m--> 235\u001b[0m     fid \u001b[38;5;241m=\u001b[39m \u001b[43mh5f\u001b[49m\u001b[38;5;241;43m.\u001b[39;49m\u001b[43mopen\u001b[49m\u001b[43m(\u001b[49m\u001b[43mname\u001b[49m\u001b[43m,\u001b[49m\u001b[43m \u001b[49m\u001b[43mflags\u001b[49m\u001b[43m,\u001b[49m\u001b[43m \u001b[49m\u001b[43mfapl\u001b[49m\u001b[38;5;241;43m=\u001b[39;49m\u001b[43mfapl\u001b[49m\u001b[43m)\u001b[49m\n\u001b[1;32m    236\u001b[0m \u001b[38;5;28;01melif\u001b[39;00m mode \u001b[38;5;241m==\u001b[39m \u001b[38;5;124m'\u001b[39m\u001b[38;5;124mr+\u001b[39m\u001b[38;5;124m'\u001b[39m:\n\u001b[1;32m    237\u001b[0m     fid \u001b[38;5;241m=\u001b[39m h5f\u001b[38;5;241m.\u001b[39mopen(name, h5f\u001b[38;5;241m.\u001b[39mACC_RDWR, fapl\u001b[38;5;241m=\u001b[39mfapl)\n",
      "File \u001b[0;32mh5py/_objects.pyx:54\u001b[0m, in \u001b[0;36mh5py._objects.with_phil.wrapper\u001b[0;34m()\u001b[0m\n",
      "File \u001b[0;32mh5py/_objects.pyx:55\u001b[0m, in \u001b[0;36mh5py._objects.with_phil.wrapper\u001b[0;34m()\u001b[0m\n",
      "File \u001b[0;32mh5py/h5f.pyx:102\u001b[0m, in \u001b[0;36mh5py.h5f.open\u001b[0;34m()\u001b[0m\n",
      "\u001b[0;31mFileNotFoundError\u001b[0m: [Errno 2] Unable to synchronously open file (unable to open file: name = '/gpfs/radev/pi/saxena/aj764/Training_COOPERATION/110724/Tracking/h5/110724_COOPTRAIN_LARGEARENA_NF010B-NF010Y_Camera4.predictions.h5', errno = 2, error message = 'No such file or directory', flags = 0, o_flags = 0)"
     ]
    }
   ],
   "source": [
    "start_time = time.time()\n",
    "\n",
    "total_intial_nan = 0\n",
    "total_after_out_nan = 0\n",
    "total_final_nan = 0\n",
    "total_after_check_nan = 0\n",
    "\n",
    "all_errors = np.empty((len(color_vids[color_pair]), 4))\n",
    "all_vids = []\n",
    "bad_vids = []\n",
    "\n",
    "count = 0\n",
    "for i, session in enumerate(multi_vids.keys()): \n",
    "    video_list = multi_vids[session]\n",
    "    analysis_path = defaultdir + '/' + session + '/Tracking/h5/'\n",
    "    \n",
    "    for video in video_list:\n",
    "        if video in color_vids[color_pair]:\n",
    "            # open analysis file\n",
    "            analysis_file = analysis_path + video[:-3] + 'predictions.h5'\n",
    "            with h5py.File(analysis_file,'r') as f:\n",
    "                locations = f[\"tracks\"][:].T \n",
    "    \n",
    "                # find nan values\n",
    "                intial = nan_vals(locations)\n",
    "\n",
    "                if intial > 20:\n",
    "                    bad_vids.append(video)\n",
    "    \n",
    "                # just to check you haven't already done this vid or it isn't empty\n",
    "                if intial != 0:\n",
    "                    # take out positional outliers\n",
    "                    for rat in range(locations.shape[-1]): # for each rat (not actually necessary, the dims work out without this loop but I don't feel like thinking abt that)\n",
    "                        all_vels = {}\n",
    "                        for node in range(locations.shape[1]): # for each node\n",
    "                            # find the velocities\n",
    "                            all_vels[node] = find_node_velocity(locations[:, node, :,  rat:rat+1])\n",
    "                        \n",
    "                            # get values need to find outliers\n",
    "                            mean, std, low, high = get_stats(all_vels[node])\n",
    "                        \n",
    "                            # if you want to check that these values looks good\n",
    "                            graph_vels(all_vels[node], CHECK)\n",
    "                        \n",
    "                            # replace outliers in locations with nan\n",
    "                            nan_index = [i for i in range(len(all_vels[node])) if (all_vels[node][i] > high or all_vels[node][i] < low)]\n",
    "                            for index in nan_index:\n",
    "                                locations[index + 1, node, 0, rat], locations[index + 1, node, 0, rat] = np.nan, np.nan\n",
    "                        \n",
    "                            # if you want to check that new locations look good\n",
    "                            test_vels = find_node_velocity(locations[:, node, :])\n",
    "                            graph_vels(test_vels, check=CHECK, old_low=low, old_high=high)\n",
    "        \n",
    "                    # find nan values again\n",
    "                    after_out = nan_vals(locations)\n",
    "        \n",
    "                    # fill in missing locations\n",
    "                    print(f'video name: {video}')\n",
    "                    new_locations = fill_missing(locations)\n",
    "                    if ACTUALLY_FILL:\n",
    "                        f[\"tracks\"][:] = new_locations.T\n",
    "    \n",
    "                    # finds nan values for final time\n",
    "                    after_fill = nan_vals(new_locations)\n",
    "\n",
    "                    for rat in range(new_locations.shape[-1]): # for each rat (not actually necessary, the dims work out without this loop but I don't feel like thinking abt that)\n",
    "                        all_vels = {}\n",
    "                        for node in range(new_locations.shape[1]): # for each node\n",
    "                            # find the velocities\n",
    "                            all_vels[node] = find_node_velocity(new_locations[:, node, :,  rat:rat+1])\n",
    "                        \n",
    "                            # get values need to find outliers\n",
    "                            mean, std, low, high = get_stats(all_vels[node])\n",
    "                        \n",
    "                            # if you want to check that these values looks good\n",
    "                            graph_vels(all_vels[node], CHECK)\n",
    "                        \n",
    "                            # replace outliers in locations with nan\n",
    "                            nan_index = [i for i in range(len(all_vels[node])) if (all_vels[node][i] > high or all_vels[node][i] < low)]\n",
    "                            for index in nan_index:\n",
    "                                new_locations[index + 1, node, 0, rat], new_locations[index + 1, node, 0, rat] = np.nan, np.nan\n",
    "                        \n",
    "                            # if you want to check that new locations look good\n",
    "                            test_vels = find_node_velocity(locations[:, node, :])\n",
    "                            graph_vels(test_vels, check=CHECK, old_low=low, old_high=high)\n",
    "                    after_check = nan_vals(new_locations)\n",
    "                    \n",
    "                    total_intial_nan += intial\n",
    "                    total_after_out_nan += after_out\n",
    "                    total_final_nan += after_fill\n",
    "                    total_after_check_nan += after_check\n",
    "                    all_errors[count, :] = [intial, after_out, after_fill, after_check]\n",
    "                    all_vids.append(video)\n",
    "                    count += 1\n",
    "        \n",
    "                    # if you want to check the nan/fill values for a each video\n",
    "                    if True:\n",
    "                        # print(f'video name: {video}')\n",
    "                        print(f'intial nan: {round(intial, 2)} %, after out nan: {round(after_out, 2)} %, final nan: {round(after_fill, 2)} %, after check nan: {round(after_check, 2)} %')\n",
    "        \n",
    "print('totals:')\n",
    "print(f'intial nan: {round(total_intial_nan / len(color_vids[color_pair]), 2)} %, after out nan: {round(total_after_out_nan / len(color_vids[color_pair]), 2)} %, final nan: {round(total_final_nan / len(color_vids[color_pair]), 2)} %, after check nan: {round(total_after_check_nan / len(color_vids[color_pair]), 2)} %')\n",
    "print(f'time elapse: {time.time() - start_time}')"
   ]
  },
  {
   "cell_type": "code",
   "execution_count": null,
   "id": "641bd4f9-a628-45d8-aa94-3d65a81991f8",
   "metadata": {},
   "outputs": [],
   "source": [
    "len('training_e"
   ]
  },
  {
   "cell_type": "code",
   "execution_count": null,
   "id": "c7362efd-43dc-4701-81cb-8a6b390c5ae3",
   "metadata": {},
   "outputs": [],
   "source": [
    "np.save('training_vids.npy', all_vids)\n",
    "np.save('training_errors.npy', all_errors)\n"
   ]
  },
  {
   "cell_type": "markdown",
   "id": "44fbe955-5fc4-4895-aa47-0396c83e4932",
   "metadata": {
    "jp-MarkdownHeadingCollapsed": true
   },
   "source": [
    "# check our work... (abt 28 vids that I WOULDN'T trust!!)"
   ]
  },
  {
   "cell_type": "code",
   "execution_count": null,
   "id": "b1e1e8db-45bc-49a5-8738-d943192b85fc",
   "metadata": {},
   "outputs": [],
   "source": [
    "print(f'intial nan: {round(total_intial_nan / len(color_vids[color_pair]), 2)} %, after out nan: {round(total_after_out_nan / len(color_vids[color_pair]), 2)} %, final nan: {round(total_final_nan / len(color_vids[color_pair]), 2)} %')\n"
   ]
  },
  {
   "cell_type": "code",
   "execution_count": null,
   "id": "a24b879f-25ef-4897-8191-9b2d59d4e261",
   "metadata": {},
   "outputs": [],
   "source": [
    "print(f'percent of videos intitially have over 1/5 of values nan: {round(100 * len(bad_vids) / len(color_vids[color_pair]) ,2)}% ')"
   ]
  },
  {
   "cell_type": "code",
   "execution_count": 18,
   "id": "72cdbd21-1704-4a07-b26f-d151b9f842f3",
   "metadata": {},
   "outputs": [
    {
     "data": {
      "text/plain": [
       "['032824_COOPTRAIN_LARGEARENA_KL002B-KL002Y_Camera2.mp4',\n",
       " '032824_COOPTRAIN_LARGEARENA_KL001B-KL001Y_Camera1.mp4',\n",
       " '040124_COOPTRAIN_LARGEARENA_KL001B-KL001Y_Camera1.mp4',\n",
       " '040324_COOPTRAIN_LARGEARENA_KL001B-KL001Y_Camera1.mp4',\n",
       " '040824_COOPTRAIN_LARGEARENA_KL005B-KL005Y_Camera1.mp4',\n",
       " '041024_COOPTRAIN_LARGEARENA_EB031B-EB033Y_Camera3.mp4',\n",
       " '041224_COOPTRAIN_LARGEARENA_EB009B-EB019Y_Camera4.mp4',\n",
       " '041324_COOPTRAIN_LARGEARENA_EB031B-EB033Y_Camera4.mp4',\n",
       " '041324_COOPTRAIN_LARGEARENA_EB009B-EB019Y_Camera3.mp4',\n",
       " '041424_COOPTRAIN_LARGEARENA_EB009B-EB019Y_Camera2.mp4',\n",
       " '041524_COOPTRAIN_LARGEARENA_EB009B-EB019Y_Camera2.mp4',\n",
       " '041624_COOPTRAIN_LARGEARENA_EB009B-EB019Y_Camera2.mp4',\n",
       " '042424_COOPTRAIN_LARGEARENA_EB003B-EB019Y_Camera2.mp4',\n",
       " '042524_COOPTRAIN_LARGEARENA_EB003B-EB019Y_Camera2.mp4',\n",
       " '061224_COOPTRAIN_LARGEARENA_HF003B-HF004Y_Camera2.mp4',\n",
       " '061824_COOPTRAIN_LARGEARENA_HF003B-HF004Y_Camera2.mp4',\n",
       " '062024_COOPTRAIN_LARGEARENA_HF003B-HF004Y_Camera2.mp4',\n",
       " '062424_COOPTRAIN_LARGEARENA_HF003B-HF004Y_Camera2.mp4',\n",
       " '070224_COOPTRAIN_LARGEARENA_HF003B-HF004Y_Camera2.mp4',\n",
       " '070324_COOPTRAIN_LARGEARENA_HF003B-HF004Y_Camera2.mp4',\n",
       " '070524_COOPTRAIN_LARGEARENA_HF003B-HF004Y_Camera2.mp4',\n",
       " '070824_COOPTRAIN_LARGEARENA_HF003B-HF004Y_Camera2.mp4',\n",
       " '070924_COOPTRAIN_LARGEARENA_HF003B-HF004Y_Camera2.mp4',\n",
       " '071024_COOPTRAIN_LARGEARENA_HF003B-HF004Y_Camera2.mp4',\n",
       " '071124_COOPTRAIN_LARGEARENA_HF003B-HF004Y.txt_Camera2.mp4',\n",
       " '071224_COOPTRAIN_LARGEARENA_HF003B-HF004Y_Camera3.mp4',\n",
       " '071524_COOPTRAIN_LARGEARENA_HF003B-HF004Y_Camera3.mp4',\n",
       " '071624_COOPTRAIN_LARGEARENA_HF003B-HF004Y_Camera2.mp4']"
      ]
     },
     "execution_count": 18,
     "metadata": {},
     "output_type": "execute_result"
    }
   ],
   "source": [
    "# the videos in question :(\n",
    "bad_vids"
   ]
  },
  {
   "cell_type": "code",
   "execution_count": null,
   "id": "ed30ae94-01f7-486e-b3c3-c47ba963d438",
   "metadata": {},
   "outputs": [],
   "source": []
  }
 ],
 "metadata": {
  "kernelspec": {
   "display_name": "Python 3 (ipykernel)",
   "language": "python",
   "name": "python3"
  },
  "language_info": {
   "codemirror_mode": {
    "name": "ipython",
    "version": 3
   },
   "file_extension": ".py",
   "mimetype": "text/x-python",
   "name": "python",
   "nbconvert_exporter": "python",
   "pygments_lexer": "ipython3",
   "version": "3.12.5"
  }
 },
 "nbformat": 4,
 "nbformat_minor": 5
}

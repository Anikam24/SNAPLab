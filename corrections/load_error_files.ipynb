{
 "cells": [
  {
   "cell_type": "code",
   "execution_count": 1,
   "id": "1e85b98f-138e-4f89-8ac0-74ee1014434d",
   "metadata": {},
   "outputs": [],
   "source": [
    "import numpy as np\n",
    "import os"
   ]
  },
  {
   "cell_type": "code",
   "execution_count": 2,
   "id": "3c3a9f08-8dbe-471d-9688-dd25bcf0dc33",
   "metadata": {},
   "outputs": [],
   "source": [
    "color_dir = os.listdir()\n",
    "color_dir = [x for x in color_dir if len(x) == 2]"
   ]
  },
  {
   "cell_type": "code",
   "execution_count": 6,
   "id": "83522712-19a2-47c1-b537-8508c0728563",
   "metadata": {},
   "outputs": [
    {
     "name": "stdout",
     "output_type": "stream",
     "text": [
      "YB multi\n",
      "mean: 14.474000250731882; median: 9.438190314358538; std: 14.087290277596447\n",
      "YB training\n",
      "mean: 12.940487159120508; median: 6.486636815467717; std: 17.990869705826206\n",
      "\n",
      "RY multi\n",
      "mean: 23.29514818094472; median: 22.596729775747654; std: 10.187531133984955\n",
      "RY training\n",
      "mean: 17.953141818457656; median: 17.974834494573674; std: 4.189247952179867\n",
      "\n",
      "RG multi\n",
      "mean: 21.62079125302792; median: 16.766234306144508; std: 13.12333989283631\n",
      "RG training\n",
      "mean: 7.749318603767351; median: 4.66433982460876e-310; std: 15.977057701051681\n",
      "\n",
      "RB multi\n",
      "mean: 8.812636020784243; median: 7.329023023363012; std: 5.8023892625058595\n",
      "RB training\n",
      "mean: 9.610131739172381; median: 9.131812333168163; std: 4.149585286594131\n",
      "\n",
      "GY multi\n",
      "mean: 27.46902657230048; median: 24.421806409362325; std: 13.188364774180332\n",
      "GY training\n",
      "mean: 41.49972094306441; median: 45.32077630981967; std: 6.386508025424418\n",
      "\n"
     ]
    }
   ],
   "source": [
    "training = {}\n",
    "multi = {}\n",
    "for color in ['YB', 'RY', 'RG', 'RB', 'GY']: # color_dir:\n",
    "    # training[color] = np.load(color + '/training_errors.npy')\n",
    "    \n",
    "    multi[color] = np.load('errors/' + color + '/multi_errors.npy')\n",
    "    x = multi[color][:, 1]\n",
    "    print(color + ' multi')\n",
    "    print('mean: ' + str(np.mean(x)) + '; median: ' + str(np.median(x)) + '; std: ' + str(np.std(x)))\n",
    "\n",
    "    training[color] = np.load('errors/' + color + '/training_errors.npy')\n",
    "    x = training[color][:, 1]\n",
    "    print(color + ' training')\n",
    "    print('mean: ' + str(np.mean(x)) + '; median: ' + str(np.median(x)) + '; std: ' + str(np.std(x)))\n",
    "    print()"
   ]
  },
  {
   "cell_type": "code",
   "execution_count": 3,
   "id": "d1676346-ab23-4a51-82b1-08cfe1b83b45",
   "metadata": {},
   "outputs": [],
   "source": [
    "ry_multi = np.load('multi_errors.npy')"
   ]
  },
  {
   "cell_type": "code",
   "execution_count": 5,
   "id": "46e203dd-5c9f-4497-a00b-814d8e58bcd0",
   "metadata": {},
   "outputs": [
    {
     "name": "stdout",
     "output_type": "stream",
     "text": [
      "mean: 21.140602195556376; median: 16.4256896087983; std: 13.006427919872346\n"
     ]
    }
   ],
   "source": [
    "for i in range(1):\n",
    "    x = ry_multi[:, i]\n",
    "    print('mean: ' + str(np.mean(x)) + '; median: ' + str(np.median(x)) + '; std: ' + str(np.std(x)))"
   ]
  },
  {
   "cell_type": "code",
   "execution_count": 8,
   "id": "46195617-009f-4d7e-bace-8807a816dfe2",
   "metadata": {},
   "outputs": [],
   "source": [
    "ry_training = np.load('RY/training_errors.npy')\n",
    "yb_training = np.load('YB/training_errors.npy')\n",
    "ry_training_no_collar = np.load('RY/training_errors_no_collar.npy')\n",
    "yb_training_no_collar = np.load('YB/training_errors_no_collar.npy')\n",
    "ry_multi = np.load('RY/multi_errors.npy')\n",
    "yb_multi = np.load('YB/multi_errors.npy')\n",
    "errors = [ry_training, yb_training, ry_training_no_collar, yb_training_no_collar, ry_multi, yb_multi]\n",
    "str_errors = ['ry_training', 'yb_training', 'ry_training_no_collar', 'yb_training_no_collar', 'ry_multi', 'yb_multi']"
   ]
  },
  {
   "cell_type": "code",
   "execution_count": 9,
   "id": "241b2faf-ca32-4a16-9fd1-f71a09596c8c",
   "metadata": {},
   "outputs": [
    {
     "name": "stdout",
     "output_type": "stream",
     "text": [
      "ry_training\n",
      "mean: 17.28089266723215; median: 17.190267093350148; std: 3.981803680198744\n",
      "yb_training\n",
      "mean: 47.240101312948454; median: 49.649822877357785; std: 29.48708658353227\n",
      "ry_training_no_collar\n",
      "mean: 17.28089266723215; median: 17.190267093350148; std: 3.981803680198744\n",
      "yb_training_no_collar\n",
      "mean: 12.538262201369802; median: 6.282500590930065; std: 17.433363629711774\n",
      "ry_multi\n",
      "mean: 22.091657582850893; median: 21.727263911543393; std: 9.664017295723111\n",
      "yb_multi\n",
      "mean: 13.852083599313882; median: 8.921693571226282; std: 13.808394695005806\n"
     ]
    }
   ],
   "source": [
    "for i, error in enumerate(errors):\n",
    "    print(str_errors[i])\n",
    "    for i in range(1):\n",
    "        x = error[:, i]\n",
    "        print('mean: ' + str(np.mean(x)) + '; median: ' + str(np.median(x)) + '; std: ' + str(np.std(x)))"
   ]
  },
  {
   "cell_type": "code",
   "execution_count": 10,
   "id": "bc0ed03a-db7e-4441-8311-556b0da13c6a",
   "metadata": {},
   "outputs": [
    {
     "name": "stdout",
     "output_type": "stream",
     "text": [
      "ry_training\n",
      "mean: 17.28089266723215; median: 17.190267093350148; std: 3.981803680198744\n",
      "mean: 17.953141818457656; median: 17.974834494573674; std: 4.189247952179867\n",
      "mean: 0.0; median: 0.0; std: 0.0\n",
      "mean: 1.9978430099890512; median: 2.0096731258519567; std: 0.8598413750584667\n",
      "yb_training\n",
      "mean: 47.240101312948454; median: 49.649822877357785; std: 29.48708658353227\n",
      "mean: 48.01030576355927; median: 51.98340988232625; std: 29.496577008203936\n",
      "mean: 0.0; median: 0.0; std: 0.0\n",
      "mean: 2.1133596485160413; median: 1.2024804306542283; std: 2.099670606395739\n",
      "ry_training_no_collar\n",
      "mean: 17.28089266723215; median: 17.190267093350148; std: 3.981803680198744\n",
      "mean: 17.953141818457656; median: 17.974834494573674; std: 4.189247952179867\n",
      "mean: 0.0; median: 0.0; std: 0.0\n",
      "mean: 1.9978430099890512; median: 2.0096731258519567; std: 0.8598413750584667\n",
      "yb_training_no_collar\n",
      "mean: 12.538262201369802; median: 6.282500590930065; std: 17.433363629711774\n",
      "mean: 12.940487159120508; median: 6.486636815467717; std: 17.990869705826206\n",
      "mean: 1.29079339860217e-310; median: 0.0; std: 0.0\n",
      "mean: 1.050531902008846; median: 0.2751914399346783; std: 1.7058984323480824\n",
      "ry_multi\n",
      "mean: 22.091657582850893; median: 21.727263911543393; std: 9.664017295723111\n",
      "mean: 23.29514818094472; median: 22.596729775747654; std: 10.187531133984955\n",
      "mean: 0.0; median: 0.0; std: 0.0\n",
      "mean: 3.8017922220006244; median: 2.602781997824666; std: 3.08643961260415\n",
      "yb_multi\n",
      "mean: 13.852083599313882; median: 8.921693571226282; std: 13.808394695005806\n",
      "mean: 14.474000250731882; median: 9.438190314358538; std: 14.087290277596447\n",
      "mean: 0.0; median: 0.0; std: 0.0\n",
      "mean: 1.5893719637733632; median: 0.999033193683532; std: 1.3805058715673897\n"
     ]
    }
   ],
   "source": [
    "for i, error in enumerate(errors):\n",
    "    print(str_errors[i])\n",
    "    for i in range(4):\n",
    "        x = error[:, i]\n",
    "        print('mean: ' + str(np.mean(x)) + '; median: ' + str(np.median(x)) + '; std: ' + str(np.std(x)))"
   ]
  },
  {
   "cell_type": "code",
   "execution_count": null,
   "id": "e48ae889-c514-406e-99db-bd2f30242be5",
   "metadata": {},
   "outputs": [],
   "source": []
  }
 ],
 "metadata": {
  "kernelspec": {
   "display_name": "Python 3 (ipykernel)",
   "language": "python",
   "name": "python3"
  },
  "language_info": {
   "codemirror_mode": {
    "name": "ipython",
    "version": 3
   },
   "file_extension": ".py",
   "mimetype": "text/x-python",
   "name": "python",
   "nbconvert_exporter": "python",
   "pygments_lexer": "ipython3",
   "version": "3.12.5"
  }
 },
 "nbformat": 4,
 "nbformat_minor": 5
}

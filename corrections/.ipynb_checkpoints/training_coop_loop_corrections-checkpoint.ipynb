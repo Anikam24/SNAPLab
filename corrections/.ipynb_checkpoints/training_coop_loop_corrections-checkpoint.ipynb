{
 "cells": [
  {
   "cell_type": "markdown",
   "id": "3d2ce3b0-18c5-4c67-a28c-bd99de1dd16e",
   "metadata": {},
   "source": [
    "## SUMMARY: Will correct the h5 prediction files for all of the training cooperation videos for a specified color pair"
   ]
  },
  {
   "cell_type": "markdown",
   "id": "d6e1048a-e7ed-45c6-aaea-6bca2e60ef17",
   "metadata": {},
   "source": [
    "# get color vids"
   ]
  },
  {
   "cell_type": "code",
   "execution_count": 1,
   "id": "61ed4884-4655-4306-afa0-500f36b8c07f",
   "metadata": {},
   "outputs": [],
   "source": [
    "import os\n",
    "import random\n",
    "import h5py\n",
    "import numpy as np\n",
    "import time\n",
    "\n",
    "from utils import find_node_velocity, get_stats, fill_missing, graph_vels, nan_vals"
   ]
  },
  {
   "cell_type": "code",
   "execution_count": 2,
   "id": "e09fb2ae-d5cd-4da1-a15e-f832003d87fd",
   "metadata": {},
   "outputs": [],
   "source": [
    "defaultdir = '/gpfs/radev/pi/saxena/aj764'\n",
    "rootdir = f'{defaultdir}/Training_COOPERATION/'"
   ]
  },
  {
   "cell_type": "markdown",
   "id": "2609ddee-7747-4de5-b018-0d7ceb2fbe13",
   "metadata": {},
   "source": [
    "Compiles a list of all of the sessions in PairedTestingSessions that have a Videos folder in them"
   ]
  },
  {
   "cell_type": "code",
   "execution_count": 7,
   "id": "f3ec5448-a2b1-4cee-8119-32a5cb2e8f06",
   "metadata": {},
   "outputs": [],
   "source": [
    "vid_subdirs = []\n",
    "for subdir, dirs, files in os.walk(rootdir):\n",
    "    vid_subdirs.append(subdir)\n",
    "vid_subdirs = sorted(vid_subdirs)"
   ]
  },
  {
   "cell_type": "markdown",
   "id": "71e4752a-8577-4a54-bf0c-1d591811c85e",
   "metadata": {},
   "source": [
    "Seperates all of the videos into single instance videos and multi instance videos (and takes out videos from before April)."
   ]
  },
  {
   "cell_type": "code",
   "execution_count": 8,
   "id": "58d854de-5c8c-44a2-b29e-4a65a951c52e",
   "metadata": {},
   "outputs": [],
   "source": [
    "multi_vids = {}\n",
    "for vids in vid_subdirs:\n",
    "    files = os.listdir(vids)\n",
    "    cut_vids = vids[28:]\n",
    "    multi_vids[cut_vids] = []\n",
    "    for file in files:\n",
    "        if file.endswith('.mp4'): # and int(file[:2]) >= 4:\n",
    "            multi_vids[cut_vids].append(file)\n",
    "            "
   ]
  },
  {
   "cell_type": "code",
   "execution_count": 9,
   "id": "94eaa2b8-b375-42cb-9f29-f4fdf90a9023",
   "metadata": {},
   "outputs": [
    {
     "name": "stdout",
     "output_type": "stream",
     "text": [
      "There are 212 multi instance videos\n"
     ]
    }
   ],
   "source": [
    "multi_len_tot = 0\n",
    "for key, value in multi_vids.items():\n",
    "    multi_len_tot += len(value)\n",
    "print(f'There are {multi_len_tot} multi instance videos')"
   ]
  },
  {
   "cell_type": "code",
   "execution_count": 10,
   "id": "c13c26a2-135f-4714-af67-6664a4419fb4",
   "metadata": {},
   "outputs": [],
   "source": [
    "# split the multi-instance videos into their respective color pairs...\n",
    "color_vids = {}\n",
    "for key, value in multi_vids.items():\n",
    "    for vid in value:\n",
    "        parsed = vid.split('-')\n",
    "        \n",
    "        trial_color = [parsed[0][-1], parsed[1][5]]\n",
    "        trial_key = ''\n",
    "        if 'R' in trial_color:\n",
    "            trial_key += 'R'\n",
    "        if 'G' in trial_color:\n",
    "            trial_key += 'G'\n",
    "        if 'Y' in trial_color:\n",
    "            trial_key += 'Y'\n",
    "        if 'B' in trial_color:\n",
    "            trial_key += 'B'\n",
    "        if trial_key not in color_vids.keys():\n",
    "            color_vids[trial_key] = []\n",
    "        color_vids[trial_key].append(vid)"
   ]
  },
  {
   "cell_type": "code",
   "execution_count": 11,
   "id": "03cf1aa9-50df-489c-a752-5d9ffb5fe684",
   "metadata": {},
   "outputs": [
    {
     "name": "stdout",
     "output_type": "stream",
     "text": [
      "There are 69 videos from YB color pair\n",
      "There are 18 videos from GB color pair\n",
      "There are 28 videos from RG color pair\n",
      "There are 19 videos from GY color pair\n",
      "There are 32 videos from RB color pair\n",
      "There are 46 videos from RY color pair\n",
      "\n",
      "\n",
      "There are 212 multi instance videos\n"
     ]
    }
   ],
   "source": [
    "len_tot = 0\n",
    "for key, value in color_vids.items():\n",
    "    print(f'There are {len(value)} videos from {key} color pair')\n",
    "    len_tot += len(value)\n",
    "print('\\n')\n",
    "print(f'There are {len_tot} multi instance videos')"
   ]
  },
  {
   "cell_type": "markdown",
   "id": "a8b54ea6-405c-4b20-9abc-a2c0601f4342",
   "metadata": {},
   "source": [
    "# fills in missing vals"
   ]
  },
  {
   "cell_type": "code",
   "execution_count": 13,
   "id": "ea19671a-3ff7-432a-9af4-979bef73b60c",
   "metadata": {},
   "outputs": [],
   "source": [
    "CHECK = False\n",
    "ACTUALLY_FILL = False\n",
    "color_pair = 'YB'"
   ]
  },
  {
   "cell_type": "code",
   "execution_count": 15,
   "id": "b5b796c8-4dfc-4d03-b2e2-317e79ac11bc",
   "metadata": {},
   "outputs": [
    {
     "name": "stdout",
     "output_type": "stream",
     "text": [
      "video name: 032824_COOPTRAIN_LARGEARENA_KL002B-KL002Y_Camera2.mp4\n",
      "intial nan: 60.7 %, after out nan: 60.91 %, final nan: 0.0 %\n",
      "video name: 032824_COOPTRAIN_LARGEARENA_KL001B-KL001Y_Camera1.mp4\n",
      "intial nan: 87.74 %, after out nan: 88.28 %, final nan: 0.0 %\n",
      "video name: 032924_COOPTRAIN_LARGEARENA_KL001B-KL001Y_Camera1.mp4\n",
      "intial nan: 10.45 %, after out nan: 11.16 %, final nan: 0.0 %\n",
      "video name: 032924_COOPTRAIN_LARGEARENA_KL005B-KL005Y_Camera1.mp4\n",
      "intial nan: 8.37 %, after out nan: 8.72 %, final nan: 0.0 %\n",
      "video name: 032924_COOPTRAIN_LARGEARENA_KL002B-KL002Y_Camera2.mp4\n",
      "intial nan: 10.93 %, after out nan: 11.54 %, final nan: 0.0 %\n",
      "video name: 033024_COOPTRAIN_LARGEARENA_KL005B-KL005Y_Camera1.mp4\n",
      "intial nan: 6.83 %, after out nan: 7.24 %, final nan: 0.0 %\n",
      "video name: 033024_COOPTRAIN_LARGEARENA_KL001B-KL001Y_Camera1.mp4\n",
      "intial nan: 12.67 %, after out nan: 13.3 %, final nan: 0.0 %\n",
      "video name: 033024_COOPTRAIN_LARGEARENA_KL002B-KL002Y_Camera2.mp4\n",
      "intial nan: 9.25 %, after out nan: 9.81 %, final nan: 0.0 %\n",
      "video name: 033124_COOPTRAIN_LARGEARENA_KL002B-KL002Y_Camera2.mp4\n",
      "intial nan: 8.69 %, after out nan: 9.32 %, final nan: 0.0 %\n",
      "video name: 033124_COOPTRAIN_LARGEARENA_KL005B-KL005Y_Camera1.mp4\n",
      "intial nan: 9.97 %, after out nan: 10.38 %, final nan: 0.0 %\n",
      "video name: 033124_COOPTRAIN_LARGEARENA_KL001B-KL001Y_Camera1.mp4\n",
      "intial nan: 14.98 %, after out nan: 15.48 %, final nan: 0.0 %\n",
      "video name: 040124_COOPTRAIN_LARGEARENA_KL005B-KL005Y_Camera1.mp4\n",
      "intial nan: 12.35 %, after out nan: 12.71 %, final nan: 0.0 %\n",
      "video name: 040124_COOPTRAIN_LARGEARENA_KL001B-KL001Y_Camera1.mp4\n",
      "intial nan: 20.08 %, after out nan: 20.56 %, final nan: 0.0 %\n",
      "video name: 040124_COOPTRAIN_LARGEARENA_KL002B-KL002Y_Camera2.mp4\n",
      "intial nan: 13.81 %, after out nan: 14.45 %, final nan: 0.0 %\n",
      "video name: 040224_COOPTRAIN_LARGEARENA_KL002B-KL002Y_Camera2.mp4\n",
      "intial nan: 6.73 %, after out nan: 7.55 %, final nan: 0.0 %\n",
      "video name: 040224_COOPTRAIN_LARGEARENA_KL005B-KL005Y_Camera1.mp4\n",
      "intial nan: 14.13 %, after out nan: 14.62 %, final nan: 0.0 %\n",
      "video name: 040224_COOPTRAIN_LARGEARENA_KL001B-KL001Y_Camera1.mp4\n",
      "intial nan: 18.9 %, after out nan: 19.46 %, final nan: 0.0 %\n",
      "video name: 040324_COOPTRAIN_LARGEARENA_KL002B-KL002Y_Camera2.mp4\n",
      "intial nan: 11.44 %, after out nan: 11.95 %, final nan: 0.0 %\n",
      "video name: 040324_COOPTRAIN_LARGEARENA_KL001B-KL001Y_Camera1.mp4\n",
      "intial nan: 26.23 %, after out nan: 26.85 %, final nan: 0.0 %\n",
      "video name: 040324_COOPTRAIN_LARGEARENA_KL005B-KL005Y_Camera1.mp4\n",
      "intial nan: 7.73 %, after out nan: 8.24 %, final nan: 0.0 %\n",
      "video name: 040424_COOPTRAIN_LARGEARENA_KL005B-KL005Y_Camera1.mp4\n",
      "intial nan: 6.2 %, after out nan: 6.6 %, final nan: 0.0 %\n",
      "video name: 040524_COOPTRAIN_LARGEARENA_KL005B-KL005Y_Camera1.mp4\n",
      "intial nan: 11.36 %, after out nan: 11.86 %, final nan: 0.0 %\n",
      "video name: 040524_COOPTRAIN_LARGEARENA_KL002B-KL002Y_Camera2.mp4\n",
      "intial nan: 3.6 %, after out nan: 4.38 %, final nan: 0.0 %\n",
      "video name: 040524_COOPTRAIN_LARGEARENA_KL001B-KL001Y_Camera1.mp4\n",
      "intial nan: 9.2 %, after out nan: 9.85 %, final nan: 0.0 %\n",
      "video name: 040724_COOPTRAIN_LARGEARENA_KL001B-KL001Y_Camera1.mp4\n",
      "intial nan: 9.44 %, after out nan: 10.13 %, final nan: 0.0 %\n",
      "video name: 040724_COOPTRAIN_LARGEARENA_KL002B-KL002Y_Camera2.mp4\n",
      "intial nan: 8.0 %, after out nan: 8.73 %, final nan: 0.0 %\n",
      "video name: 040824_COOPTRAIN_LARGEARENA_KL005B-KL005Y_Camera1.mp4\n",
      "intial nan: 29.7 %, after out nan: 29.94 %, final nan: 0.0 %\n",
      "video name: 040824_COOPTRAIN_LARGEARENA_KL001B-KL001Y_Camera1.mp4\n",
      "intial nan: 5.76 %, after out nan: 6.49 %, final nan: 0.0 %\n",
      "video name: 040824_COOPTRAIN_LARGEARENA_KL002B-KL002Y_Camera2.mp4\n",
      "intial nan: 6.36 %, after out nan: 7.0 %, final nan: 0.0 %\n",
      "video name: 041024_COOPTRAIN_LARGEARENA_EB009B-EB019Y_Camera2.mp4\n",
      "intial nan: 12.23 %, after out nan: 12.8 %, final nan: 0.0 %\n",
      "video name: 041024_COOPTRAIN_LARGEARENA_EB031B-EB033Y_Camera3.mp4\n",
      "intial nan: 22.28 %, after out nan: 22.59 %, final nan: 0.0 %\n",
      "video name: 041124_COOPTRAIN_LARGEARENA_EB031B-EB033Y_Camera3.mp4\n",
      "intial nan: 18.29 %, after out nan: 18.69 %, final nan: 0.0 %\n",
      "video name: 041124_COOPTRAIN_LARGEARENA_EB009B-EB019Y_Camera4.mp4\n",
      "intial nan: 17.85 %, after out nan: 18.24 %, final nan: 0.0 %\n",
      "video name: 041224_COOPTRAIN_LARGEARENA_EB009B-EB019Y_Camera4.mp4\n",
      "intial nan: 36.25 %, after out nan: 36.76 %, final nan: 0.0 %\n",
      "video name: 041224_COOPTRAIN_LARGEARENA_EB031B-EB033Y_Camera3.mp4\n",
      "intial nan: 17.2 %, after out nan: 17.81 %, final nan: 0.0 %\n",
      "video name: 041324_COOPTRAIN_LARGEARENA_EB031B-EB033Y_Camera4.mp4\n",
      "intial nan: 22.28 %, after out nan: 22.55 %, final nan: 0.0 %\n",
      "video name: 041324_COOPTRAIN_LARGEARENA_EB009B-EB019Y_Camera3.mp4\n",
      "intial nan: 30.18 %, after out nan: 30.76 %, final nan: 0.0 %\n",
      "video name: 041424_COOPTRAIN_LARGEARENA_EB009B-EB019Y_Camera2.mp4\n",
      "intial nan: 30.31 %, after out nan: 30.54 %, final nan: 0.0 %\n",
      "video name: 041424_COOPTRAIN_LARGEARENA_EB031B-EB033Y_Camera3.mp4\n",
      "intial nan: 14.66 %, after out nan: 15.22 %, final nan: 0.0 %\n",
      "video name: 041524_COOPTRAIN_LARGEARENA_EB031B-EB033Y_Camera3.mp4\n",
      "intial nan: 18.31 %, after out nan: 18.82 %, final nan: 0.0 %\n",
      "video name: 041524_COOPTRAIN_LARGEARENA_EB009B-EB019Y_Camera2.mp4\n",
      "intial nan: 26.55 %, after out nan: 26.79 %, final nan: 0.0 %\n",
      "video name: 041624_COOPTRAIN_LARGEARENA_EB031B-EB033Y_Camera3.mp4\n",
      "intial nan: 11.18 %, after out nan: 11.78 %, final nan: 0.0 %\n",
      "video name: 041624_COOPTRAIN_LARGEARENA_EB009B-EB019Y_Camera2.mp4\n",
      "intial nan: 22.37 %, after out nan: 22.81 %, final nan: 0.0 %\n",
      "video name: 041824_COOPTRAIN_LARGEARENA_EB009B-EB033Y_Camera3.mp4\n",
      "intial nan: 11.7 %, after out nan: 12.2 %, final nan: 0.0 %\n",
      "video name: 041824_COOPTRAIN_LARGEARENA_EB003B-EB019Y_Camera2.mp4\n",
      "intial nan: 17.54 %, after out nan: 18.07 %, final nan: 0.0 %\n",
      "video name: 041924_COOPTRAIN_LARGEARENA_EB003B-EB019Y_Camera2.mp4\n",
      "intial nan: 16.92 %, after out nan: 17.43 %, final nan: 0.0 %\n",
      "video name: 041924_COOPTRAIN_LARGEARENA_EB009B-EB033Y_Camera3.mp4\n",
      "intial nan: 13.05 %, after out nan: 13.63 %, final nan: 0.0 %\n",
      "video name: 042224_COOPTRAIN_LARGEARENA_EB003B-EB019Y_Camera2.mp4\n",
      "intial nan: 17.87 %, after out nan: 18.42 %, final nan: 0.0 %\n",
      "video name: 042224_COOPTRAIN_LARGEARENA_EB009B-EB033Y_Camera3.mp4\n",
      "intial nan: 11.48 %, after out nan: 12.14 %, final nan: 0.0 %\n",
      "video name: 042324_COOPTRAIN_LARGEARENA_EB009B-EB033Y_Camera3.mp4\n",
      "intial nan: 17.0 %, after out nan: 17.58 %, final nan: 0.0 %\n",
      "video name: 042324_COOPTRAIN_LARGEARENA_EB003B-EB019Y_Camera2.mp4\n",
      "intial nan: 19.83 %, after out nan: 20.44 %, final nan: 0.0 %\n",
      "video name: 042424_COOPTRAIN_LARGEARENA_EB003B-EB019Y_Camera2.mp4\n",
      "intial nan: 26.41 %, after out nan: 26.88 %, final nan: 0.0 %\n",
      "video name: 042424_COOPTRAIN_LARGEARENA_EB009B-EB033Y_Camera3.mp4\n",
      "intial nan: 15.46 %, after out nan: 15.91 %, final nan: 0.0 %\n",
      "video name: 042524_COOPTRAIN_LARGEARENA_EB009B-EB033Y_Camera3.mp4\n",
      "intial nan: 12.44 %, after out nan: 13.1 %, final nan: 0.0 %\n",
      "video name: 042524_COOPTRAIN_LARGEARENA_EB003B-EB019Y_Camera2.mp4\n",
      "intial nan: 22.31 %, after out nan: 22.6 %, final nan: 0.0 %\n",
      "video name: 061224_COOPTRAIN_LARGEARENA_HF003B-HF004Y_Camera2.mp4\n",
      "intial nan: 49.24 %, after out nan: 49.47 %, final nan: 0.0 %\n",
      "video name: 061824_COOPTRAIN_LARGEARENA_HF003B-HF004Y_Camera2.mp4\n",
      "intial nan: 49.66 %, after out nan: 49.86 %, final nan: 0.0 %\n",
      "video name: 062024_COOPTRAIN_LARGEARENA_HF003B-HF004Y_Camera2.mp4\n",
      "intial nan: 49.55 %, after out nan: 49.86 %, final nan: 0.0 %\n",
      "video name: 062424_COOPTRAIN_LARGEARENA_HF003B-HF004Y_Camera2.mp4\n",
      "intial nan: 49.63 %, after out nan: 49.84 %, final nan: 0.0 %\n",
      "video name: 070224_COOPTRAIN_LARGEARENA_HF003B-HF004Y_Camera2.mp4\n",
      "intial nan: 49.64 %, after out nan: 49.87 %, final nan: 0.0 %\n",
      "video name: 070324_COOPTRAIN_LARGEARENA_HF003B-HF004Y_Camera2.mp4\n",
      "intial nan: 49.04 %, after out nan: 49.37 %, final nan: 0.0 %\n",
      "video name: 070524_COOPTRAIN_LARGEARENA_HF003B-HF004Y_Camera2.mp4\n",
      "intial nan: 48.75 %, after out nan: 49.16 %, final nan: 0.0 %\n",
      "video name: 070824_COOPTRAIN_LARGEARENA_HF003B-HF004Y_Camera2.mp4\n",
      "intial nan: 49.26 %, after out nan: 49.66 %, final nan: 0.0 %\n",
      "video name: 070924_COOPTRAIN_LARGEARENA_HF003B-HF004Y_Camera2.mp4\n",
      "intial nan: 49.39 %, after out nan: 49.69 %, final nan: 0.0 %\n",
      "video name: 071024_COOPTRAIN_LARGEARENA_HF003B-HF004Y_Camera2.mp4\n",
      "intial nan: 49.41 %, after out nan: 49.73 %, final nan: 0.0 %\n",
      "video name: 071124_COOPTRAIN_LARGEARENA_HF003B-HF004Y.txt_Camera2.mp4\n",
      "intial nan: 49.53 %, after out nan: 49.81 %, final nan: 0.0 %\n",
      "video name: 071224_COOPTRAIN_LARGEARENA_HF003B-HF004Y_Camera3.mp4\n",
      "intial nan: 49.64 %, after out nan: 49.89 %, final nan: 0.0 %\n",
      "video name: 071524_COOPTRAIN_LARGEARENA_HF003B-HF004Y_Camera3.mp4\n",
      "intial nan: 49.57 %, after out nan: 49.88 %, final nan: 0.0 %\n",
      "video name: 071624_COOPTRAIN_LARGEARENA_HF003B-HF004Y_Camera2.mp4\n",
      "intial nan: 49.19 %, after out nan: 49.54 %, final nan: 0.0 %\n",
      "totals:\n",
      "intial nan: 23.99 %, after out nan: 24.46 %, final nan: 0.0 %\n",
      "time elapse: 562.2791967391968\n"
     ]
    }
   ],
   "source": [
    "start_time = time.time()\n",
    "\n",
    "total_intial_nan = 0\n",
    "total_after_out_nan = 0\n",
    "total_final_nan = 0\n",
    "bad_vids = []\n",
    "\n",
    "for i, session in enumerate(multi_vids.keys()): \n",
    "    video_list = multi_vids[session]\n",
    "    analysis_path = defaultdir + '/' + session + '/Tracking/h5/'\n",
    "    \n",
    "    for video in video_list:\n",
    "        if video in color_vids[color_pair]:\n",
    "            # open analysis file\n",
    "            analysis_file = analysis_path + video[:-3] + 'predictions.h5'\n",
    "            with h5py.File(analysis_file,'r+') as f:\n",
    "                locations = f[\"tracks\"][:].T \n",
    "    \n",
    "                # find nan values\n",
    "                intial = nan_vals(locations)\n",
    "\n",
    "                if intial > 20:\n",
    "                    bad_vids.append(video)\n",
    "    \n",
    "                # just to check you haven't already done this vid or it isn't empty\n",
    "                if intial != 0:\n",
    "                    # take out positional outliers\n",
    "                    for rat in range(locations.shape[-1]): # for each rat (not actually necessary, the dims work out without this loop but I don't feel like thinking abt that)\n",
    "                        all_vels = {}\n",
    "                        for node in range(locations.shape[1]): # for each node\n",
    "                            # find the velocities\n",
    "                            all_vels[node] = find_node_velocity(locations[:, node, :,  rat:rat+1])\n",
    "                        \n",
    "                            # get values need to find outliers\n",
    "                            mean, std, low, high = get_stats(all_vels[node])\n",
    "                        \n",
    "                            # if you want to check that these values looks good\n",
    "                            graph_vels(all_vels[node], CHECK)\n",
    "                        \n",
    "                            # replace outliers in locations with nan\n",
    "                            nan_index = [i for i in range(len(all_vels[node])) if (all_vels[node][i] > high or all_vels[node][i] < low)]\n",
    "                            for index in nan_index:\n",
    "                                locations[index + 1, node, 0, rat], locations[index + 1, node, 0, rat] = np.nan, np.nan\n",
    "                        \n",
    "                            # if you want to check that new locations look good\n",
    "                            test_vels = find_node_velocity(locations[:, node, :])\n",
    "                            graph_vels(test_vels, check=CHECK, old_low=low, old_high=high)\n",
    "        \n",
    "                    # find nan values again\n",
    "                    after_out = nan_vals(locations)\n",
    "        \n",
    "                    # fill in missing locations\n",
    "                    print(f'video name: {video}')\n",
    "                    new_locations = fill_missing(locations)\n",
    "                    if ACTUALLY_FILL:\n",
    "                        f[\"tracks\"][:] = new_locations.T\n",
    "    \n",
    "                    # finds nan values for final time\n",
    "                    after_fill = nan_vals(new_locations)\n",
    "                    \n",
    "                    total_intial_nan += intial\n",
    "                    total_after_out_nan += after_out\n",
    "                    total_final_nan += after_fill\n",
    "        \n",
    "                    # if you want to check the nan/fill values for a each video\n",
    "                    if True:\n",
    "                        # print(f'video name: {video}')\n",
    "                        print(f'intial nan: {round(intial, 2)} %, after out nan: {round(after_out, 2)} %, final nan: {round(after_fill, 2)} %')\n",
    "        \n",
    "print('totals:')\n",
    "print(f'intial nan: {round(total_intial_nan / len(color_vids[color_pair]), 2)} %, after out nan: {round(total_after_out_nan / len(color_vids[color_pair]), 2)} %, final nan: {round(total_final_nan / len(color_vids[color_pair]), 2)} %')\n",
    "print(f'time elapse: {time.time() - start_time}')"
   ]
  },
  {
   "cell_type": "markdown",
   "id": "44fbe955-5fc4-4895-aa47-0396c83e4932",
   "metadata": {},
   "source": [
    "# check our work... (abt 28 vids that I WOULDN'T trust!!)"
   ]
  },
  {
   "cell_type": "code",
   "execution_count": 16,
   "id": "b1e1e8db-45bc-49a5-8738-d943192b85fc",
   "metadata": {},
   "outputs": [
    {
     "name": "stdout",
     "output_type": "stream",
     "text": [
      "intial nan: 23.99 %, after out nan: 24.46 %, final nan: 0.0 %\n"
     ]
    }
   ],
   "source": [
    "print(f'intial nan: {round(total_intial_nan / len(color_vids[color_pair]), 2)} %, after out nan: {round(total_after_out_nan / len(color_vids[color_pair]), 2)} %, final nan: {round(total_final_nan / len(color_vids[color_pair]), 2)} %')\n"
   ]
  },
  {
   "cell_type": "code",
   "execution_count": 17,
   "id": "a24b879f-25ef-4897-8191-9b2d59d4e261",
   "metadata": {},
   "outputs": [
    {
     "name": "stdout",
     "output_type": "stream",
     "text": [
      "percent of videos intitially have over 1/5 of values nan: 40.58% \n"
     ]
    }
   ],
   "source": [
    "print(f'percent of videos intitially have over 1/5 of values nan: {round(100 * len(bad_vids) / len(color_vids[color_pair]) ,2)}% ')"
   ]
  },
  {
   "cell_type": "code",
   "execution_count": 18,
   "id": "72cdbd21-1704-4a07-b26f-d151b9f842f3",
   "metadata": {},
   "outputs": [
    {
     "data": {
      "text/plain": [
       "['032824_COOPTRAIN_LARGEARENA_KL002B-KL002Y_Camera2.mp4',\n",
       " '032824_COOPTRAIN_LARGEARENA_KL001B-KL001Y_Camera1.mp4',\n",
       " '040124_COOPTRAIN_LARGEARENA_KL001B-KL001Y_Camera1.mp4',\n",
       " '040324_COOPTRAIN_LARGEARENA_KL001B-KL001Y_Camera1.mp4',\n",
       " '040824_COOPTRAIN_LARGEARENA_KL005B-KL005Y_Camera1.mp4',\n",
       " '041024_COOPTRAIN_LARGEARENA_EB031B-EB033Y_Camera3.mp4',\n",
       " '041224_COOPTRAIN_LARGEARENA_EB009B-EB019Y_Camera4.mp4',\n",
       " '041324_COOPTRAIN_LARGEARENA_EB031B-EB033Y_Camera4.mp4',\n",
       " '041324_COOPTRAIN_LARGEARENA_EB009B-EB019Y_Camera3.mp4',\n",
       " '041424_COOPTRAIN_LARGEARENA_EB009B-EB019Y_Camera2.mp4',\n",
       " '041524_COOPTRAIN_LARGEARENA_EB009B-EB019Y_Camera2.mp4',\n",
       " '041624_COOPTRAIN_LARGEARENA_EB009B-EB019Y_Camera2.mp4',\n",
       " '042424_COOPTRAIN_LARGEARENA_EB003B-EB019Y_Camera2.mp4',\n",
       " '042524_COOPTRAIN_LARGEARENA_EB003B-EB019Y_Camera2.mp4',\n",
       " '061224_COOPTRAIN_LARGEARENA_HF003B-HF004Y_Camera2.mp4',\n",
       " '061824_COOPTRAIN_LARGEARENA_HF003B-HF004Y_Camera2.mp4',\n",
       " '062024_COOPTRAIN_LARGEARENA_HF003B-HF004Y_Camera2.mp4',\n",
       " '062424_COOPTRAIN_LARGEARENA_HF003B-HF004Y_Camera2.mp4',\n",
       " '070224_COOPTRAIN_LARGEARENA_HF003B-HF004Y_Camera2.mp4',\n",
       " '070324_COOPTRAIN_LARGEARENA_HF003B-HF004Y_Camera2.mp4',\n",
       " '070524_COOPTRAIN_LARGEARENA_HF003B-HF004Y_Camera2.mp4',\n",
       " '070824_COOPTRAIN_LARGEARENA_HF003B-HF004Y_Camera2.mp4',\n",
       " '070924_COOPTRAIN_LARGEARENA_HF003B-HF004Y_Camera2.mp4',\n",
       " '071024_COOPTRAIN_LARGEARENA_HF003B-HF004Y_Camera2.mp4',\n",
       " '071124_COOPTRAIN_LARGEARENA_HF003B-HF004Y.txt_Camera2.mp4',\n",
       " '071224_COOPTRAIN_LARGEARENA_HF003B-HF004Y_Camera3.mp4',\n",
       " '071524_COOPTRAIN_LARGEARENA_HF003B-HF004Y_Camera3.mp4',\n",
       " '071624_COOPTRAIN_LARGEARENA_HF003B-HF004Y_Camera2.mp4']"
      ]
     },
     "execution_count": 18,
     "metadata": {},
     "output_type": "execute_result"
    }
   ],
   "source": [
    "# the videos in question :(\n",
    "bad_vids"
   ]
  },
  {
   "cell_type": "code",
   "execution_count": null,
   "id": "ed30ae94-01f7-486e-b3c3-c47ba963d438",
   "metadata": {},
   "outputs": [],
   "source": []
  }
 ],
 "metadata": {
  "kernelspec": {
   "display_name": "Python 3 (ipykernel)",
   "language": "python",
   "name": "python3"
  },
  "language_info": {
   "codemirror_mode": {
    "name": "ipython",
    "version": 3
   },
   "file_extension": ".py",
   "mimetype": "text/x-python",
   "name": "python",
   "nbconvert_exporter": "python",
   "pygments_lexer": "ipython3",
   "version": "3.12.5"
  }
 },
 "nbformat": 4,
 "nbformat_minor": 5
}

{
 "cells": [
  {
   "cell_type": "code",
   "execution_count": 1,
   "id": "a97a9d75-76fb-462e-95ce-551385861860",
   "metadata": {},
   "outputs": [],
   "source": [
    "from moviepy import VideoFileClip\n",
    "import os\n",
    "import numpy as np"
   ]
  },
  {
   "cell_type": "code",
   "execution_count": 2,
   "id": "8fa2a2d5-ca61-4701-9ed0-076b0e108be8",
   "metadata": {},
   "outputs": [],
   "source": [
    "defaultdir = '/gpfs/radev/pi/saxena/aj764/'\n",
    "rootdir = f'{defaultdir}/PairedTestingSessions/'"
   ]
  },
  {
   "cell_type": "code",
   "execution_count": 3,
   "id": "a0620f6e-2236-45bc-9f4e-7b4e928ce3e7",
   "metadata": {},
   "outputs": [],
   "source": [
    "vid_subdirs = []\n",
    "for subdir, dirs, files in os.walk(rootdir):\n",
    "    if subdir.endswith(\"Videos\"):\n",
    "        vid_subdirs.append(subdir)\n",
    "vid_subdirs = sorted(vid_subdirs)"
   ]
  },
  {
   "cell_type": "code",
   "execution_count": 4,
   "id": "64ff6f6c-a6e3-4a68-9a6f-c679020df848",
   "metadata": {},
   "outputs": [],
   "source": [
    "single_vids = {}\n",
    "multi_vids = {}\n",
    "for vids in vid_subdirs:\n",
    "    files = os.listdir(vids)\n",
    "    cut_vids = vids[28:]\n",
    "    single_vids[cut_vids] = []\n",
    "    multi_vids[cut_vids] = []\n",
    "    for file in files:\n",
    "        if file.endswith('.mp4') and int(file[:2]) >= 4:\n",
    "            KL_count = file.count('KL')\n",
    "            EB_count = file.count('EB')\n",
    "            HF_count = file.count('HF')\n",
    "            if KL_count + EB_count + HF_count == 2:\n",
    "                multi_vids[cut_vids].append(file)\n",
    "            else:\n",
    "                single_vids[cut_vids].append(file)"
   ]
  },
  {
   "cell_type": "code",
   "execution_count": 5,
   "id": "ae38b478-fbed-4247-a52e-a22cb0dc3ca5",
   "metadata": {},
   "outputs": [],
   "source": [
    "def with_moviepy(filename):\n",
    "    clip = VideoFileClip(filename)\n",
    "    duration       = clip.duration\n",
    "    fps            = clip.fps\n",
    "    width, height  = clip.size\n",
    "    return duration, fps # , (width, height)"
   ]
  },
  {
   "cell_type": "code",
   "execution_count": null,
   "id": "ce4a2af8-126b-4157-8e01-fda6380ef857",
   "metadata": {},
   "outputs": [
    {
     "name": "stdout",
     "output_type": "stream",
     "text": [
      "{'video_found': True, 'audio_found': False, 'metadata': {'major_brand': 'mp41', 'minor_version': '1', 'compatible_brands': 'mp41isom', 'creation_time': '2024-04-16T22:49:54.000000Z', 'copyright': '', 'copyright-eng': ''}, 'inputs': [{'streams': [{'input_number': 0, 'stream_number': 0, 'stream_type': 'video', 'language': 'eng', 'default': True, 'size': [1392, 640], 'bitrate': 2499, 'fps': 30.0, 'codec_name': 'h264', 'profile': '(High)', 'metadata': {'Metadata': '', 'creation_time': '2024-04-16T22:49:54.000000Z', 'handler_name': 'Intel Video Media Handler', 'vendor_id': '[0][0][0][0]'}}], 'input_number': 0}], 'duration': 325.16, 'bitrate': 2506, 'start': 0.0, 'default_video_input_number': 0, 'default_video_stream_number': 0, 'video_codec_name': 'h264', 'video_profile': '(High)', 'video_size': [1392, 640], 'video_bitrate': 2499, 'video_fps': 30.0, 'video_duration': 325.16, 'video_n_frames': 9754}\n",
      "/home/aj764/.conda/envs/social_comp/lib/python3.12/site-packages/imageio_ffmpeg/binaries/ffmpeg-linux-x86_64-v7.0.2 -i /gpfs/radev/pi/saxena/aj764//PairedTestingSessions/041624_KL001_TimeOut/Videos/041624_Cam4_TrNum13_IS_KL001Y.mp4 -loglevel error -f image2pipe -vf scale=1392:640 -sws_flags bicubic -pix_fmt rgb24 -vcodec rawvideo -\n",
      "{'video_found': True, 'audio_found': False, 'metadata': {'major_brand': 'mp41', 'minor_version': '1', 'compatible_brands': 'mp41isom', 'creation_time': '2024-04-16T17:31:30.000000Z', 'copyright': '', 'copyright-eng': ''}, 'inputs': [{'streams': [{'input_number': 0, 'stream_number': 0, 'stream_type': 'video', 'language': 'eng', 'default': True, 'size': [1392, 640], 'bitrate': 2496, 'fps': 30.0, 'codec_name': 'h264', 'profile': '(High)', 'metadata': {'Metadata': '', 'creation_time': '2024-04-16T17:31:30.000000Z', 'handler_name': 'Intel Video Media Handler', 'vendor_id': '[0][0][0][0]'}}], 'input_number': 0}], 'duration': 872.65, 'bitrate': 2504, 'start': 0.0, 'default_video_input_number': 0, 'default_video_stream_number': 0, 'video_codec_name': 'h264', 'video_profile': '(High)', 'video_size': [1392, 640], 'video_bitrate': 2496, 'video_fps': 30.0, 'video_duration': 872.65, 'video_n_frames': 26179}\n",
      "/home/aj764/.conda/envs/social_comp/lib/python3.12/site-packages/imageio_ffmpeg/binaries/ffmpeg-linux-x86_64-v7.0.2 -i /gpfs/radev/pi/saxena/aj764//PairedTestingSessions/041624_KL001_TimeOut/Videos/041624_Cam4_TrNum1_IS_KL001B.mp4 -loglevel error -f image2pipe -vf scale=1392:640 -sws_flags bicubic -pix_fmt rgb24 -vcodec rawvideo -\n",
      "{'video_found': True, 'audio_found': False, 'metadata': {'major_brand': 'mp41', 'minor_version': '1', 'compatible_brands': 'mp41isom', 'creation_time': '2024-04-16T18:14:58.000000Z', 'copyright': '', 'copyright-eng': ''}, 'inputs': [{'streams': [{'input_number': 0, 'stream_number': 0, 'stream_type': 'video', 'language': 'eng', 'default': True, 'size': [1392, 640], 'bitrate': 2496, 'fps': 30.0, 'codec_name': 'h264', 'profile': '(High)', 'metadata': {'Metadata': '', 'creation_time': '2024-04-16T18:14:58.000000Z', 'handler_name': 'Intel Video Media Handler', 'vendor_id': '[0][0][0][0]'}}], 'input_number': 0}], 'duration': 680.81, 'bitrate': 2504, 'start': 0.0, 'default_video_input_number': 0, 'default_video_stream_number': 0, 'video_codec_name': 'h264', 'video_profile': '(High)', 'video_size': [1392, 640], 'video_bitrate': 2496, 'video_fps': 30.0, 'video_duration': 680.81, 'video_n_frames': 20424}\n",
      "/home/aj764/.conda/envs/social_comp/lib/python3.12/site-packages/imageio_ffmpeg/binaries/ffmpeg-linux-x86_64-v7.0.2 -i /gpfs/radev/pi/saxena/aj764//PairedTestingSessions/041624_KL001_TimeOut/Videos/041624_Cam4_TrNum4_IS_KL001Y.mp4 -loglevel error -f image2pipe -vf scale=1392:640 -sws_flags bicubic -pix_fmt rgb24 -vcodec rawvideo -\n",
      "{'video_found': True, 'audio_found': False, 'metadata': {'major_brand': 'mp41', 'minor_version': '1', 'compatible_brands': 'mp41isom', 'creation_time': '2024-04-16T23:30:17.000000Z', 'copyright': '', 'copyright-eng': ''}, 'inputs': [{'streams': [{'input_number': 0, 'stream_number': 0, 'stream_type': 'video', 'language': 'eng', 'default': True, 'size': [1392, 640], 'bitrate': 2498, 'fps': 30.0, 'codec_name': 'h264', 'profile': '(High)', 'metadata': {'Metadata': '', 'creation_time': '2024-04-16T23:30:17.000000Z', 'handler_name': 'Intel Video Media Handler', 'vendor_id': '[0][0][0][0]'}}], 'input_number': 0}], 'duration': 447.34, 'bitrate': 2505, 'start': 0.0, 'default_video_input_number': 0, 'default_video_stream_number': 0, 'video_codec_name': 'h264', 'video_profile': '(High)', 'video_size': [1392, 640], 'video_bitrate': 2498, 'video_fps': 30.0, 'video_duration': 447.34, 'video_n_frames': 13420}\n",
      "/home/aj764/.conda/envs/social_comp/lib/python3.12/site-packages/imageio_ffmpeg/binaries/ffmpeg-linux-x86_64-v7.0.2 -i /gpfs/radev/pi/saxena/aj764//PairedTestingSessions/041624_KL001_TimeOut/Videos/041624_Cam4_TrNum16_IS_KL001B.mp4 -loglevel error -f image2pipe -vf scale=1392:640 -sws_flags bicubic -pix_fmt rgb24 -vcodec rawvideo -\n",
      "{'video_found': True, 'audio_found': False, 'metadata': {'major_brand': 'mp41', 'minor_version': '1', 'compatible_brands': 'mp41isom', 'creation_time': '2024-04-16T23:02:27.000000Z', 'copyright': '', 'copyright-eng': ''}, 'inputs': [{'streams': [{'input_number': 0, 'stream_number': 0, 'stream_type': 'video', 'language': 'eng', 'default': True, 'size': [1392, 640], 'bitrate': 2499, 'fps': 30.0, 'codec_name': 'h264', 'profile': '(High)', 'metadata': {'Metadata': '', 'creation_time': '2024-04-16T23:02:27.000000Z', 'handler_name': 'Intel Video Media Handler', 'vendor_id': '[0][0][0][0]'}}], 'input_number': 0}], 'duration': 189.74, 'bitrate': 2506, 'start': 0.0, 'default_video_input_number': 0, 'default_video_stream_number': 0, 'video_codec_name': 'h264', 'video_profile': '(High)', 'video_size': [1392, 640], 'video_bitrate': 2499, 'video_fps': 30.0, 'video_duration': 189.74, 'video_n_frames': 5692}\n",
      "/home/aj764/.conda/envs/social_comp/lib/python3.12/site-packages/imageio_ffmpeg/binaries/ffmpeg-linux-x86_64-v7.0.2 -i /gpfs/radev/pi/saxena/aj764//PairedTestingSessions/041624_KL001_TimeOut/Videos/041624_Cam4_TrNum14_PV_KL001G.mp4 -loglevel error -f image2pipe -vf scale=1392:640 -sws_flags bicubic -pix_fmt rgb24 -vcodec rawvideo -\n",
      "{'video_found': True, 'audio_found': False, 'metadata': {'major_brand': 'mp41', 'minor_version': '1', 'compatible_brands': 'mp41isom', 'creation_time': '2024-04-16T23:16:09.000000Z', 'copyright': '', 'copyright-eng': ''}, 'inputs': [{'streams': [{'input_number': 0, 'stream_number': 0, 'stream_type': 'video', 'language': 'eng', 'default': True, 'size': [1392, 640], 'bitrate': 2498, 'fps': 30.0, 'codec_name': 'h264', 'profile': '(High)', 'metadata': {'Metadata': '', 'creation_time': '2024-04-16T23:16:09.000000Z', 'handler_name': 'Intel Video Media Handler', 'vendor_id': '[0][0][0][0]'}}], 'input_number': 0}], 'duration': 203.77, 'bitrate': 2505, 'start': 0.0, 'default_video_input_number': 0, 'default_video_stream_number': 0, 'video_codec_name': 'h264', 'video_profile': '(High)', 'video_size': [1392, 640], 'video_bitrate': 2498, 'video_fps': 30.0, 'video_duration': 203.77, 'video_n_frames': 6113}\n",
      "/home/aj764/.conda/envs/social_comp/lib/python3.12/site-packages/imageio_ffmpeg/binaries/ffmpeg-linux-x86_64-v7.0.2 -i /gpfs/radev/pi/saxena/aj764//PairedTestingSessions/041624_KL001_TimeOut/Videos/041624_Cam4_TrNum15_PV_KL001R.mp4 -loglevel error -f image2pipe -vf scale=1392:640 -sws_flags bicubic -pix_fmt rgb24 -vcodec rawvideo -\n",
      "{'video_found': True, 'audio_found': False, 'metadata': {'major_brand': 'mp41', 'minor_version': '1', 'compatible_brands': 'mp41isom', 'creation_time': '2024-04-16T17:57:09.000000Z', 'copyright': '', 'copyright-eng': ''}, 'inputs': [{'streams': [{'input_number': 0, 'stream_number': 0, 'stream_type': 'video', 'language': 'eng', 'default': True, 'size': [1392, 640], 'bitrate': 2499, 'fps': 30.0, 'codec_name': 'h264', 'profile': '(High)', 'metadata': {'Metadata': '', 'creation_time': '2024-04-16T17:57:09.000000Z', 'handler_name': 'Intel Video Media Handler', 'vendor_id': '[0][0][0][0]'}}], 'input_number': 0}], 'duration': 217.64, 'bitrate': 2506, 'start': 0.0, 'default_video_input_number': 0, 'default_video_stream_number': 0, 'video_codec_name': 'h264', 'video_profile': '(High)', 'video_size': [1392, 640], 'video_bitrate': 2499, 'video_fps': 30.0, 'video_duration': 217.64, 'video_n_frames': 6529}\n",
      "/home/aj764/.conda/envs/social_comp/lib/python3.12/site-packages/imageio_ffmpeg/binaries/ffmpeg-linux-x86_64-v7.0.2 -i /gpfs/radev/pi/saxena/aj764//PairedTestingSessions/041624_KL001_TimeOut/Videos/041624_Cam4_TrNum3_PV_KL001R.mp4 -loglevel error -f image2pipe -vf scale=1392:640 -sws_flags bicubic -pix_fmt rgb24 -vcodec rawvideo -\n",
      "{'video_found': True, 'audio_found': False, 'metadata': {'major_brand': 'mp41', 'minor_version': '1', 'compatible_brands': 'mp41isom', 'creation_time': '2024-04-16T17:44:17.000000Z', 'copyright': '', 'copyright-eng': ''}, 'inputs': [{'streams': [{'input_number': 0, 'stream_number': 0, 'stream_type': 'video', 'language': 'eng', 'default': True, 'size': [1392, 640], 'bitrate': 2498, 'fps': 30.0, 'codec_name': 'h264', 'profile': '(High)', 'metadata': {'Metadata': '', 'creation_time': '2024-04-16T17:44:17.000000Z', 'handler_name': 'Intel Video Media Handler', 'vendor_id': '[0][0][0][0]'}}], 'input_number': 0}], 'duration': 213.64, 'bitrate': 2506, 'start': 0.0, 'default_video_input_number': 0, 'default_video_stream_number': 0, 'video_codec_name': 'h264', 'video_profile': '(High)', 'video_size': [1392, 640], 'video_bitrate': 2498, 'video_fps': 30.0, 'video_duration': 213.64, 'video_n_frames': 6409}\n",
      "/home/aj764/.conda/envs/social_comp/lib/python3.12/site-packages/imageio_ffmpeg/binaries/ffmpeg-linux-x86_64-v7.0.2 -i /gpfs/radev/pi/saxena/aj764//PairedTestingSessions/041624_KL001_TimeOut/Videos/041624_Cam4_TrNum2_PV_KL001G.mp4 -loglevel error -f image2pipe -vf scale=1392:640 -sws_flags bicubic -pix_fmt rgb24 -vcodec rawvideo -\n",
      "{'video_found': True, 'audio_found': False, 'metadata': {'major_brand': 'mp41', 'minor_version': '1', 'compatible_brands': 'mp41isom', 'creation_time': '2024-04-16T17:44:00.000000Z', 'copyright': '', 'copyright-eng': ''}, 'inputs': [{'streams': [{'input_number': 0, 'stream_number': 0, 'stream_type': 'video', 'language': 'eng', 'default': True, 'size': [1392, 640], 'bitrate': 2501, 'fps': 30.0, 'codec_name': 'h264', 'profile': '(High)', 'metadata': {'Metadata': '', 'creation_time': '2024-04-16T17:44:00.000000Z', 'handler_name': 'Intel Video Media Handler', 'vendor_id': '[0][0][0][0]'}}], 'input_number': 0}], 'duration': 196.23, 'bitrate': 2509, 'start': 0.0, 'default_video_input_number': 0, 'default_video_stream_number': 0, 'video_codec_name': 'h264', 'video_profile': '(High)', 'video_size': [1392, 640], 'video_bitrate': 2501, 'video_fps': 30.0, 'video_duration': 196.23, 'video_n_frames': 5886}\n",
      "/home/aj764/.conda/envs/social_comp/lib/python3.12/site-packages/imageio_ffmpeg/binaries/ffmpeg-linux-x86_64-v7.0.2 -i /gpfs/radev/pi/saxena/aj764//PairedTestingSessions/041624_KL002_TimeOut/Videos/041624_Cam3_TrNum2_PV_KL002R.mp4 -loglevel error -f image2pipe -vf scale=1392:640 -sws_flags bicubic -pix_fmt rgb24 -vcodec rawvideo -\n",
      "{'video_found': True, 'audio_found': False, 'metadata': {'major_brand': 'mp41', 'minor_version': '1', 'compatible_brands': 'mp41isom', 'creation_time': '2024-04-16T17:57:25.000000Z', 'copyright': '', 'copyright-eng': ''}, 'inputs': [{'streams': [{'input_number': 0, 'stream_number': 0, 'stream_type': 'video', 'language': 'eng', 'default': True, 'size': [1392, 640], 'bitrate': 2499, 'fps': 30.0, 'codec_name': 'h264', 'profile': '(High)', 'metadata': {'Metadata': '', 'creation_time': '2024-04-16T17:57:25.000000Z', 'handler_name': 'Intel Video Media Handler', 'vendor_id': '[0][0][0][0]'}}], 'input_number': 0}], 'duration': 233.3, 'bitrate': 2507, 'start': 0.0, 'default_video_input_number': 0, 'default_video_stream_number': 0, 'video_codec_name': 'h264', 'video_profile': '(High)', 'video_size': [1392, 640], 'video_bitrate': 2499, 'video_fps': 30.0, 'video_duration': 233.3, 'video_n_frames': 6999}\n",
      "/home/aj764/.conda/envs/social_comp/lib/python3.12/site-packages/imageio_ffmpeg/binaries/ffmpeg-linux-x86_64-v7.0.2 -i /gpfs/radev/pi/saxena/aj764//PairedTestingSessions/041624_KL002_TimeOut/Videos/041624_Cam3_TrNum3_PV_KL002G.mp4 -loglevel error -f image2pipe -vf scale=1392:640 -sws_flags bicubic -pix_fmt rgb24 -vcodec rawvideo -\n",
      "{'video_found': True, 'audio_found': False, 'metadata': {'major_brand': 'mp41', 'minor_version': '1', 'compatible_brands': 'mp41isom', 'creation_time': '2024-04-16T23:16:51.000000Z', 'copyright': '', 'copyright-eng': ''}, 'inputs': [{'streams': [{'input_number': 0, 'stream_number': 0, 'stream_type': 'video', 'language': 'eng', 'default': True, 'size': [1392, 640], 'bitrate': 2501, 'fps': 30.0, 'codec_name': 'h264', 'profile': '(High)', 'metadata': {'Metadata': '', 'creation_time': '2024-04-16T23:16:51.000000Z', 'handler_name': 'Intel Video Media Handler', 'vendor_id': '[0][0][0][0]'}}], 'input_number': 0}], 'duration': 245.03, 'bitrate': 2509, 'start': 0.0, 'default_video_input_number': 0, 'default_video_stream_number': 0, 'video_codec_name': 'h264', 'video_profile': '(High)', 'video_size': [1392, 640], 'video_bitrate': 2501, 'video_fps': 30.0, 'video_duration': 245.03, 'video_n_frames': 7350}\n",
      "/home/aj764/.conda/envs/social_comp/lib/python3.12/site-packages/imageio_ffmpeg/binaries/ffmpeg-linux-x86_64-v7.0.2 -i /gpfs/radev/pi/saxena/aj764//PairedTestingSessions/041624_KL002_TimeOut/Videos/041624_Cam3_TrNum15_IS_KL002B.mp4 -loglevel error -f image2pipe -vf scale=1392:640 -sws_flags bicubic -pix_fmt rgb24 -vcodec rawvideo -\n",
      "{'video_found': True, 'audio_found': False, 'metadata': {'major_brand': 'mp41', 'minor_version': '1', 'compatible_brands': 'mp41isom', 'creation_time': '2024-04-16T23:26:29.000000Z', 'copyright': '', 'copyright-eng': ''}, 'inputs': [{'streams': [{'input_number': 0, 'stream_number': 0, 'stream_type': 'video', 'language': 'eng', 'default': True, 'size': [1392, 640], 'bitrate': 2501, 'fps': 30.0, 'codec_name': 'h264', 'profile': '(High)', 'metadata': {'Metadata': '', 'creation_time': '2024-04-16T23:26:29.000000Z', 'handler_name': 'Intel Video Media Handler', 'vendor_id': '[0][0][0][0]'}}], 'input_number': 0}], 'duration': 219.13, 'bitrate': 2509, 'start': 0.0, 'default_video_input_number': 0, 'default_video_stream_number': 0, 'video_codec_name': 'h264', 'video_profile': '(High)', 'video_size': [1392, 640], 'video_bitrate': 2501, 'video_fps': 30.0, 'video_duration': 219.13, 'video_n_frames': 6573}\n",
      "/home/aj764/.conda/envs/social_comp/lib/python3.12/site-packages/imageio_ffmpeg/binaries/ffmpeg-linux-x86_64-v7.0.2 -i /gpfs/radev/pi/saxena/aj764//PairedTestingSessions/041624_KL002_TimeOut/Videos/041624_Cam3_TrNum16_PV_KL002G.mp4 -loglevel error -f image2pipe -vf scale=1392:640 -sws_flags bicubic -pix_fmt rgb24 -vcodec rawvideo -\n",
      "{'video_found': True, 'audio_found': False, 'metadata': {'major_brand': 'mp41', 'minor_version': '1', 'compatible_brands': 'mp41isom', 'creation_time': '2024-04-16T17:30:41.000000Z', 'copyright': '', 'copyright-eng': ''}, 'inputs': [{'streams': [{'input_number': 0, 'stream_number': 0, 'stream_type': 'video', 'language': 'eng', 'default': True, 'size': [1392, 640], 'bitrate': 2496, 'fps': 30.0, 'codec_name': 'h264', 'profile': '(High)', 'metadata': {'Metadata': '', 'creation_time': '2024-04-16T17:30:41.000000Z', 'handler_name': 'Intel Video Media Handler', 'vendor_id': '[0][0][0][0]'}}], 'input_number': 0}], 'duration': 823.45, 'bitrate': 2504, 'start': 0.0, 'default_video_input_number': 0, 'default_video_stream_number': 0, 'video_codec_name': 'h264', 'video_profile': '(High)', 'video_size': [1392, 640], 'video_bitrate': 2496, 'video_fps': 30.0, 'video_duration': 823.45, 'video_n_frames': 24703}\n",
      "/home/aj764/.conda/envs/social_comp/lib/python3.12/site-packages/imageio_ffmpeg/binaries/ffmpeg-linux-x86_64-v7.0.2 -i /gpfs/radev/pi/saxena/aj764//PairedTestingSessions/041624_KL002_TimeOut/Videos/041624_Cam3_TrNum1_IS_KL002Y.mp4 -loglevel error -f image2pipe -vf scale=1392:640 -sws_flags bicubic -pix_fmt rgb24 -vcodec rawvideo -\n",
      "{'video_found': True, 'audio_found': False, 'metadata': {'major_brand': 'mp41', 'minor_version': '1', 'compatible_brands': 'mp41isom', 'creation_time': '2024-04-16T18:17:36.000000Z', 'copyright': '', 'copyright-eng': ''}, 'inputs': [{'streams': [{'input_number': 0, 'stream_number': 0, 'stream_type': 'video', 'language': 'eng', 'default': True, 'size': [1392, 640], 'bitrate': 2496, 'fps': 30.0, 'codec_name': 'h264', 'profile': '(High)', 'metadata': {'Metadata': '', 'creation_time': '2024-04-16T18:17:36.000000Z', 'handler_name': 'Intel Video Media Handler', 'vendor_id': '[0][0][0][0]'}}], 'input_number': 0}], 'duration': 838.48, 'bitrate': 2504, 'start': 0.0, 'default_video_input_number': 0, 'default_video_stream_number': 0, 'video_codec_name': 'h264', 'video_profile': '(High)', 'video_size': [1392, 640], 'video_bitrate': 2496, 'video_fps': 30.0, 'video_duration': 838.48, 'video_n_frames': 25154}\n",
      "/home/aj764/.conda/envs/social_comp/lib/python3.12/site-packages/imageio_ffmpeg/binaries/ffmpeg-linux-x86_64-v7.0.2 -i /gpfs/radev/pi/saxena/aj764//PairedTestingSessions/041624_KL002_TimeOut/Videos/041624_Cam3_TrNum4_IS_KL002B.mp4 -loglevel error -f image2pipe -vf scale=1392:640 -sws_flags bicubic -pix_fmt rgb24 -vcodec rawvideo -\n",
      "{'video_found': True, 'audio_found': False, 'metadata': {'major_brand': 'mp41', 'minor_version': '1', 'compatible_brands': 'mp41isom', 'creation_time': '2024-04-16T22:53:40.000000Z', 'copyright': '', 'copyright-eng': ''}, 'inputs': [{'streams': [{'input_number': 0, 'stream_number': 0, 'stream_type': 'video', 'language': 'eng', 'default': True, 'size': [1392, 640], 'bitrate': 2498, 'fps': 30.0, 'codec_name': 'h264', 'profile': '(High)', 'metadata': {'Metadata': '', 'creation_time': '2024-04-16T22:53:40.000000Z', 'handler_name': 'Intel Video Media Handler', 'vendor_id': '[0][0][0][0]'}}], 'input_number': 0}], 'duration': 551.06, 'bitrate': 2505, 'start': 0.0, 'default_video_input_number': 0, 'default_video_stream_number': 0, 'video_codec_name': 'h264', 'video_profile': '(High)', 'video_size': [1392, 640], 'video_bitrate': 2498, 'video_fps': 30.0, 'video_duration': 551.06, 'video_n_frames': 16531}\n",
      "/home/aj764/.conda/envs/social_comp/lib/python3.12/site-packages/imageio_ffmpeg/binaries/ffmpeg-linux-x86_64-v7.0.2 -i /gpfs/radev/pi/saxena/aj764//PairedTestingSessions/041624_KL002_TimeOut/Videos/041624_Cam3_TrNum13_IS_KL002Y.mp4 -loglevel error -f image2pipe -vf scale=1392:640 -sws_flags bicubic -pix_fmt rgb24 -vcodec rawvideo -\n",
      "{'video_found': True, 'audio_found': False, 'metadata': {'major_brand': 'mp41', 'minor_version': '1', 'compatible_brands': 'mp41isom', 'creation_time': '2024-04-16T23:02:13.000000Z', 'copyright': '', 'copyright-eng': ''}, 'inputs': [{'streams': [{'input_number': 0, 'stream_number': 0, 'stream_type': 'video', 'language': 'eng', 'default': True, 'size': [1392, 640], 'bitrate': 2501, 'fps': 30.0, 'codec_name': 'h264', 'profile': '(High)', 'metadata': {'Metadata': '', 'creation_time': '2024-04-16T23:02:13.000000Z', 'handler_name': 'Intel Video Media Handler', 'vendor_id': '[0][0][0][0]'}}], 'input_number': 0}], 'duration': 175.32999999999998, 'bitrate': 2509, 'start': 0.0, 'default_video_input_number': 0, 'default_video_stream_number': 0, 'video_codec_name': 'h264', 'video_profile': '(High)', 'video_size': [1392, 640], 'video_bitrate': 2501, 'video_fps': 30.0, 'video_duration': 175.32999999999998, 'video_n_frames': 5259}\n",
      "/home/aj764/.conda/envs/social_comp/lib/python3.12/site-packages/imageio_ffmpeg/binaries/ffmpeg-linux-x86_64-v7.0.2 -i /gpfs/radev/pi/saxena/aj764//PairedTestingSessions/041624_KL002_TimeOut/Videos/041624_Cam3_TrNum14_PV_KL002R.mp4 -loglevel error -f image2pipe -vf scale=1392:640 -sws_flags bicubic -pix_fmt rgb24 -vcodec rawvideo -\n",
      "{'video_found': True, 'audio_found': False, 'metadata': {'major_brand': 'mp41', 'minor_version': '1', 'compatible_brands': 'mp41isom', 'creation_time': '2024-04-16T17:56:37.000000Z', 'copyright': '', 'copyright-eng': ''}, 'inputs': [{'streams': [{'input_number': 0, 'stream_number': 0, 'stream_type': 'video', 'language': 'eng', 'default': True, 'size': [1392, 640], 'bitrate': 2498, 'fps': 29.99, 'codec_name': 'h264', 'profile': '(High)', 'metadata': {'Metadata': '', 'creation_time': '2024-04-16T17:56:37.000000Z', 'handler_name': 'Intel Video Media Handler', 'vendor_id': '[0][0][0][0]'}}], 'input_number': 0}], 'duration': 185.83, 'bitrate': 2506, 'start': 0.0, 'default_video_input_number': 0, 'default_video_stream_number': 0, 'video_codec_name': 'h264', 'video_profile': '(High)', 'video_size': [1392, 640], 'video_bitrate': 2498, 'video_fps': 29.99, 'video_duration': 185.83, 'video_n_frames': 5573}\n",
      "/home/aj764/.conda/envs/social_comp/lib/python3.12/site-packages/imageio_ffmpeg/binaries/ffmpeg-linux-x86_64-v7.0.2 -i /gpfs/radev/pi/saxena/aj764//PairedTestingSessions/041624_KL003_TimeOut/Videos/041624_Cam2_TrNum3_PV_KL003Y.mp4 -loglevel error -f image2pipe -vf scale=1392:640 -sws_flags bicubic -pix_fmt rgb24 -vcodec rawvideo -\n",
      "{'video_found': True, 'audio_found': False, 'metadata': {'major_brand': 'mp41', 'minor_version': '1', 'compatible_brands': 'mp41isom', 'creation_time': '2024-04-16T23:25:58.000000Z', 'copyright': '', 'copyright-eng': ''}, 'inputs': [{'streams': [{'input_number': 0, 'stream_number': 0, 'stream_type': 'video', 'language': 'eng', 'default': True, 'size': [1392, 640], 'bitrate': 2500, 'fps': 30.0, 'codec_name': 'h264', 'profile': '(High)', 'metadata': {'Metadata': '', 'creation_time': '2024-04-16T23:25:58.000000Z', 'handler_name': 'Intel Video Media Handler', 'vendor_id': '[0][0][0][0]'}}], 'input_number': 0}], 'duration': 188.54, 'bitrate': 2507, 'start': 0.0, 'default_video_input_number': 0, 'default_video_stream_number': 0, 'video_codec_name': 'h264', 'video_profile': '(High)', 'video_size': [1392, 640], 'video_bitrate': 2500, 'video_fps': 30.0, 'video_duration': 188.54, 'video_n_frames': 5656}\n",
      "/home/aj764/.conda/envs/social_comp/lib/python3.12/site-packages/imageio_ffmpeg/binaries/ffmpeg-linux-x86_64-v7.0.2 -i /gpfs/radev/pi/saxena/aj764//PairedTestingSessions/041624_KL003_TimeOut/Videos/041624_Cam2_TrNum16_PV_KL003Y.mp4 -loglevel error -f image2pipe -vf scale=1392:640 -sws_flags bicubic -pix_fmt rgb24 -vcodec rawvideo -\n",
      "{'video_found': True, 'audio_found': False, 'metadata': {'major_brand': 'mp41', 'minor_version': '1', 'compatible_brands': 'mp41isom', 'creation_time': '2024-04-16T17:49:24.000000Z', 'copyright': '', 'copyright-eng': ''}, 'inputs': [{'streams': [{'input_number': 0, 'stream_number': 0, 'stream_type': 'video', 'language': 'eng', 'default': True, 'size': [1392, 640], 'bitrate': 2496, 'fps': 30.0, 'codec_name': 'h264', 'profile': '(High)', 'metadata': {'Metadata': '', 'creation_time': '2024-04-16T17:49:24.000000Z', 'handler_name': 'Intel Video Media Handler', 'vendor_id': '[0][0][0][0]'}}], 'input_number': 0}], 'duration': 520.82, 'bitrate': 2504, 'start': 0.0, 'default_video_input_number': 0, 'default_video_stream_number': 0, 'video_codec_name': 'h264', 'video_profile': '(High)', 'video_size': [1392, 640], 'video_bitrate': 2496, 'video_fps': 30.0, 'video_duration': 520.82, 'video_n_frames': 15624}\n",
      "/home/aj764/.conda/envs/social_comp/lib/python3.12/site-packages/imageio_ffmpeg/binaries/ffmpeg-linux-x86_64-v7.0.2 -i /gpfs/radev/pi/saxena/aj764//PairedTestingSessions/041624_KL003_TimeOut/Videos/041624_Cam2_TrNum2_IS_KL003B.mp4 -loglevel error -f image2pipe -vf scale=1392:640 -sws_flags bicubic -pix_fmt rgb24 -vcodec rawvideo -\n",
      "{'video_found': True, 'audio_found': False, 'metadata': {'major_brand': 'mp41', 'minor_version': '1', 'compatible_brands': 'mp41isom', 'creation_time': '2024-04-16T23:08:41.000000Z', 'copyright': '', 'copyright-eng': ''}, 'inputs': [{'streams': [{'input_number': 0, 'stream_number': 0, 'stream_type': 'video', 'language': 'eng', 'default': True, 'size': [1392, 640], 'bitrate': 2496, 'fps': 29.99, 'codec_name': 'h264', 'profile': '(High)', 'metadata': {'Metadata': '', 'creation_time': '2024-04-16T23:08:41.000000Z', 'handler_name': 'Intel Video Media Handler', 'vendor_id': '[0][0][0][0]'}}], 'input_number': 0}], 'duration': 563.69, 'bitrate': 2504, 'start': 0.0, 'default_video_input_number': 0, 'default_video_stream_number': 0, 'video_codec_name': 'h264', 'video_profile': '(High)', 'video_size': [1392, 640], 'video_bitrate': 2496, 'video_fps': 29.99, 'video_duration': 563.69, 'video_n_frames': 16905}\n",
      "/home/aj764/.conda/envs/social_comp/lib/python3.12/site-packages/imageio_ffmpeg/binaries/ffmpeg-linux-x86_64-v7.0.2 -i /gpfs/radev/pi/saxena/aj764//PairedTestingSessions/041624_KL003_TimeOut/Videos/041624_Cam2_TrNum14_IS_KL003G.mp4 -loglevel error -f image2pipe -vf scale=1392:640 -sws_flags bicubic -pix_fmt rgb24 -vcodec rawvideo -\n",
      "{'video_found': True, 'audio_found': False, 'metadata': {'major_brand': 'mp41', 'minor_version': '1', 'compatible_brands': 'mp41isom', 'creation_time': '2024-04-16T18:07:48.000000Z', 'copyright': '', 'copyright-eng': ''}, 'inputs': [{'streams': [{'input_number': 0, 'stream_number': 0, 'stream_type': 'video', 'language': 'eng', 'default': True, 'size': [1392, 640], 'bitrate': 2498, 'fps': 30.0, 'codec_name': 'h264', 'profile': '(High)', 'metadata': {'Metadata': '', 'creation_time': '2024-04-16T18:07:48.000000Z', 'handler_name': 'Intel Video Media Handler', 'vendor_id': '[0][0][0][0]'}}], 'input_number': 0}], 'duration': 250.53, 'bitrate': 2506, 'start': 0.0, 'default_video_input_number': 0, 'default_video_stream_number': 0, 'video_codec_name': 'h264', 'video_profile': '(High)', 'video_size': [1392, 640], 'video_bitrate': 2498, 'video_fps': 30.0, 'video_duration': 250.53, 'video_n_frames': 7515}\n",
      "/home/aj764/.conda/envs/social_comp/lib/python3.12/site-packages/imageio_ffmpeg/binaries/ffmpeg-linux-x86_64-v7.0.2 -i /gpfs/radev/pi/saxena/aj764//PairedTestingSessions/041624_KL003_TimeOut/Videos/041624_Cam2_TrNum4_PV_KL003R.mp4 -loglevel error -f image2pipe -vf scale=1392:640 -sws_flags bicubic -pix_fmt rgb24 -vcodec rawvideo -\n",
      "{'video_found': True, 'audio_found': False, 'metadata': {'major_brand': 'mp41', 'minor_version': '1', 'compatible_brands': 'mp41isom', 'creation_time': '2024-04-16T17:27:51.000000Z', 'copyright': '', 'copyright-eng': ''}, 'inputs': [{'streams': [{'input_number': 0, 'stream_number': 0, 'stream_type': 'video', 'language': 'eng', 'default': True, 'size': [1392, 640], 'bitrate': 2494, 'fps': 29.96, 'codec_name': 'h264', 'profile': '(High)', 'metadata': {'Metadata': '', 'creation_time': '2024-04-16T17:27:51.000000Z', 'handler_name': 'Intel Video Media Handler', 'vendor_id': '[0][0][0][0]'}}], 'input_number': 0}], 'duration': 653.22, 'bitrate': 2501, 'start': 0.0, 'default_video_input_number': 0, 'default_video_stream_number': 0, 'video_codec_name': 'h264', 'video_profile': '(High)', 'video_size': [1392, 640], 'video_bitrate': 2494, 'video_fps': 29.96, 'video_duration': 653.22, 'video_n_frames': 19570}\n",
      "/home/aj764/.conda/envs/social_comp/lib/python3.12/site-packages/imageio_ffmpeg/binaries/ffmpeg-linux-x86_64-v7.0.2 -i /gpfs/radev/pi/saxena/aj764//PairedTestingSessions/041624_KL003_TimeOut/Videos/041624_Cam2_TrNum1_IS_KL003G.mp4 -loglevel error -f image2pipe -vf scale=1392:640 -sws_flags bicubic -pix_fmt rgb24 -vcodec rawvideo -\n",
      "{'video_found': True, 'audio_found': False, 'metadata': {'major_brand': 'mp41', 'minor_version': '1', 'compatible_brands': 'mp41isom', 'creation_time': '2024-04-16T23:15:37.000000Z', 'copyright': '', 'copyright-eng': ''}, 'inputs': [{'streams': [{'input_number': 0, 'stream_number': 0, 'stream_type': 'video', 'language': 'eng', 'default': True, 'size': [1392, 640], 'bitrate': 2499, 'fps': 29.97002997002997, 'codec_name': 'h264', 'profile': '(High)', 'metadata': {'Metadata': '', 'creation_time': '2024-04-16T23:15:37.000000Z', 'handler_name': 'Intel Video Media Handler', 'vendor_id': '[0][0][0][0]'}}], 'input_number': 0}], 'duration': 171.56, 'bitrate': 2507, 'start': 0.0, 'default_video_input_number': 0, 'default_video_stream_number': 0, 'video_codec_name': 'h264', 'video_profile': '(High)', 'video_size': [1392, 640], 'video_bitrate': 2499, 'video_fps': 29.97002997002997, 'video_duration': 171.56, 'video_n_frames': 5141}\n",
      "/home/aj764/.conda/envs/social_comp/lib/python3.12/site-packages/imageio_ffmpeg/binaries/ffmpeg-linux-x86_64-v7.0.2 -i /gpfs/radev/pi/saxena/aj764//PairedTestingSessions/041624_KL003_TimeOut/Videos/041624_Cam2_TrNum15_PV_KL003R.mp4 -loglevel error -f image2pipe -vf scale=1392:640 -sws_flags bicubic -pix_fmt rgb24 -vcodec rawvideo -\n",
      "{'video_found': True, 'audio_found': False, 'metadata': {'major_brand': 'mp41', 'minor_version': '1', 'compatible_brands': 'mp41isom', 'creation_time': '2024-04-16T22:48:37.000000Z', 'copyright': '', 'copyright-eng': ''}, 'inputs': [{'streams': [{'input_number': 0, 'stream_number': 0, 'stream_type': 'video', 'language': 'eng', 'default': True, 'size': [1392, 640], 'bitrate': 2499, 'fps': 30.0, 'codec_name': 'h264', 'profile': '(High)', 'metadata': {'Metadata': '', 'creation_time': '2024-04-16T22:48:37.000000Z', 'handler_name': 'Intel Video Media Handler', 'vendor_id': '[0][0][0][0]'}}], 'input_number': 0}], 'duration': 248.36, 'bitrate': 2507, 'start': 0.0, 'default_video_input_number': 0, 'default_video_stream_number': 0, 'video_codec_name': 'h264', 'video_profile': '(High)', 'video_size': [1392, 640], 'video_bitrate': 2499, 'video_fps': 30.0, 'video_duration': 248.36, 'video_n_frames': 7450}\n",
      "/home/aj764/.conda/envs/social_comp/lib/python3.12/site-packages/imageio_ffmpeg/binaries/ffmpeg-linux-x86_64-v7.0.2 -i /gpfs/radev/pi/saxena/aj764//PairedTestingSessions/041624_KL003_TimeOut/Videos/041624_Cam2_TrNum13_IS_KL003B.mp4 -loglevel error -f image2pipe -vf scale=1392:640 -sws_flags bicubic -pix_fmt rgb24 -vcodec rawvideo -\n",
      "{'video_found': True, 'audio_found': False, 'metadata': {'major_brand': 'mp41', 'minor_version': '1', 'compatible_brands': 'mp41isom', 'creation_time': '2024-04-16T17:44:05.000000Z', 'copyright': '', 'copyright-eng': ''}, 'inputs': [{'streams': [{'input_number': 0, 'stream_number': 0, 'stream_type': 'video', 'language': 'eng', 'default': True, 'size': [1392, 640], 'bitrate': 2500, 'fps': 30.0, 'codec_name': 'h264', 'profile': '(High)', 'metadata': {'Metadata': '', 'creation_time': '2024-04-16T17:44:05.000000Z', 'handler_name': 'Intel Video Media Handler', 'vendor_id': '[0][0][0][0]'}}], 'input_number': 0}], 'duration': 201.36, 'bitrate': 2507, 'start': 0.0, 'default_video_input_number': 0, 'default_video_stream_number': 0, 'video_codec_name': 'h264', 'video_profile': '(High)', 'video_size': [1392, 640], 'video_bitrate': 2500, 'video_fps': 30.0, 'video_duration': 201.36, 'video_n_frames': 6040}\n",
      "/home/aj764/.conda/envs/social_comp/lib/python3.12/site-packages/imageio_ffmpeg/binaries/ffmpeg-linux-x86_64-v7.0.2 -i /gpfs/radev/pi/saxena/aj764//PairedTestingSessions/041624_KL004_TimeOut/Videos/041624_Cam1_TrNum2_PV_KL004B.mp4 -loglevel error -f image2pipe -vf scale=1392:640 -sws_flags bicubic -pix_fmt rgb24 -vcodec rawvideo -\n",
      "{'video_found': True, 'audio_found': False, 'metadata': {'major_brand': 'mp41', 'minor_version': '1', 'compatible_brands': 'mp41isom', 'creation_time': '2024-04-16T17:59:43.000000Z', 'copyright': '', 'copyright-eng': ''}, 'inputs': [{'streams': [{'input_number': 0, 'stream_number': 0, 'stream_type': 'video', 'language': 'eng', 'default': True, 'size': [1392, 640], 'bitrate': 2497, 'fps': 30.0, 'codec_name': 'h264', 'profile': '(High)', 'metadata': {'Metadata': '', 'creation_time': '2024-04-16T17:59:43.000000Z', 'handler_name': 'Intel Video Media Handler', 'vendor_id': '[0][0][0][0]'}}], 'input_number': 0}], 'duration': 371.45, 'bitrate': 2505, 'start': 0.0, 'default_video_input_number': 0, 'default_video_stream_number': 0, 'video_codec_name': 'h264', 'video_profile': '(High)', 'video_size': [1392, 640], 'video_bitrate': 2497, 'video_fps': 30.0, 'video_duration': 371.45, 'video_n_frames': 11143}\n",
      "/home/aj764/.conda/envs/social_comp/lib/python3.12/site-packages/imageio_ffmpeg/binaries/ffmpeg-linux-x86_64-v7.0.2 -i /gpfs/radev/pi/saxena/aj764//PairedTestingSessions/041624_KL004_TimeOut/Videos/041624_Cam1_TrNum3_IS_KL004G.mp4 -loglevel error -f image2pipe -vf scale=1392:640 -sws_flags bicubic -pix_fmt rgb24 -vcodec rawvideo -\n",
      "{'video_found': True, 'audio_found': False, 'metadata': {'major_brand': 'mp41', 'minor_version': '1', 'compatible_brands': 'mp41isom', 'creation_time': '2024-04-16T23:31:28.000000Z', 'copyright': '', 'copyright-eng': ''}, 'inputs': [{'streams': [{'input_number': 0, 'stream_number': 0, 'stream_type': 'video', 'language': 'eng', 'default': True, 'size': [1392, 640], 'bitrate': 2497, 'fps': 30.0, 'codec_name': 'h264', 'profile': '(High)', 'metadata': {'Metadata': '', 'creation_time': '2024-04-16T23:31:28.000000Z', 'handler_name': 'Intel Video Media Handler', 'vendor_id': '[0][0][0][0]'}}], 'input_number': 0}], 'duration': 518.31, 'bitrate': 2505, 'start': 0.0, 'default_video_input_number': 0, 'default_video_stream_number': 0, 'video_codec_name': 'h264', 'video_profile': '(High)', 'video_size': [1392, 640], 'video_bitrate': 2497, 'video_fps': 30.0, 'video_duration': 518.31, 'video_n_frames': 15549}\n",
      "/home/aj764/.conda/envs/social_comp/lib/python3.12/site-packages/imageio_ffmpeg/binaries/ffmpeg-linux-x86_64-v7.0.2 -i /gpfs/radev/pi/saxena/aj764//PairedTestingSessions/041624_KL004_TimeOut/Videos/041624_Cam1_TrNum16_IS_KL004G.mp4 -loglevel error -f image2pipe -vf scale=1392:640 -sws_flags bicubic -pix_fmt rgb24 -vcodec rawvideo -\n",
      "{'video_found': True, 'audio_found': False, 'metadata': {'major_brand': 'mp41', 'minor_version': '1', 'compatible_brands': 'mp41isom', 'creation_time': '2024-04-16T23:02:21.000000Z', 'copyright': '', 'copyright-eng': ''}, 'inputs': [{'streams': [{'input_number': 0, 'stream_number': 0, 'stream_type': 'video', 'language': 'eng', 'default': True, 'size': [1392, 640], 'bitrate': 2499, 'fps': 30.0, 'codec_name': 'h264', 'profile': '(High)', 'metadata': {'Metadata': '', 'creation_time': '2024-04-16T23:02:21.000000Z', 'handler_name': 'Intel Video Media Handler', 'vendor_id': '[0][0][0][0]'}}], 'input_number': 0}], 'duration': 183.56, 'bitrate': 2507, 'start': 0.0, 'default_video_input_number': 0, 'default_video_stream_number': 0, 'video_codec_name': 'h264', 'video_profile': '(High)', 'video_size': [1392, 640], 'video_bitrate': 2499, 'video_fps': 30.0, 'video_duration': 183.56, 'video_n_frames': 5506}\n",
      "/home/aj764/.conda/envs/social_comp/lib/python3.12/site-packages/imageio_ffmpeg/binaries/ffmpeg-linux-x86_64-v7.0.2 -i /gpfs/radev/pi/saxena/aj764//PairedTestingSessions/041624_KL004_TimeOut/Videos/041624_Cam1_TrNum14_PV_KL004Y.mp4 -loglevel error -f image2pipe -vf scale=1392:640 -sws_flags bicubic -pix_fmt rgb24 -vcodec rawvideo -\n",
      "{'video_found': True, 'audio_found': False, 'metadata': {'major_brand': 'mp41', 'minor_version': '1', 'compatible_brands': 'mp41isom', 'creation_time': '2024-04-16T18:06:11.000000Z', 'copyright': '', 'copyright-eng': ''}, 'inputs': [{'streams': [{'input_number': 0, 'stream_number': 0, 'stream_type': 'video', 'language': 'eng', 'default': True, 'size': [1392, 640], 'bitrate': 2498, 'fps': 30.0, 'codec_name': 'h264', 'profile': '(High)', 'metadata': {'Metadata': '', 'creation_time': '2024-04-16T18:06:11.000000Z', 'handler_name': 'Intel Video Media Handler', 'vendor_id': '[0][0][0][0]'}}], 'input_number': 0}], 'duration': 153.79, 'bitrate': 2506, 'start': 0.0, 'default_video_input_number': 0, 'default_video_stream_number': 0, 'video_codec_name': 'h264', 'video_profile': '(High)', 'video_size': [1392, 640], 'video_bitrate': 2498, 'video_fps': 30.0, 'video_duration': 153.79, 'video_n_frames': 4613}\n",
      "/home/aj764/.conda/envs/social_comp/lib/python3.12/site-packages/imageio_ffmpeg/binaries/ffmpeg-linux-x86_64-v7.0.2 -i /gpfs/radev/pi/saxena/aj764//PairedTestingSessions/041624_KL004_TimeOut/Videos/041624_Cam1_TrNum4_PV_KL004Y.mp4 -loglevel error -f image2pipe -vf scale=1392:640 -sws_flags bicubic -pix_fmt rgb24 -vcodec rawvideo -\n",
      "{'video_found': True, 'audio_found': False, 'metadata': {'major_brand': 'mp41', 'minor_version': '1', 'compatible_brands': 'mp41isom', 'creation_time': '2024-04-16T23:15:30.000000Z', 'copyright': '', 'copyright-eng': ''}, 'inputs': [{'streams': [{'input_number': 0, 'stream_number': 0, 'stream_type': 'video', 'language': 'eng', 'default': True, 'size': [1392, 640], 'bitrate': 2502, 'fps': 30.0, 'codec_name': 'h264', 'profile': '(High)', 'metadata': {'Metadata': '', 'creation_time': '2024-04-16T23:15:30.000000Z', 'handler_name': 'Intel Video Media Handler', 'vendor_id': '[0][0][0][0]'}}], 'input_number': 0}], 'duration': 164.23, 'bitrate': 2510, 'start': 0.0, 'default_video_input_number': 0, 'default_video_stream_number': 0, 'video_codec_name': 'h264', 'video_profile': '(High)', 'video_size': [1392, 640], 'video_bitrate': 2502, 'video_fps': 30.0, 'video_duration': 164.23, 'video_n_frames': 4926}\n",
      "/home/aj764/.conda/envs/social_comp/lib/python3.12/site-packages/imageio_ffmpeg/binaries/ffmpeg-linux-x86_64-v7.0.2 -i /gpfs/radev/pi/saxena/aj764//PairedTestingSessions/041624_KL004_TimeOut/Videos/041624_Cam1_TrNum15_PV_KL004B.mp4 -loglevel error -f image2pipe -vf scale=1392:640 -sws_flags bicubic -pix_fmt rgb24 -vcodec rawvideo -\n",
      "{'video_found': True, 'audio_found': False, 'metadata': {'major_brand': 'mp41', 'minor_version': '1', 'compatible_brands': 'mp41isom', 'creation_time': '2024-04-16T17:37:36.000000Z', 'copyright': '', 'copyright-eng': ''}, 'inputs': [{'streams': [{'input_number': 0, 'stream_number': 0, 'stream_type': 'video', 'language': 'eng', 'default': True, 'size': [1392, 640], 'bitrate': 2496, 'fps': 30.0, 'codec_name': 'h264', 'profile': '(High)', 'metadata': {'Metadata': '', 'creation_time': '2024-04-16T17:37:36.000000Z', 'handler_name': 'Intel Video Media Handler', 'vendor_id': '[0][0][0][0]'}}], 'input_number': 0}], 'duration': 1238.78, 'bitrate': 2504, 'start': 0.0, 'default_video_input_number': 0, 'default_video_stream_number': 0, 'video_codec_name': 'h264', 'video_profile': '(High)', 'video_size': [1392, 640], 'video_bitrate': 2496, 'video_fps': 30.0, 'video_duration': 1238.78, 'video_n_frames': 37163}\n",
      "/home/aj764/.conda/envs/social_comp/lib/python3.12/site-packages/imageio_ffmpeg/binaries/ffmpeg-linux-x86_64-v7.0.2 -i /gpfs/radev/pi/saxena/aj764//PairedTestingSessions/041624_KL004_TimeOut/Videos/041624_Cam1_TrNum1_IS_KL004R.mp4 -loglevel error -f image2pipe -vf scale=1392:640 -sws_flags bicubic -pix_fmt rgb24 -vcodec rawvideo -\n",
      "{'video_found': True, 'audio_found': False, 'metadata': {'major_brand': 'mp41', 'minor_version': '1', 'compatible_brands': 'mp41isom', 'creation_time': '2024-04-16T22:53:39.000000Z', 'copyright': '', 'copyright-eng': ''}, 'inputs': [{'streams': [{'input_number': 0, 'stream_number': 0, 'stream_type': 'video', 'language': 'eng', 'default': True, 'size': [1392, 640], 'bitrate': 2497, 'fps': 30.0, 'codec_name': 'h264', 'profile': '(High)', 'metadata': {'Metadata': '', 'creation_time': '2024-04-16T22:53:39.000000Z', 'handler_name': 'Intel Video Media Handler', 'vendor_id': '[0][0][0][0]'}}], 'input_number': 0}], 'duration': 550.44, 'bitrate': 2505, 'start': 0.0, 'default_video_input_number': 0, 'default_video_stream_number': 0, 'video_codec_name': 'h264', 'video_profile': '(High)', 'video_size': [1392, 640], 'video_bitrate': 2497, 'video_fps': 30.0, 'video_duration': 550.44, 'video_n_frames': 16513}\n",
      "/home/aj764/.conda/envs/social_comp/lib/python3.12/site-packages/imageio_ffmpeg/binaries/ffmpeg-linux-x86_64-v7.0.2 -i /gpfs/radev/pi/saxena/aj764//PairedTestingSessions/041624_KL004_TimeOut/Videos/041624_Cam1_TrNum13_IS_KL004R.mp4 -loglevel error -f image2pipe -vf scale=1392:640 -sws_flags bicubic -pix_fmt rgb24 -vcodec rawvideo -\n",
      "{'video_found': True, 'audio_found': False, 'metadata': {'major_brand': 'mp41', 'minor_version': '1', 'compatible_brands': 'mp41isom', 'creation_time': '2024-04-18T21:51:30.000000Z', 'copyright': '', 'copyright-eng': ''}, 'inputs': [{'streams': [{'input_number': 0, 'stream_number': 0, 'stream_type': 'video', 'language': 'eng', 'default': True, 'size': [1392, 640], 'bitrate': 2497, 'fps': 30.0, 'codec_name': 'h264', 'profile': '(High)', 'metadata': {'Metadata': '', 'creation_time': '2024-04-18T21:51:30.000000Z', 'handler_name': 'Intel Video Media Handler', 'vendor_id': '[0][0][0][0]'}}], 'input_number': 0}], 'duration': 456.77, 'bitrate': 2504, 'start': 0.0, 'default_video_input_number': 0, 'default_video_stream_number': 0, 'video_codec_name': 'h264', 'video_profile': '(High)', 'video_size': [1392, 640], 'video_bitrate': 2497, 'video_fps': 30.0, 'video_duration': 456.77, 'video_n_frames': 13703}\n",
      "/home/aj764/.conda/envs/social_comp/lib/python3.12/site-packages/imageio_ffmpeg/binaries/ffmpeg-linux-x86_64-v7.0.2 -i /gpfs/radev/pi/saxena/aj764//PairedTestingSessions/041824_KL005_TimeOut/Videos/041824_Cam4_TrNum14_IS_KL005B.mp4 -loglevel error -f image2pipe -vf scale=1392:640 -sws_flags bicubic -pix_fmt rgb24 -vcodec rawvideo -\n",
      "{'video_found': True, 'audio_found': False, 'metadata': {'major_brand': 'mp41', 'minor_version': '1', 'compatible_brands': 'mp41isom', 'creation_time': '2024-04-18T21:35:03.000000Z', 'copyright': '', 'copyright-eng': ''}, 'inputs': [{'streams': [{'input_number': 0, 'stream_number': 0, 'stream_type': 'video', 'language': 'eng', 'default': True, 'size': [1392, 640], 'bitrate': 2497, 'fps': 30.0, 'codec_name': 'h264', 'profile': '(High)', 'metadata': {'Metadata': '', 'creation_time': '2024-04-18T21:35:03.000000Z', 'handler_name': 'Intel Video Media Handler', 'vendor_id': '[0][0][0][0]'}}], 'input_number': 0}], 'duration': 309.79, 'bitrate': 2505, 'start': 0.0, 'default_video_input_number': 0, 'default_video_stream_number': 0, 'video_codec_name': 'h264', 'video_profile': '(High)', 'video_size': [1392, 640], 'video_bitrate': 2497, 'video_fps': 30.0, 'video_duration': 309.79, 'video_n_frames': 9293}\n",
      "/home/aj764/.conda/envs/social_comp/lib/python3.12/site-packages/imageio_ffmpeg/binaries/ffmpeg-linux-x86_64-v7.0.2 -i /gpfs/radev/pi/saxena/aj764//PairedTestingSessions/041824_KL005_TimeOut/Videos/041824_Cam4_TrNum13_IS_KL005Y.mp4 -loglevel error -f image2pipe -vf scale=1392:640 -sws_flags bicubic -pix_fmt rgb24 -vcodec rawvideo -\n",
      "{'video_found': True, 'audio_found': False, 'metadata': {'major_brand': 'mp41', 'minor_version': '1', 'compatible_brands': 'mp41isom', 'creation_time': '2024-04-18T16:37:25.000000Z', 'copyright': '', 'copyright-eng': ''}, 'inputs': [{'streams': [{'input_number': 0, 'stream_number': 0, 'stream_type': 'video', 'language': 'eng', 'default': True, 'size': [1392, 640], 'bitrate': 2496, 'fps': 30.0, 'codec_name': 'h264', 'profile': '(High)', 'metadata': {'Metadata': '', 'creation_time': '2024-04-18T16:37:25.000000Z', 'handler_name': 'Intel Video Media Handler', 'vendor_id': '[0][0][0][0]'}}], 'input_number': 0}], 'duration': 978.67, 'bitrate': 2504, 'start': 0.0, 'default_video_input_number': 0, 'default_video_stream_number': 0, 'video_codec_name': 'h264', 'video_profile': '(High)', 'video_size': [1392, 640], 'video_bitrate': 2496, 'video_fps': 30.0, 'video_duration': 978.67, 'video_n_frames': 29360}\n",
      "/home/aj764/.conda/envs/social_comp/lib/python3.12/site-packages/imageio_ffmpeg/binaries/ffmpeg-linux-x86_64-v7.0.2 -i /gpfs/radev/pi/saxena/aj764//PairedTestingSessions/041824_KL005_TimeOut/Videos/041824_Cam4_TrNum2_IS_KL005B.mp4 -loglevel error -f image2pipe -vf scale=1392:640 -sws_flags bicubic -pix_fmt rgb24 -vcodec rawvideo -\n",
      "{'video_found': True, 'audio_found': False, 'metadata': {'major_brand': 'mp41', 'minor_version': '1', 'compatible_brands': 'mp41isom', 'creation_time': '2024-04-18T21:56:08.000000Z', 'copyright': '', 'copyright-eng': ''}, 'inputs': [{'streams': [{'input_number': 0, 'stream_number': 0, 'stream_type': 'video', 'language': 'eng', 'default': True, 'size': [1392, 640], 'bitrate': 2500, 'fps': 30.0, 'codec_name': 'h264', 'profile': '(High)', 'metadata': {'Metadata': '', 'creation_time': '2024-04-18T21:56:08.000000Z', 'handler_name': 'Intel Video Media Handler', 'vendor_id': '[0][0][0][0]'}}], 'input_number': 0}], 'duration': 211.47, 'bitrate': 2507, 'start': 0.0, 'default_video_input_number': 0, 'default_video_stream_number': 0, 'video_codec_name': 'h264', 'video_profile': '(High)', 'video_size': [1392, 640], 'video_bitrate': 2500, 'video_fps': 30.0, 'video_duration': 211.47, 'video_n_frames': 6344}\n",
      "/home/aj764/.conda/envs/social_comp/lib/python3.12/site-packages/imageio_ffmpeg/binaries/ffmpeg-linux-x86_64-v7.0.2 -i /gpfs/radev/pi/saxena/aj764//PairedTestingSessions/041824_KL005_TimeOut/Videos/041824_Cam4_TrNum15_PV_KL005G.mp4 -loglevel error -f image2pipe -vf scale=1392:640 -sws_flags bicubic -pix_fmt rgb24 -vcodec rawvideo -\n",
      "{'video_found': True, 'audio_found': False, 'metadata': {'major_brand': 'mp41', 'minor_version': '1', 'compatible_brands': 'mp41isom', 'creation_time': '2024-04-18T16:43:53.000000Z', 'copyright': '', 'copyright-eng': ''}, 'inputs': [{'streams': [{'input_number': 0, 'stream_number': 0, 'stream_type': 'video', 'language': 'eng', 'default': True, 'size': [1392, 640], 'bitrate': 2498, 'fps': 30.0, 'codec_name': 'h264', 'profile': '(High)', 'metadata': {'Metadata': '', 'creation_time': '2024-04-18T16:43:53.000000Z', 'handler_name': 'Intel Video Media Handler', 'vendor_id': '[0][0][0][0]'}}], 'input_number': 0}], 'duration': 266.6, 'bitrate': 2506, 'start': 0.0, 'default_video_input_number': 0, 'default_video_stream_number': 0, 'video_codec_name': 'h264', 'video_profile': '(High)', 'video_size': [1392, 640], 'video_bitrate': 2498, 'video_fps': 30.0, 'video_duration': 266.6, 'video_n_frames': 7998}\n",
      "/home/aj764/.conda/envs/social_comp/lib/python3.12/site-packages/imageio_ffmpeg/binaries/ffmpeg-linux-x86_64-v7.0.2 -i /gpfs/radev/pi/saxena/aj764//PairedTestingSessions/041824_KL005_TimeOut/Videos/041824_Cam4_TrNum3_PV_KL005R.mp4 -loglevel error -f image2pipe -vf scale=1392:640 -sws_flags bicubic -pix_fmt rgb24 -vcodec rawvideo -\n",
      "{'video_found': True, 'audio_found': False, 'metadata': {'major_brand': 'mp41', 'minor_version': '1', 'compatible_brands': 'mp41isom', 'creation_time': '2024-04-18T16:56:36.000000Z', 'copyright': '', 'copyright-eng': ''}, 'inputs': [{'streams': [{'input_number': 0, 'stream_number': 0, 'stream_type': 'video', 'language': 'eng', 'default': True, 'size': [1392, 640], 'bitrate': 2498, 'fps': 30.0, 'codec_name': 'h264', 'profile': '(High)', 'metadata': {'Metadata': '', 'creation_time': '2024-04-18T16:56:36.000000Z', 'handler_name': 'Intel Video Media Handler', 'vendor_id': '[0][0][0][0]'}}], 'input_number': 0}], 'duration': 278.76, 'bitrate': 2506, 'start': 0.0, 'default_video_input_number': 0, 'default_video_stream_number': 0, 'video_codec_name': 'h264', 'video_profile': '(High)', 'video_size': [1392, 640], 'video_bitrate': 2498, 'video_fps': 30.0, 'video_duration': 278.76, 'video_n_frames': 8362}\n",
      "/home/aj764/.conda/envs/social_comp/lib/python3.12/site-packages/imageio_ffmpeg/binaries/ffmpeg-linux-x86_64-v7.0.2 -i /gpfs/radev/pi/saxena/aj764//PairedTestingSessions/041824_KL005_TimeOut/Videos/041824_Cam4_TrNum4_PV_KL005G.mp4 -loglevel error -f image2pipe -vf scale=1392:640 -sws_flags bicubic -pix_fmt rgb24 -vcodec rawvideo -\n",
      "{'video_found': True, 'audio_found': False, 'metadata': {'major_brand': 'mp41', 'minor_version': '1', 'compatible_brands': 'mp41isom', 'creation_time': '2024-04-18T22:04:46.000000Z', 'copyright': '', 'copyright-eng': ''}, 'inputs': [{'streams': [{'input_number': 0, 'stream_number': 0, 'stream_type': 'video', 'language': 'eng', 'default': True, 'size': [1392, 640], 'bitrate': 2500, 'fps': 30.0, 'codec_name': 'h264', 'profile': '(High)', 'metadata': {'Metadata': '', 'creation_time': '2024-04-18T22:04:46.000000Z', 'handler_name': 'Intel Video Media Handler', 'vendor_id': '[0][0][0][0]'}}], 'input_number': 0}], 'duration': 195.54, 'bitrate': 2507, 'start': 0.0, 'default_video_input_number': 0, 'default_video_stream_number': 0, 'video_codec_name': 'h264', 'video_profile': '(High)', 'video_size': [1392, 640], 'video_bitrate': 2500, 'video_fps': 30.0, 'video_duration': 195.54, 'video_n_frames': 5866}\n",
      "/home/aj764/.conda/envs/social_comp/lib/python3.12/site-packages/imageio_ffmpeg/binaries/ffmpeg-linux-x86_64-v7.0.2 -i /gpfs/radev/pi/saxena/aj764//PairedTestingSessions/041824_KL005_TimeOut/Videos/041824_Cam4_TrNum16_PV_KL005R.mp4 -loglevel error -f image2pipe -vf scale=1392:640 -sws_flags bicubic -pix_fmt rgb24 -vcodec rawvideo -\n",
      "{'video_found': True, 'audio_found': False, 'metadata': {'major_brand': 'mp41', 'minor_version': '1', 'compatible_brands': 'mp41isom', 'creation_time': '2024-04-18T16:13:13.000000Z', 'copyright': '', 'copyright-eng': ''}, 'inputs': [{'streams': [{'input_number': 0, 'stream_number': 0, 'stream_type': 'video', 'language': 'eng', 'default': True, 'size': [1392, 640], 'bitrate': 2497, 'fps': 30.0, 'codec_name': 'h264', 'profile': '(High)', 'metadata': {'Metadata': '', 'creation_time': '2024-04-18T16:13:13.000000Z', 'handler_name': 'Intel Video Media Handler', 'vendor_id': '[0][0][0][0]'}}], 'input_number': 0}], 'duration': 618.65, 'bitrate': 2504, 'start': 0.0, 'default_video_input_number': 0, 'default_video_stream_number': 0, 'video_codec_name': 'h264', 'video_profile': '(High)', 'video_size': [1392, 640], 'video_bitrate': 2497, 'video_fps': 30.0, 'video_duration': 618.65, 'video_n_frames': 18559}\n",
      "/home/aj764/.conda/envs/social_comp/lib/python3.12/site-packages/imageio_ffmpeg/binaries/ffmpeg-linux-x86_64-v7.0.2 -i /gpfs/radev/pi/saxena/aj764//PairedTestingSessions/041824_KL005_TimeOut/Videos/041824_Cam4_TrNum1_IS_KL005Y.mp4 -loglevel error -f image2pipe -vf scale=1392:640 -sws_flags bicubic -pix_fmt rgb24 -vcodec rawvideo -\n",
      "{'video_found': True, 'audio_found': False, 'metadata': {'major_brand': 'mp41', 'minor_version': '1', 'compatible_brands': 'mp41isom', 'creation_time': '2024-04-18T21:36:03.000000Z', 'copyright': '', 'copyright-eng': ''}, 'inputs': [{'streams': [{'input_number': 0, 'stream_number': 0, 'stream_type': 'video', 'language': 'eng', 'default': True, 'size': [1392, 640], 'bitrate': 2498, 'fps': 30.0, 'codec_name': 'h264', 'profile': '(High)', 'metadata': {'Metadata': '', 'creation_time': '2024-04-18T21:36:03.000000Z', 'handler_name': 'Intel Video Media Handler', 'vendor_id': '[0][0][0][0]'}}], 'input_number': 0}], 'duration': 369.35, 'bitrate': 2505, 'start': 0.0, 'default_video_input_number': 0, 'default_video_stream_number': 0, 'video_codec_name': 'h264', 'video_profile': '(High)', 'video_size': [1392, 640], 'video_bitrate': 2498, 'video_fps': 30.0, 'video_duration': 369.35, 'video_n_frames': 11080}\n",
      "/home/aj764/.conda/envs/social_comp/lib/python3.12/site-packages/imageio_ffmpeg/binaries/ffmpeg-linux-x86_64-v7.0.2 -i /gpfs/radev/pi/saxena/aj764//PairedTestingSessions/041824_KL006_TimeOut/Videos/041824_Cam1_TrNum13_IS_KL006G.mp4 -loglevel error -f image2pipe -vf scale=1392:640 -sws_flags bicubic -pix_fmt rgb24 -vcodec rawvideo -\n",
      "{'video_found': True, 'audio_found': False, 'metadata': {'major_brand': 'mp41', 'minor_version': '1', 'compatible_brands': 'mp41isom', 'creation_time': '2024-04-18T22:06:23.000000Z', 'copyright': '', 'copyright-eng': ''}, 'inputs': [{'streams': [{'input_number': 0, 'stream_number': 0, 'stream_type': 'video', 'language': 'eng', 'default': True, 'size': [1392, 640], 'bitrate': 2497, 'fps': 30.0, 'codec_name': 'h264', 'profile': '(High)', 'metadata': {'Metadata': '', 'creation_time': '2024-04-18T22:06:23.000000Z', 'handler_name': 'Intel Video Media Handler', 'vendor_id': '[0][0][0][0]'}}], 'input_number': 0}], 'duration': 292.79, 'bitrate': 2504, 'start': 0.0, 'default_video_input_number': 0, 'default_video_stream_number': 0, 'video_codec_name': 'h264', 'video_profile': '(High)', 'video_size': [1392, 640], 'video_bitrate': 2497, 'video_fps': 30.0, 'video_duration': 292.79, 'video_n_frames': 8783}\n",
      "/home/aj764/.conda/envs/social_comp/lib/python3.12/site-packages/imageio_ffmpeg/binaries/ffmpeg-linux-x86_64-v7.0.2 -i /gpfs/radev/pi/saxena/aj764//PairedTestingSessions/041824_KL006_TimeOut/Videos/041824_Cam1_TrNum16_IS_KL006R.mp4 -loglevel error -f image2pipe -vf scale=1392:640 -sws_flags bicubic -pix_fmt rgb24 -vcodec rawvideo -\n",
      "{'video_found': True, 'audio_found': False, 'metadata': {'major_brand': 'mp41', 'minor_version': '1', 'compatible_brands': 'mp41isom', 'creation_time': '2024-04-18T16:25:35.000000Z', 'copyright': '', 'copyright-eng': ''}, 'inputs': [{'streams': [{'input_number': 0, 'stream_number': 0, 'stream_type': 'video', 'language': 'eng', 'default': True, 'size': [1392, 640], 'bitrate': 2498, 'fps': 30.0, 'codec_name': 'h264', 'profile': '(High)', 'metadata': {'Metadata': '', 'creation_time': '2024-04-18T16:25:35.000000Z', 'handler_name': 'Intel Video Media Handler', 'vendor_id': '[0][0][0][0]'}}], 'input_number': 0}], 'duration': 268.69, 'bitrate': 2505, 'start': 0.0, 'default_video_input_number': 0, 'default_video_stream_number': 0, 'video_codec_name': 'h264', 'video_profile': '(High)', 'video_size': [1392, 640], 'video_bitrate': 2498, 'video_fps': 30.0, 'video_duration': 268.69, 'video_n_frames': 8060}\n",
      "/home/aj764/.conda/envs/social_comp/lib/python3.12/site-packages/imageio_ffmpeg/binaries/ffmpeg-linux-x86_64-v7.0.2 -i /gpfs/radev/pi/saxena/aj764//PairedTestingSessions/041824_KL006_TimeOut/Videos/041824_Cam1_TrNum2_PV_KL006Y.mp4 -loglevel error -f image2pipe -vf scale=1392:640 -sws_flags bicubic -pix_fmt rgb24 -vcodec rawvideo -\n",
      "{'video_found': True, 'audio_found': False, 'metadata': {'major_brand': 'mp41', 'minor_version': '1', 'compatible_brands': 'mp41isom', 'creation_time': '2024-04-18T21:46:31.000000Z', 'copyright': '', 'copyright-eng': ''}, 'inputs': [{'streams': [{'input_number': 0, 'stream_number': 0, 'stream_type': 'video', 'language': 'eng', 'default': True, 'size': [1392, 640], 'bitrate': 2499, 'fps': 30.0, 'codec_name': 'h264', 'profile': '(High)', 'metadata': {'Metadata': '', 'creation_time': '2024-04-18T21:46:31.000000Z', 'handler_name': 'Intel Video Media Handler', 'vendor_id': '[0][0][0][0]'}}], 'input_number': 0}], 'duration': 157.62, 'bitrate': 2507, 'start': 0.0, 'default_video_input_number': 0, 'default_video_stream_number': 0, 'video_codec_name': 'h264', 'video_profile': '(High)', 'video_size': [1392, 640], 'video_bitrate': 2499, 'video_fps': 30.0, 'video_duration': 157.62, 'video_n_frames': 4728}\n",
      "/home/aj764/.conda/envs/social_comp/lib/python3.12/site-packages/imageio_ffmpeg/binaries/ffmpeg-linux-x86_64-v7.0.2 -i /gpfs/radev/pi/saxena/aj764//PairedTestingSessions/041824_KL006_TimeOut/Videos/041824_Cam1_TrNum14_PV_KL006Y.mp4 -loglevel error -f image2pipe -vf scale=1392:640 -sws_flags bicubic -pix_fmt rgb24 -vcodec rawvideo -\n",
      "{'video_found': True, 'audio_found': False, 'metadata': {'major_brand': 'mp41', 'minor_version': '1', 'compatible_brands': 'mp41isom', 'creation_time': '2024-04-18T16:14:37.000000Z', 'copyright': '', 'copyright-eng': ''}, 'inputs': [{'streams': [{'input_number': 0, 'stream_number': 0, 'stream_type': 'video', 'language': 'eng', 'default': True, 'size': [1392, 640], 'bitrate': 2496, 'fps': 30.0, 'codec_name': 'h264', 'profile': '(High)', 'metadata': {'Metadata': '', 'creation_time': '2024-04-18T16:14:37.000000Z', 'handler_name': 'Intel Video Media Handler', 'vendor_id': '[0][0][0][0]'}}], 'input_number': 0}], 'duration': 702.8, 'bitrate': 2504, 'start': 0.0, 'default_video_input_number': 0, 'default_video_stream_number': 0, 'video_codec_name': 'h264', 'video_profile': '(High)', 'video_size': [1392, 640], 'video_bitrate': 2496, 'video_fps': 30.0, 'video_duration': 702.8, 'video_n_frames': 21084}\n",
      "/home/aj764/.conda/envs/social_comp/lib/python3.12/site-packages/imageio_ffmpeg/binaries/ffmpeg-linux-x86_64-v7.0.2 -i /gpfs/radev/pi/saxena/aj764//PairedTestingSessions/041824_KL006_TimeOut/Videos/041824_Cam1_TrNum1_IS_KL006G.mp4 -loglevel error -f image2pipe -vf scale=1392:640 -sws_flags bicubic -pix_fmt rgb24 -vcodec rawvideo -\n",
      "{'video_found': True, 'audio_found': False, 'metadata': {'major_brand': 'mp41', 'minor_version': '1', 'compatible_brands': 'mp41isom', 'creation_time': '2024-04-18T16:49:41.000000Z', 'copyright': '', 'copyright-eng': ''}, 'inputs': [{'streams': [{'input_number': 0, 'stream_number': 0, 'stream_type': 'video', 'language': 'eng', 'default': True, 'size': [1392, 640], 'bitrate': 2496, 'fps': 30.0, 'codec_name': 'h264', 'profile': '(High)', 'metadata': {'Metadata': '', 'creation_time': '2024-04-18T16:49:41.000000Z', 'handler_name': 'Intel Video Media Handler', 'vendor_id': '[0][0][0][0]'}}], 'input_number': 0}], 'duration': 614.77, 'bitrate': 2504, 'start': 0.0, 'default_video_input_number': 0, 'default_video_stream_number': 0, 'video_codec_name': 'h264', 'video_profile': '(High)', 'video_size': [1392, 640], 'video_bitrate': 2496, 'video_fps': 30.0, 'video_duration': 614.77, 'video_n_frames': 18443}\n",
      "/home/aj764/.conda/envs/social_comp/lib/python3.12/site-packages/imageio_ffmpeg/binaries/ffmpeg-linux-x86_64-v7.0.2 -i /gpfs/radev/pi/saxena/aj764//PairedTestingSessions/041824_KL006_TimeOut/Videos/041824_Cam1_TrNum3_IS_KL006R.mp4 -loglevel error -f image2pipe -vf scale=1392:640 -sws_flags bicubic -pix_fmt rgb24 -vcodec rawvideo -\n",
      "{'video_found': True, 'audio_found': False, 'metadata': {'major_brand': 'mp41', 'minor_version': '1', 'compatible_brands': 'mp41isom', 'creation_time': '2024-04-18T16:54:28.000000Z', 'copyright': '', 'copyright-eng': ''}, 'inputs': [{'streams': [{'input_number': 0, 'stream_number': 0, 'stream_type': 'video', 'language': 'eng', 'default': True, 'size': [1392, 640], 'bitrate': 2500, 'fps': 30.0, 'codec_name': 'h264', 'profile': '(High)', 'metadata': {'Metadata': '', 'creation_time': '2024-04-18T16:54:28.000000Z', 'handler_name': 'Intel Video Media Handler', 'vendor_id': '[0][0][0][0]'}}], 'input_number': 0}], 'duration': 150.63, 'bitrate': 2508, 'start': 0.0, 'default_video_input_number': 0, 'default_video_stream_number': 0, 'video_codec_name': 'h264', 'video_profile': '(High)', 'video_size': [1392, 640], 'video_bitrate': 2500, 'video_fps': 30.0, 'video_duration': 150.63, 'video_n_frames': 4518}\n",
      "/home/aj764/.conda/envs/social_comp/lib/python3.12/site-packages/imageio_ffmpeg/binaries/ffmpeg-linux-x86_64-v7.0.2 -i /gpfs/radev/pi/saxena/aj764//PairedTestingSessions/041824_KL006_TimeOut/Videos/041824_Cam1_TrNum4_PV_KL006B.mp4 -loglevel error -f image2pipe -vf scale=1392:640 -sws_flags bicubic -pix_fmt rgb24 -vcodec rawvideo -\n",
      "{'video_found': True, 'audio_found': False, 'metadata': {'major_brand': 'mp41', 'minor_version': '1', 'compatible_brands': 'mp41isom', 'creation_time': '2024-04-18T21:55:21.000000Z', 'copyright': '', 'copyright-eng': ''}, 'inputs': [{'streams': [{'input_number': 0, 'stream_number': 0, 'stream_type': 'video', 'language': 'eng', 'default': True, 'size': [1392, 640], 'bitrate': 2501, 'fps': 30.0, 'codec_name': 'h264', 'profile': '(High)', 'metadata': {'Metadata': '', 'creation_time': '2024-04-18T21:55:21.000000Z', 'handler_name': 'Intel Video Media Handler', 'vendor_id': '[0][0][0][0]'}}], 'input_number': 0}], 'duration': 164.36, 'bitrate': 2508, 'start': 0.0, 'default_video_input_number': 0, 'default_video_stream_number': 0, 'video_codec_name': 'h264', 'video_profile': '(High)', 'video_size': [1392, 640], 'video_bitrate': 2501, 'video_fps': 30.0, 'video_duration': 164.36, 'video_n_frames': 4930}\n",
      "/home/aj764/.conda/envs/social_comp/lib/python3.12/site-packages/imageio_ffmpeg/binaries/ffmpeg-linux-x86_64-v7.0.2 -i /gpfs/radev/pi/saxena/aj764//PairedTestingSessions/041824_KL006_TimeOut/Videos/041824_Cam1_TrNum15_PV_KL006B.mp4 -loglevel error -f image2pipe -vf scale=1392:640 -sws_flags bicubic -pix_fmt rgb24 -vcodec rawvideo -\n",
      "{'video_found': True, 'audio_found': False, 'metadata': {'major_brand': 'mp41', 'minor_version': '1', 'compatible_brands': 'mp41isom', 'creation_time': '2024-04-18T21:32:39.000000Z', 'copyright': '', 'copyright-eng': ''}, 'inputs': [{'streams': [{'input_number': 0, 'stream_number': 0, 'stream_type': 'video', 'language': 'eng', 'default': True, 'size': [1392, 640], 'bitrate': 2500, 'fps': 30.0, 'codec_name': 'h264', 'profile': '(High)', 'metadata': {'Metadata': '', 'creation_time': '2024-04-18T21:32:39.000000Z', 'handler_name': 'Intel Video Media Handler', 'vendor_id': '[0][0][0][0]'}}], 'input_number': 0}], 'duration': 165.5, 'bitrate': 2507, 'start': 0.0, 'default_video_input_number': 0, 'default_video_stream_number': 0, 'video_codec_name': 'h264', 'video_profile': '(High)', 'video_size': [1392, 640], 'video_bitrate': 2500, 'video_fps': 30.0, 'video_duration': 165.5, 'video_n_frames': 4965}\n",
      "/home/aj764/.conda/envs/social_comp/lib/python3.12/site-packages/imageio_ffmpeg/binaries/ffmpeg-linux-x86_64-v7.0.2 -i /gpfs/radev/pi/saxena/aj764//PairedTestingSessions/041824_KL007_TimeOut/Videos/041824_Cam3_TrNum13_PV_KL007B.mp4 -loglevel error -f image2pipe -vf scale=1392:640 -sws_flags bicubic -pix_fmt rgb24 -vcodec rawvideo -\n",
      "{'video_found': True, 'audio_found': False, 'metadata': {'major_brand': 'mp41', 'minor_version': '1', 'compatible_brands': 'mp41isom', 'creation_time': '2024-04-18T17:02:45.000000Z', 'copyright': '', 'copyright-eng': ''}, 'inputs': [{'streams': [{'input_number': 0, 'stream_number': 0, 'stream_type': 'video', 'language': 'eng', 'default': True, 'size': [1392, 640], 'bitrate': 2497, 'fps': 30.0, 'codec_name': 'h264', 'profile': '(High)', 'metadata': {'Metadata': '', 'creation_time': '2024-04-18T17:02:45.000000Z', 'handler_name': 'Intel Video Media Handler', 'vendor_id': '[0][0][0][0]'}}], 'input_number': 0}], 'duration': 647.52, 'bitrate': 2504, 'start': 0.0, 'default_video_input_number': 0, 'default_video_stream_number': 0, 'video_codec_name': 'h264', 'video_profile': '(High)', 'video_size': [1392, 640], 'video_bitrate': 2497, 'video_fps': 30.0, 'video_duration': 647.52, 'video_n_frames': 19425}\n",
      "/home/aj764/.conda/envs/social_comp/lib/python3.12/site-packages/imageio_ffmpeg/binaries/ffmpeg-linux-x86_64-v7.0.2 -i /gpfs/radev/pi/saxena/aj764//PairedTestingSessions/041824_KL007_TimeOut/Videos/041824_Cam3_TrNum4_IS_KL007G.mp4 -loglevel error -f image2pipe -vf scale=1392:640 -sws_flags bicubic -pix_fmt rgb24 -vcodec rawvideo -\n"
     ]
    }
   ],
   "source": [
    "fpss = []\n",
    "count = 0\n",
    "for key, value in single_vids.items():\n",
    "    for vid in value:\n",
    "        duration, fps = with_moviepy(defaultdir + key + '/' + vid)\n",
    "        fpss.append(fps)\n",
    "        count += 1\n",
    "    #     if count > 100:\n",
    "    #         break\n",
    "    # if count > 100:\n",
    "    #     break"
   ]
  },
  {
   "cell_type": "code",
   "execution_count": null,
   "id": "f1bb04e4-af5d-4e4e-ab2a-7cdd599b0bd0",
   "metadata": {},
   "outputs": [],
   "source": [
    "print(np.mean(fpss), np.std(fpss), np.min(fpss), np.max(fpss))"
   ]
  },
  {
   "cell_type": "code",
   "execution_count": null,
   "id": "84ce55c4-2d0b-40c6-8ad9-6a482b685ad8",
   "metadata": {},
   "outputs": [],
   "source": [
    "fpss = []\n",
    "count = 0\n",
    "for key, value in multi_vids.items():\n",
    "    for vid in value:\n",
    "        duration, fps = with_moviepy(defaultdir + key + '/' + vid)\n",
    "        fpss.append(fps)\n",
    "        count += 1\n",
    "    #     if count > 100:\n",
    "    #         break\n",
    "    # if count > 100:\n",
    "    #     break"
   ]
  },
  {
   "cell_type": "code",
   "execution_count": null,
   "id": "bb58edd4-7d00-4c14-9e32-37d4559c9e16",
   "metadata": {},
   "outputs": [],
   "source": [
    "print(np.mean(fpss), np.std(fpss), np.min(fpss), np.max(fpss))"
   ]
  },
  {
   "cell_type": "code",
   "execution_count": null,
   "id": "ef98e1b2-0b79-44c8-8ccd-610bd307a9ab",
   "metadata": {},
   "outputs": [],
   "source": [
    "defaultdir = '/gpfs/radev/pi/saxena/aj764/'\n",
    "rootdir = f'{defaultdir}/Training_COOPERATION/'"
   ]
  },
  {
   "cell_type": "code",
   "execution_count": null,
   "id": "f3621601-b422-4f15-a131-b9bfcaf954ed",
   "metadata": {},
   "outputs": [],
   "source": [
    "vid_subdirs = []\n",
    "for subdir, dirs, files in os.walk(rootdir):\n",
    "    vid_subdirs.append(subdir)\n",
    "vid_subdirs = sorted(vid_subdirs)"
   ]
  },
  {
   "cell_type": "code",
   "execution_count": null,
   "id": "37e4e9fb-8527-4cb0-b74a-48b4c80a7851",
   "metadata": {},
   "outputs": [],
   "source": [
    "training_vids = {}\n",
    "for vids in vid_subdirs:\n",
    "    files = os.listdir(vids)\n",
    "    cut_vids = vids[28:]\n",
    "    training_vids[cut_vids] = []\n",
    "    for file in files:\n",
    "        if file.endswith('.mp4'): # and int(file[:2]) >= 4:\n",
    "            training_vids[cut_vids].append(file)"
   ]
  },
  {
   "cell_type": "code",
   "execution_count": null,
   "id": "94fa9fec-5e08-4a5a-a2ed-83f69575c242",
   "metadata": {},
   "outputs": [],
   "source": [
    "fpss = []\n",
    "count = 0\n",
    "for key, value in training_vids.items():\n",
    "    for vid in value:\n",
    "        duration, fps = with_moviepy(defaultdir + key + '/' + vid)\n",
    "        fpss.append(fps)\n",
    "        count += 1\n",
    "    #     if count > 100:\n",
    "    #         break\n",
    "    # if count > 100:\n",
    "    #     break"
   ]
  },
  {
   "cell_type": "code",
   "execution_count": null,
   "id": "28609b32-7f13-4398-b6d4-f212e6791792",
   "metadata": {},
   "outputs": [],
   "source": [
    "print(np.mean(fpss), np.std(fpss), np.min(fpss), np.max(fpss))"
   ]
  },
  {
   "cell_type": "code",
   "execution_count": null,
   "id": "28d34fa4-4b92-4579-936f-d492bed711cf",
   "metadata": {},
   "outputs": [],
   "source": []
  }
 ],
 "metadata": {
  "kernelspec": {
   "display_name": "Python 3 (ipykernel)",
   "language": "python",
   "name": "python3"
  },
  "language_info": {
   "codemirror_mode": {
    "name": "ipython",
    "version": 3
   },
   "file_extension": ".py",
   "mimetype": "text/x-python",
   "name": "python",
   "nbconvert_exporter": "python",
   "pygments_lexer": "ipython3",
   "version": "3.12.5"
  }
 },
 "nbformat": 4,
 "nbformat_minor": 5
}

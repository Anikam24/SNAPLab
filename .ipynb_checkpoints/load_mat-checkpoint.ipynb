{
 "cells": [
  {
   "cell_type": "code",
   "execution_count": 7,
   "id": "a789fca8-0346-4b19-b60f-0dc401356cc2",
   "metadata": {},
   "outputs": [],
   "source": [
    "import numpy as np\n",
    "import scipy.io\n"
   ]
  },
  {
   "cell_type": "code",
   "execution_count": 8,
   "id": "5dc53949-aa6d-4d0e-b281-6da624c505ab",
   "metadata": {},
   "outputs": [],
   "source": [
    "defaultdir = '/gpfs/radev/pi/saxena/aj764'\n",
    "rootdir = f'{defaultdir}/Training_COOPERATION/'"
   ]
  },
  {
   "cell_type": "code",
   "execution_count": 9,
   "id": "d4a3820a-3a20-40c7-b25c-8ff286c0b28d",
   "metadata": {},
   "outputs": [],
   "source": [
    "mat = scipy.io.loadmat(rootdir + 'AllTrainingData.mat')"
   ]
  },
  {
   "cell_type": "code",
   "execution_count": 12,
   "id": "d5281b2e-cffa-4ad7-a4e3-b1e29960b44a",
   "metadata": {},
   "outputs": [
    {
     "data": {
      "text/plain": [
       "dict_keys(['__header__', '__version__', '__globals__', 'None', '__function_workspace__'])"
      ]
     },
     "execution_count": 12,
     "metadata": {},
     "output_type": "execute_result"
    }
   ],
   "source": [
    "mat.keys()"
   ]
  },
  {
   "cell_type": "code",
   "execution_count": 31,
   "id": "8ac833c6-d1b8-4728-a192-dd2342db1153",
   "metadata": {},
   "outputs": [
    {
     "name": "stdout",
     "output_type": "stream",
     "text": [
      "b'MATLAB 5.0 MAT-file, Platform: PCWIN64, Created on: Mon Feb 10 14:51:27 2025'\n",
      "1.0\n",
      "[]\n",
      "[(b'allSessions', b'MCOS', b'table', array([[3707764736],\n",
      "        [         2],\n",
      "        [         1],\n",
      "        [         1],\n",
      "        [         1],\n",
      "        [         3]], dtype=uint32))                    ]\n",
      "[[ 0  1 73 ...  0  0  0]]\n"
     ]
    }
   ],
   "source": [
    "for i,v in mat.items():\n",
    "    print(v)"
   ]
  },
  {
   "cell_type": "code",
   "execution_count": 36,
   "id": "767148c6-57da-4ae8-a6af-59fce6b1ce89",
   "metadata": {},
   "outputs": [
    {
     "data": {
      "text/plain": [
       "(1, 354364352)"
      ]
     },
     "execution_count": 36,
     "metadata": {},
     "output_type": "execute_result"
    }
   ],
   "source": [
    "mat['__function_workspace__'].shape"
   ]
  },
  {
   "cell_type": "code",
   "execution_count": null,
   "id": "3ec5f62e-c29a-4f93-9959-2663701b65da",
   "metadata": {},
   "outputs": [],
   "source": [
    "# 354,364,352"
   ]
  },
  {
   "cell_type": "code",
   "execution_count": 22,
   "id": "faa76484-1d57-42b9-af63-af1e8a33a073",
   "metadata": {},
   "outputs": [
    {
     "data": {
      "text/plain": [
       "4"
      ]
     },
     "execution_count": 22,
     "metadata": {},
     "output_type": "execute_result"
    }
   ],
   "source": [
    "len(mat['None'][0])"
   ]
  },
  {
   "cell_type": "code",
   "execution_count": 30,
   "id": "ef6aa863-8ce3-4cdd-807a-c3beb7a79e05",
   "metadata": {},
   "outputs": [
    {
     "data": {
      "text/plain": [
       "MatlabOpaque([(b'allSessions', b'MCOS', b'table', array([[3707764736],\n",
       "                     [         2],\n",
       "                     [         1],\n",
       "                     [         1],\n",
       "                     [         1],\n",
       "                     [         3]], dtype=uint32))                    ],\n",
       "             dtype=[('s0', 'O'), ('s1', 'O'), ('s2', 'O'), ('arr', 'O')])"
      ]
     },
     "execution_count": 30,
     "metadata": {},
     "output_type": "execute_result"
    }
   ],
   "source": [
    "mat['None']"
   ]
  },
  {
   "cell_type": "code",
   "execution_count": null,
   "id": "773e1e2d-910f-4943-b0b4-c5b4689a7271",
   "metadata": {},
   "outputs": [],
   "source": []
  }
 ],
 "metadata": {
  "kernelspec": {
   "display_name": "Python 3 (ipykernel)",
   "language": "python",
   "name": "python3"
  },
  "language_info": {
   "codemirror_mode": {
    "name": "ipython",
    "version": 3
   },
   "file_extension": ".py",
   "mimetype": "text/x-python",
   "name": "python",
   "nbconvert_exporter": "python",
   "pygments_lexer": "ipython3",
   "version": "3.12.5"
  }
 },
 "nbformat": 4,
 "nbformat_minor": 5
}

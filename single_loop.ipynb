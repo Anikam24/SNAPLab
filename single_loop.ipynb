{
 "cells": [
  {
   "cell_type": "markdown",
   "id": "3d2ce3b0-18c5-4c67-a28c-bd99de1dd16e",
   "metadata": {},
   "source": [
    "SUMMARY: Will find all of the single videos in the PairedTestingSessions directory that don't have a corresponding predictions file and then creates a job txt file that will save to the misha jobs folder"
   ]
  },
  {
   "cell_type": "code",
   "execution_count": 5,
   "id": "9d0db841-3d8d-4aa8-a603-27f4924db311",
   "metadata": {},
   "outputs": [],
   "source": [
    "NUM_BATCH_JOBS = 142 # choose number on larger than last folder in home/project/ood/projects/default/\n",
    "mb_per_sec = 0.20447582936507938 # with partition=gpu, cpus-per-gpu=8, mem-per-cpu=10G, gpus=a40:1"
   ]
  },
  {
   "cell_type": "code",
   "execution_count": 6,
   "id": "61ed4884-4655-4306-afa0-500f36b8c07f",
   "metadata": {},
   "outputs": [],
   "source": [
    "import os\n",
    "import random"
   ]
  },
  {
   "cell_type": "code",
   "execution_count": 7,
   "id": "e09fb2ae-d5cd-4da1-a15e-f832003d87fd",
   "metadata": {},
   "outputs": [],
   "source": [
    "defaultdir = '/gpfs/radev/pi/saxena/aj764'\n",
    "rootdir = f'{defaultdir}/PairedTestingSessions/'"
   ]
  },
  {
   "cell_type": "markdown",
   "id": "2609ddee-7747-4de5-b018-0d7ceb2fbe13",
   "metadata": {},
   "source": [
    "Compiles a list of all of the sessions in PairedTestingSessions that have a Videos folder in them"
   ]
  },
  {
   "cell_type": "code",
   "execution_count": 8,
   "id": "f3ec5448-a2b1-4cee-8119-32a5cb2e8f06",
   "metadata": {},
   "outputs": [],
   "source": [
    "vid_subdirs = []\n",
    "for subdir, dirs, files in os.walk(rootdir):\n",
    "    if subdir.endswith(\"Videos\"):\n",
    "        vid_subdirs.append(subdir)\n",
    "vid_subdirs = sorted(vid_subdirs)"
   ]
  },
  {
   "cell_type": "markdown",
   "id": "71e4752a-8577-4a54-bf0c-1d591811c85e",
   "metadata": {},
   "source": [
    "Seperates all of the videos into single instance videos and multi instance videos (and takes out videos from before April)."
   ]
  },
  {
   "cell_type": "code",
   "execution_count": 9,
   "id": "58d854de-5c8c-44a2-b29e-4a65a951c52e",
   "metadata": {},
   "outputs": [],
   "source": [
    "single_vids = {}\n",
    "multi_vids = {}\n",
    "for vids in vid_subdirs:\n",
    "    files = os.listdir(vids)\n",
    "    cut_vids = vids[28:]\n",
    "    single_vids[cut_vids] = []\n",
    "    multi_vids[cut_vids] = []\n",
    "    for file in files:\n",
    "        if file.endswith('.mp4') and int(file[:2]) >= 4:\n",
    "            KL_count = file.count('KL')\n",
    "            EB_count = file.count('EB')\n",
    "            HF_count = file.count('HF')\n",
    "            if KL_count + EB_count + HF_count == 2:\n",
    "                multi_vids[cut_vids].append(file)\n",
    "            else:\n",
    "                single_vids[cut_vids].append(file)"
   ]
  },
  {
   "cell_type": "code",
   "execution_count": 10,
   "id": "b0724851-ac2e-4bee-ab64-947a011e2389",
   "metadata": {},
   "outputs": [
    {
     "name": "stdout",
     "output_type": "stream",
     "text": [
      "There are 1106 single instance videos\n"
     ]
    }
   ],
   "source": [
    "len_tot = 0\n",
    "for key, value in single_vids.items():\n",
    "    len_tot += len(value)\n",
    "print(f'There are {len_tot} single instance videos')"
   ]
  },
  {
   "cell_type": "code",
   "execution_count": 11,
   "id": "94eaa2b8-b375-42cb-9f29-f4fdf90a9023",
   "metadata": {},
   "outputs": [
    {
     "name": "stdout",
     "output_type": "stream",
     "text": [
      "There are 905 multi instance videos\n"
     ]
    }
   ],
   "source": [
    "len_tot = 0\n",
    "for key, value in multi_vids.items():\n",
    "    len_tot += len(value)\n",
    "print(f'There are {len_tot} multi instance videos')"
   ]
  },
  {
   "cell_type": "markdown",
   "id": "83bc049b-7415-410a-a2c3-2ba05dc8dc48",
   "metadata": {},
   "source": [
    "Creates a string composed of all of the necessary commands to run inference on all single instance videos that don't have a corresponding predictions file."
   ]
  },
  {
   "cell_type": "code",
   "execution_count": 9,
   "id": "b6dfefec-1f3e-47e5-9035-73b8561f477f",
   "metadata": {},
   "outputs": [],
   "source": [
    "start_command = f'module load miniconda; conda activate sleap; cd {defaultdir};'\n",
    "model = 'Tracking/SLEAP/models/240808_075503.single_instance.n=720'"
   ]
  },
  {
   "cell_type": "code",
   "execution_count": 13,
   "id": "4fbe33de-9e79-4fc6-8a10-4fd33d60d528",
   "metadata": {},
   "outputs": [],
   "source": [
    "command_lines = ''\n",
    "for i, session in enumerate(single_vids.keys()): \n",
    "    video_list = single_vids[session]\n",
    "    output_path = defaultdir + '/' + session[:-6] + 'Tracking'\n",
    "\n",
    "    # makes directory for tracking output if not already made\n",
    "    if not os.path.isdir(output_path):\n",
    "        os.mkdir(output_path)\n",
    "    if not os.path.isdir(output_path + '/slp'):\n",
    "        os.mkdir(output_path + '/slp')\n",
    "    if not os.path.isdir(output_path + '/h5'):\n",
    "        os.mkdir(output_path + '/h5')\n",
    "\n",
    "    # adds command for every video that doesn't have a corresponding prediction\n",
    "    for video in video_list:\n",
    "        video_path = f'{session}/{video}'\n",
    "        output_file = video[:-3] + 'predictions.'\n",
    "        if not os.path.isfile(output_path + '/slp/' + output_file + 'slp'):\n",
    "            track_command = f'sleap-track \"{video_path}\" --first-gpu -o \"{output_path + '/slp/' + output_file + 'slp'}\" -m \"{model}\"/'\n",
    "            convert_command = f'; sleap-convert --format analysis -o \"{output_path + '/h5/' + output_file + 'h5'}\" \"{output_path + '/slp/' + output_file + 'slp'}\"'\n",
    "            command_lines += (start_command + track_command + convert_command + '\\n')"
   ]
  },
  {
   "cell_type": "markdown",
   "id": "b129af72-369a-4346-b4ea-fbf5de7b786f",
   "metadata": {},
   "source": [
    "Saves the commands to a txt file in the job directory."
   ]
  },
  {
   "cell_type": "code",
   "execution_count": 14,
   "id": "56be4668-246b-4862-baea-c6109d402e89",
   "metadata": {},
   "outputs": [],
   "source": [
    "jobdir = '/gpfs/radev/project/saxena/aj764/ood/projects/default/'"
   ]
  },
  {
   "cell_type": "code",
   "execution_count": 15,
   "id": "a11567c9-6563-4385-a84e-e2ead4f8d9df",
   "metadata": {},
   "outputs": [],
   "source": [
    "commanddir = jobdir + str(NUM_BATCH_JOBS)\n",
    "os.mkdir(commanddir)\n",
    "with open(f\"{commanddir}/all_vids_job.txt\", \"w\") as file:\n",
    "    file.write(command_lines) "
   ]
  },
  {
   "cell_type": "markdown",
   "id": "ec9b0932-dc04-488c-850a-deb9ef43a90f",
   "metadata": {},
   "source": [
    "Keeps track of which videos have predictions and which don't"
   ]
  },
  {
   "cell_type": "code",
   "execution_count": 12,
   "id": "daaf852b-7270-4464-8726-76f149a66092",
   "metadata": {},
   "outputs": [],
   "source": [
    "done_vids = []\n",
    "done_vids_size = []\n",
    "not_done_vids = []\n",
    "not_done_vids_size = []\n",
    "for i, session in enumerate(single_vids.keys()):\n",
    "    video_list = single_vids[session]\n",
    "    output_path = defaultdir + '/' + session[:-6] + 'Tracking'\n",
    "        \n",
    "    for video in video_list:\n",
    "        video_path = f'{session}/{video}'\n",
    "        output_file = video[:-3] + 'predictions.'\n",
    "        if os.path.isfile(output_path + '/slp/' + output_file + 'slp') and os.path.isfile(output_path + '/h5/' + output_file + 'h5'):\n",
    "            done_vids.append(session + '/' + video)\n",
    "            done_vids_size.append((os.path.getsize(defaultdir + '/' + session + '/' + video)) / 10 ** 6)\n",
    "        else:\n",
    "            not_done_vids.append(session + '/' + video)\n",
    "            not_done_vids_size.append((os.path.getsize(defaultdir + '/' + session + '/' + video)) / 10 ** 6)\n",
    "num_done = len(done_vids)\n",
    "num_not_done = len(not_done_vids)\n",
    "time_done = sum(done_vids_size) / mb_per_sec\n",
    "time_not_done = sum(not_done_vids_size) / mb_per_sec"
   ]
  },
  {
   "cell_type": "code",
   "execution_count": 13,
   "id": "c2418a6e-65be-4f31-8ea2-e0d4d6cc74f2",
   "metadata": {},
   "outputs": [],
   "source": [
    "def seconds(secs):\n",
    "    days = secs//86400\n",
    "    hours = (secs - days*86400)//3600\n",
    "    minutes = (secs - days*86400 - hours*3600)//60\n",
    "    seconds = secs - days*86400 - hours*3600 - minutes*60\n",
    "    result = (\"{0} day{1}, \".format(days, \"s\" if days!=1 else \"\") if days else \"\") + \\\n",
    "    (\"{0} hour{1}, \".format(hours, \"s\" if hours!=1 else \"\") if hours else \"\") + \\\n",
    "    (\"{0} minute{1}, \".format(minutes, \"s\" if minutes!=1 else \"\") if minutes else \"\") + \\\n",
    "    (\"{0} second{1}, \".format(seconds, \"s\" if seconds!=1 else \"\") if seconds else \"\")\n",
    "    return result[:-2]"
   ]
  },
  {
   "cell_type": "code",
   "execution_count": 16,
   "id": "6e7429c2-3554-4e6a-bb79-57a066319ef6",
   "metadata": {},
   "outputs": [
    {
     "name": "stdout",
     "output_type": "stream",
     "text": [
      "110600.0% of videos have been tracked (1106 tracked videos, 0 untracked videos)\n",
      "compute time of tracked videos: 7.0 days, 5.0 hours, 57.0 minutes, 57.87173983710818 seconds\n",
      "compute time of untracked videos: \n",
      "realish time of tracked videos: 1.0 day, 19.0 hours, 29.0 minutes, 29.467934959277045 seconds\n",
      "realish time of untracked videos: \n"
     ]
    }
   ],
   "source": [
    "print(f'{round((len(done_vids) / (len(not_done_vids)+1)) * 100, 2)}% of videos have been tracked ({len(done_vids)} tracked videos, {len(not_done_vids)} untracked videos)')   \n",
    "print(f'compute time of tracked videos: {seconds(time_done)}')\n",
    "print(f'compute time of untracked videos: {seconds(time_not_done)}')\n",
    "print(f'realish time of tracked videos: {seconds(time_done / 4)}')\n",
    "print(f'realish time of untracked videos: {seconds(time_not_done / 4)}')"
   ]
  },
  {
   "cell_type": "code",
   "execution_count": 17,
   "id": "35af0295-0d13-4729-9439-8ee040753ca8",
   "metadata": {},
   "outputs": [
    {
     "data": {
      "text/plain": [
       "'PairedTestingSessions/091724_FiberPho_KL004G-KL002_TimeOut/Videos/091724_Cam2_TrNum7_IS_KL004G.mp4'"
      ]
     },
     "execution_count": 17,
     "metadata": {},
     "output_type": "execute_result"
    }
   ],
   "source": [
    "random.choice(done_vids)"
   ]
  },
  {
   "cell_type": "code",
   "execution_count": null,
   "id": "5e658762-4281-4403-82f7-2fb66203f898",
   "metadata": {},
   "outputs": [],
   "source": []
  }
 ],
 "metadata": {
  "kernelspec": {
   "display_name": "Python 3 (ipykernel)",
   "language": "python",
   "name": "python3"
  },
  "language_info": {
   "codemirror_mode": {
    "name": "ipython",
    "version": 3
   },
   "file_extension": ".py",
   "mimetype": "text/x-python",
   "name": "python",
   "nbconvert_exporter": "python",
   "pygments_lexer": "ipython3",
   "version": "3.12.5"
  }
 },
 "nbformat": 4,
 "nbformat_minor": 5
}

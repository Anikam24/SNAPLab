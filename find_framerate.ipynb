{
 "cells": [
  {
   "cell_type": "code",
   "execution_count": 2,
   "id": "a97a9d75-76fb-462e-95ce-551385861860",
   "metadata": {},
   "outputs": [],
   "source": [
    "from moviepy import VideoFileClip\n",
    "import os\n",
    "import numpy as np"
   ]
  },
  {
   "cell_type": "code",
   "execution_count": 3,
   "id": "8fa2a2d5-ca61-4701-9ed0-076b0e108be8",
   "metadata": {},
   "outputs": [],
   "source": [
    "defaultdir = '/gpfs/radev/pi/saxena/aj764/'\n",
    "rootdir = f'{defaultdir}/PairedTestingSessions/'"
   ]
  },
  {
   "cell_type": "code",
   "execution_count": 4,
   "id": "a0620f6e-2236-45bc-9f4e-7b4e928ce3e7",
   "metadata": {},
   "outputs": [],
   "source": [
    "vid_subdirs = []\n",
    "for subdir, dirs, files in os.walk(rootdir):\n",
    "    if subdir.endswith(\"Videos\"):\n",
    "        vid_subdirs.append(subdir)\n",
    "vid_subdirs = sorted(vid_subdirs)"
   ]
  },
  {
   "cell_type": "code",
   "execution_count": 5,
   "id": "64ff6f6c-a6e3-4a68-9a6f-c679020df848",
   "metadata": {},
   "outputs": [],
   "source": [
    "single_vids = {}\n",
    "multi_vids = {}\n",
    "for vids in vid_subdirs:\n",
    "    files = os.listdir(vids)\n",
    "    cut_vids = vids[28:]\n",
    "    single_vids[cut_vids] = []\n",
    "    multi_vids[cut_vids] = []\n",
    "    for file in files:\n",
    "        if file.endswith('.mp4') and int(file[:2]) >= 4:\n",
    "            KL_count = file.count('KL')\n",
    "            EB_count = file.count('EB')\n",
    "            HF_count = file.count('HF')\n",
    "            if KL_count + EB_count + HF_count == 2:\n",
    "                multi_vids[cut_vids].append(file)\n",
    "            else:\n",
    "                single_vids[cut_vids].append(file)"
   ]
  },
  {
   "cell_type": "code",
   "execution_count": 6,
   "id": "ae38b478-fbed-4247-a52e-a22cb0dc3ca5",
   "metadata": {},
   "outputs": [],
   "source": [
    "def with_moviepy(filename):\n",
    "    clip = VideoFileClip(filename)\n",
    "    duration       = clip.duration\n",
    "    fps            = clip.fps\n",
    "    width, height  = clip.size\n",
    "    return duration, fps # , (width, height)"
   ]
  },
  {
   "cell_type": "code",
   "execution_count": null,
   "id": "ce4a2af8-126b-4157-8e01-fda6380ef857",
   "metadata": {},
   "outputs": [],
   "source": [
    "fpss = []\n",
    "count = 0\n",
    "for key, value in single_vids.items():\n",
    "    for vid in value:\n",
    "        duration, fps = with_moviepy(defaultdir + key + '/' + vid)\n",
    "        fpss.append(fps)\n",
    "        count += 1\n",
    "        if count > 100:\n",
    "            break\n",
    "    if count > 100:\n",
    "        break"
   ]
  },
  {
   "cell_type": "code",
   "execution_count": 10,
   "id": "f1bb04e4-af5d-4e4e-ab2a-7cdd599b0bd0",
   "metadata": {},
   "outputs": [
    {
     "name": "stdout",
     "output_type": "stream",
     "text": [
      "29.997921385545148\n"
     ]
    }
   ],
   "source": [
    "print(np.mean(fpss))"
   ]
  },
  {
   "cell_type": "code",
   "execution_count": null,
   "id": "84ce55c4-2d0b-40c6-8ad9-6a482b685ad8",
   "metadata": {},
   "outputs": [],
   "source": [
    "fpss = []\n",
    "count = 0\n",
    "for key, value in multi_vids.items():\n",
    "    for vid in value:\n",
    "        duration, fps = with_moviepy(defaultdir + key + '/' + vid)\n",
    "        fpss.append(fps)\n",
    "        count += 1\n",
    "        if count > 100:\n",
    "            break\n",
    "    if count > 100:\n",
    "        break"
   ]
  },
  {
   "cell_type": "code",
   "execution_count": 12,
   "id": "bb58edd4-7d00-4c14-9e32-37d4559c9e16",
   "metadata": {},
   "outputs": [
    {
     "name": "stdout",
     "output_type": "stream",
     "text": [
      "29.99811940534713\n"
     ]
    }
   ],
   "source": [
    "print(np.mean(fpss))"
   ]
  },
  {
   "cell_type": "code",
   "execution_count": 13,
   "id": "ef98e1b2-0b79-44c8-8ccd-610bd307a9ab",
   "metadata": {},
   "outputs": [],
   "source": [
    "defaultdir = '/gpfs/radev/pi/saxena/aj764'\n",
    "rootdir = f'{defaultdir}/Training_COOPERATION/'"
   ]
  },
  {
   "cell_type": "code",
   "execution_count": 14,
   "id": "f3621601-b422-4f15-a131-b9bfcaf954ed",
   "metadata": {},
   "outputs": [],
   "source": [
    "vid_subdirs = []\n",
    "for subdir, dirs, files in os.walk(rootdir):\n",
    "    vid_subdirs.append(subdir)\n",
    "vid_subdirs = sorted(vid_subdirs)"
   ]
  },
  {
   "cell_type": "code",
   "execution_count": 15,
   "id": "37e4e9fb-8527-4cb0-b74a-48b4c80a7851",
   "metadata": {},
   "outputs": [],
   "source": [
    "training_vids = {}\n",
    "for vids in vid_subdirs:\n",
    "    files = os.listdir(vids)\n",
    "    cut_vids = vids[28:]\n",
    "    training_vids[cut_vids] = []\n",
    "    for file in files:\n",
    "        if file.endswith('.mp4'): # and int(file[:2]) >= 4:\n",
    "            training_vids[cut_vids].append(file)"
   ]
  },
  {
   "cell_type": "code",
   "execution_count": 16,
   "id": "94fa9fec-5e08-4a5a-a2ed-83f69575c242",
   "metadata": {},
   "outputs": [
    {
     "name": "stdout",
     "output_type": "stream",
     "text": [
      "{'video_found': False, 'audio_found': False, 'metadata': {}, 'inputs': [{'streams': [None]}], 'video_n_frames': 0, 'video_duration': 0.0}\n",
      "/home/aj764/.conda/envs/social_comp/lib/python3.12/site-packages/imageio_ffmpeg/binaries/ffmpeg-linux-x86_64-v7.0.2 -i /gpfs/radev/pi/saxena/aj764Training_COOPERATION/032824/032824_COOPTRAIN_LARGEARENA_KL002B-KL002Y_Camera2.mp4 -loglevel error -f image2pipe -vf scale=1:1 -sws_flags bicubic -pix_fmt rgb24 -vcodec rawvideo -\n"
     ]
    },
    {
     "name": "stderr",
     "output_type": "stream",
     "text": [
      "/home/aj764/.conda/envs/social_comp/lib/python3.12/site-packages/moviepy/video/io/ffmpeg_reader.py:178: UserWarning: In file /gpfs/radev/pi/saxena/aj764Training_COOPERATION/032824/032824_COOPTRAIN_LARGEARENA_KL002B-KL002Y_Camera2.mp4, 3 bytes wanted but 0 bytes read at frame index 0 (out of a total 0 frames), at time 0.00/0.00 sec. Using the last valid frame instead.\n",
      "  warnings.warn(\n"
     ]
    },
    {
     "ename": "OSError",
     "evalue": "MoviePy error: failed to read the first frame of video file /gpfs/radev/pi/saxena/aj764Training_COOPERATION/032824/032824_COOPTRAIN_LARGEARENA_KL002B-KL002Y_Camera2.mp4. That might mean that the file is corrupted. That may also mean that you are using a deprecated version of FFMPEG. On Ubuntu/Debian for instance the version in the repos is deprecated. Please update to a recent version from the website.",
     "output_type": "error",
     "traceback": [
      "\u001b[0;31m---------------------------------------------------------------------------\u001b[0m",
      "\u001b[0;31mOSError\u001b[0m                                   Traceback (most recent call last)",
      "Cell \u001b[0;32mIn[16], line 5\u001b[0m\n\u001b[1;32m      3\u001b[0m \u001b[38;5;28;01mfor\u001b[39;00m key, value \u001b[38;5;129;01min\u001b[39;00m training_vids\u001b[38;5;241m.\u001b[39mitems():\n\u001b[1;32m      4\u001b[0m     \u001b[38;5;28;01mfor\u001b[39;00m vid \u001b[38;5;129;01min\u001b[39;00m value:\n\u001b[0;32m----> 5\u001b[0m         duration, fps \u001b[38;5;241m=\u001b[39m \u001b[43mwith_moviepy\u001b[49m\u001b[43m(\u001b[49m\u001b[43mdefaultdir\u001b[49m\u001b[43m \u001b[49m\u001b[38;5;241;43m+\u001b[39;49m\u001b[43m \u001b[49m\u001b[43mkey\u001b[49m\u001b[43m \u001b[49m\u001b[38;5;241;43m+\u001b[39;49m\u001b[43m \u001b[49m\u001b[38;5;124;43m'\u001b[39;49m\u001b[38;5;124;43m/\u001b[39;49m\u001b[38;5;124;43m'\u001b[39;49m\u001b[43m \u001b[49m\u001b[38;5;241;43m+\u001b[39;49m\u001b[43m \u001b[49m\u001b[43mvid\u001b[49m\u001b[43m)\u001b[49m\n\u001b[1;32m      6\u001b[0m         fpss\u001b[38;5;241m.\u001b[39mappend(fps)\n\u001b[1;32m      7\u001b[0m         count \u001b[38;5;241m+\u001b[39m\u001b[38;5;241m=\u001b[39m \u001b[38;5;241m1\u001b[39m\n",
      "Cell \u001b[0;32mIn[6], line 2\u001b[0m, in \u001b[0;36mwith_moviepy\u001b[0;34m(filename)\u001b[0m\n\u001b[1;32m      1\u001b[0m \u001b[38;5;28;01mdef\u001b[39;00m \u001b[38;5;21mwith_moviepy\u001b[39m(filename):\n\u001b[0;32m----> 2\u001b[0m     clip \u001b[38;5;241m=\u001b[39m \u001b[43mVideoFileClip\u001b[49m\u001b[43m(\u001b[49m\u001b[43mfilename\u001b[49m\u001b[43m)\u001b[49m\n\u001b[1;32m      3\u001b[0m     duration       \u001b[38;5;241m=\u001b[39m clip\u001b[38;5;241m.\u001b[39mduration\n\u001b[1;32m      4\u001b[0m     fps            \u001b[38;5;241m=\u001b[39m clip\u001b[38;5;241m.\u001b[39mfps\n",
      "File \u001b[0;32m/home/aj764/.conda/envs/social_comp/lib/python3.12/site-packages/decorator.py:232\u001b[0m, in \u001b[0;36mdecorate.<locals>.fun\u001b[0;34m(*args, **kw)\u001b[0m\n\u001b[1;32m    230\u001b[0m \u001b[38;5;28;01mif\u001b[39;00m \u001b[38;5;129;01mnot\u001b[39;00m kwsyntax:\n\u001b[1;32m    231\u001b[0m     args, kw \u001b[38;5;241m=\u001b[39m fix(args, kw, sig)\n\u001b[0;32m--> 232\u001b[0m \u001b[38;5;28;01mreturn\u001b[39;00m \u001b[43mcaller\u001b[49m\u001b[43m(\u001b[49m\u001b[43mfunc\u001b[49m\u001b[43m,\u001b[49m\u001b[43m \u001b[49m\u001b[38;5;241;43m*\u001b[39;49m\u001b[43m(\u001b[49m\u001b[43mextras\u001b[49m\u001b[43m \u001b[49m\u001b[38;5;241;43m+\u001b[39;49m\u001b[43m \u001b[49m\u001b[43margs\u001b[49m\u001b[43m)\u001b[49m\u001b[43m,\u001b[49m\u001b[43m \u001b[49m\u001b[38;5;241;43m*\u001b[39;49m\u001b[38;5;241;43m*\u001b[39;49m\u001b[43mkw\u001b[49m\u001b[43m)\u001b[49m\n",
      "File \u001b[0;32m/home/aj764/.conda/envs/social_comp/lib/python3.12/site-packages/moviepy/decorators.py:94\u001b[0m, in \u001b[0;36mpreprocess_args.<locals>.wrapper\u001b[0;34m(func, *args, **kwargs)\u001b[0m\n\u001b[1;32m     86\u001b[0m new_args \u001b[38;5;241m=\u001b[39m [\n\u001b[1;32m     87\u001b[0m     fun(arg) \u001b[38;5;28;01mif\u001b[39;00m (name \u001b[38;5;129;01min\u001b[39;00m varnames) \u001b[38;5;129;01mand\u001b[39;00m (arg \u001b[38;5;129;01mis\u001b[39;00m \u001b[38;5;129;01mnot\u001b[39;00m \u001b[38;5;28;01mNone\u001b[39;00m) \u001b[38;5;28;01melse\u001b[39;00m arg\n\u001b[1;32m     88\u001b[0m     \u001b[38;5;28;01mfor\u001b[39;00m (arg, name) \u001b[38;5;129;01min\u001b[39;00m \u001b[38;5;28mzip\u001b[39m(args, names)\n\u001b[1;32m     89\u001b[0m ]\n\u001b[1;32m     90\u001b[0m new_kwargs \u001b[38;5;241m=\u001b[39m {\n\u001b[1;32m     91\u001b[0m     kwarg: fun(value) \u001b[38;5;28;01mif\u001b[39;00m kwarg \u001b[38;5;129;01min\u001b[39;00m varnames \u001b[38;5;28;01melse\u001b[39;00m value\n\u001b[1;32m     92\u001b[0m     \u001b[38;5;28;01mfor\u001b[39;00m (kwarg, value) \u001b[38;5;129;01min\u001b[39;00m kwargs\u001b[38;5;241m.\u001b[39mitems()\n\u001b[1;32m     93\u001b[0m }\n\u001b[0;32m---> 94\u001b[0m \u001b[38;5;28;01mreturn\u001b[39;00m \u001b[43mfunc\u001b[49m\u001b[43m(\u001b[49m\u001b[38;5;241;43m*\u001b[39;49m\u001b[43mnew_args\u001b[49m\u001b[43m,\u001b[49m\u001b[43m \u001b[49m\u001b[38;5;241;43m*\u001b[39;49m\u001b[38;5;241;43m*\u001b[39;49m\u001b[43mnew_kwargs\u001b[49m\u001b[43m)\u001b[49m\n",
      "File \u001b[0;32m/home/aj764/.conda/envs/social_comp/lib/python3.12/site-packages/moviepy/video/io/VideoFileClip.py:109\u001b[0m, in \u001b[0;36mVideoFileClip.__init__\u001b[0;34m(self, filename, decode_file, has_mask, audio, audio_buffersize, target_resolution, resize_algorithm, audio_fps, audio_nbytes, fps_source, pixel_format, is_mask)\u001b[0m\n\u001b[1;32m    106\u001b[0m \u001b[38;5;28;01mif\u001b[39;00m \u001b[38;5;129;01mnot\u001b[39;00m pixel_format:\n\u001b[1;32m    107\u001b[0m     pixel_format \u001b[38;5;241m=\u001b[39m \u001b[38;5;124m\"\u001b[39m\u001b[38;5;124mrgba\u001b[39m\u001b[38;5;124m\"\u001b[39m \u001b[38;5;28;01mif\u001b[39;00m has_mask \u001b[38;5;28;01melse\u001b[39;00m \u001b[38;5;124m\"\u001b[39m\u001b[38;5;124mrgb24\u001b[39m\u001b[38;5;124m\"\u001b[39m\n\u001b[0;32m--> 109\u001b[0m \u001b[38;5;28mself\u001b[39m\u001b[38;5;241m.\u001b[39mreader \u001b[38;5;241m=\u001b[39m \u001b[43mFFMPEG_VideoReader\u001b[49m\u001b[43m(\u001b[49m\n\u001b[1;32m    110\u001b[0m \u001b[43m    \u001b[49m\u001b[43mfilename\u001b[49m\u001b[43m,\u001b[49m\n\u001b[1;32m    111\u001b[0m \u001b[43m    \u001b[49m\u001b[43mdecode_file\u001b[49m\u001b[38;5;241;43m=\u001b[39;49m\u001b[43mdecode_file\u001b[49m\u001b[43m,\u001b[49m\n\u001b[1;32m    112\u001b[0m \u001b[43m    \u001b[49m\u001b[43mpixel_format\u001b[49m\u001b[38;5;241;43m=\u001b[39;49m\u001b[43mpixel_format\u001b[49m\u001b[43m,\u001b[49m\n\u001b[1;32m    113\u001b[0m \u001b[43m    \u001b[49m\u001b[43mtarget_resolution\u001b[49m\u001b[38;5;241;43m=\u001b[39;49m\u001b[43mtarget_resolution\u001b[49m\u001b[43m,\u001b[49m\n\u001b[1;32m    114\u001b[0m \u001b[43m    \u001b[49m\u001b[43mresize_algo\u001b[49m\u001b[38;5;241;43m=\u001b[39;49m\u001b[43mresize_algorithm\u001b[49m\u001b[43m,\u001b[49m\n\u001b[1;32m    115\u001b[0m \u001b[43m    \u001b[49m\u001b[43mfps_source\u001b[49m\u001b[38;5;241;43m=\u001b[39;49m\u001b[43mfps_source\u001b[49m\u001b[43m,\u001b[49m\n\u001b[1;32m    116\u001b[0m \u001b[43m\u001b[49m\u001b[43m)\u001b[49m\n\u001b[1;32m    118\u001b[0m \u001b[38;5;66;03m# Make some of the reader's attributes accessible from the clip\u001b[39;00m\n\u001b[1;32m    119\u001b[0m \u001b[38;5;28mself\u001b[39m\u001b[38;5;241m.\u001b[39mduration \u001b[38;5;241m=\u001b[39m \u001b[38;5;28mself\u001b[39m\u001b[38;5;241m.\u001b[39mreader\u001b[38;5;241m.\u001b[39mduration\n",
      "File \u001b[0;32m/home/aj764/.conda/envs/social_comp/lib/python3.12/site-packages/moviepy/video/io/ffmpeg_reader.py:81\u001b[0m, in \u001b[0;36mFFMPEG_VideoReader.__init__\u001b[0;34m(self, filename, decode_file, print_infos, bufsize, pixel_format, check_duration, target_resolution, resize_algo, fps_source)\u001b[0m\n\u001b[1;32m     78\u001b[0m     bufsize \u001b[38;5;241m=\u001b[39m \u001b[38;5;28mself\u001b[39m\u001b[38;5;241m.\u001b[39mdepth \u001b[38;5;241m*\u001b[39m w \u001b[38;5;241m*\u001b[39m h \u001b[38;5;241m+\u001b[39m \u001b[38;5;241m100\u001b[39m\n\u001b[1;32m     80\u001b[0m \u001b[38;5;28mself\u001b[39m\u001b[38;5;241m.\u001b[39mbufsize \u001b[38;5;241m=\u001b[39m bufsize\n\u001b[0;32m---> 81\u001b[0m \u001b[38;5;28;43mself\u001b[39;49m\u001b[38;5;241;43m.\u001b[39;49m\u001b[43minitialize\u001b[49m\u001b[43m(\u001b[49m\u001b[43m)\u001b[49m\n",
      "File \u001b[0;32m/home/aj764/.conda/envs/social_comp/lib/python3.12/site-packages/moviepy/video/io/ffmpeg_reader.py:155\u001b[0m, in \u001b[0;36mFFMPEG_VideoReader.initialize\u001b[0;34m(self, start_time)\u001b[0m\n\u001b[1;32m    151\u001b[0m \u001b[38;5;66;03m# self.pos represents the (0-indexed) index of the frame that is next in line\u001b[39;00m\n\u001b[1;32m    152\u001b[0m \u001b[38;5;66;03m# to be read by self.read_frame().\u001b[39;00m\n\u001b[1;32m    153\u001b[0m \u001b[38;5;66;03m# Eg when self.pos is 1, the 2nd frame will be read next.\u001b[39;00m\n\u001b[1;32m    154\u001b[0m \u001b[38;5;28mself\u001b[39m\u001b[38;5;241m.\u001b[39mpos \u001b[38;5;241m=\u001b[39m \u001b[38;5;28mself\u001b[39m\u001b[38;5;241m.\u001b[39mget_frame_number(start_time)\n\u001b[0;32m--> 155\u001b[0m \u001b[38;5;28mself\u001b[39m\u001b[38;5;241m.\u001b[39mlast_read \u001b[38;5;241m=\u001b[39m \u001b[38;5;28;43mself\u001b[39;49m\u001b[38;5;241;43m.\u001b[39;49m\u001b[43mread_frame\u001b[49m\u001b[43m(\u001b[49m\u001b[43m)\u001b[49m\n",
      "File \u001b[0;32m/home/aj764/.conda/envs/social_comp/lib/python3.12/site-packages/moviepy/video/io/ffmpeg_reader.py:196\u001b[0m, in \u001b[0;36mFFMPEG_VideoReader.read_frame\u001b[0;34m(self)\u001b[0m\n\u001b[1;32m    178\u001b[0m     warnings\u001b[38;5;241m.\u001b[39mwarn(\n\u001b[1;32m    179\u001b[0m         (\n\u001b[1;32m    180\u001b[0m             \u001b[38;5;124m\"\u001b[39m\u001b[38;5;124mIn file \u001b[39m\u001b[38;5;132;01m%s\u001b[39;00m\u001b[38;5;124m, \u001b[39m\u001b[38;5;132;01m%d\u001b[39;00m\u001b[38;5;124m bytes wanted but \u001b[39m\u001b[38;5;132;01m%d\u001b[39;00m\u001b[38;5;124m bytes read at frame index\u001b[39m\u001b[38;5;124m\"\u001b[39m\n\u001b[0;32m   (...)\u001b[0m\n\u001b[1;32m    193\u001b[0m         \u001b[38;5;167;01mUserWarning\u001b[39;00m,\n\u001b[1;32m    194\u001b[0m     )\n\u001b[1;32m    195\u001b[0m     \u001b[38;5;28;01mif\u001b[39;00m \u001b[38;5;129;01mnot\u001b[39;00m \u001b[38;5;28mhasattr\u001b[39m(\u001b[38;5;28mself\u001b[39m, \u001b[38;5;124m\"\u001b[39m\u001b[38;5;124mlast_read\u001b[39m\u001b[38;5;124m\"\u001b[39m):\n\u001b[0;32m--> 196\u001b[0m         \u001b[38;5;28;01mraise\u001b[39;00m \u001b[38;5;167;01mIOError\u001b[39;00m(\n\u001b[1;32m    197\u001b[0m             (\n\u001b[1;32m    198\u001b[0m                 \u001b[38;5;124m\"\u001b[39m\u001b[38;5;124mMoviePy error: failed to read the first frame of \u001b[39m\u001b[38;5;124m\"\u001b[39m\n\u001b[1;32m    199\u001b[0m                 \u001b[38;5;124mf\u001b[39m\u001b[38;5;124m\"\u001b[39m\u001b[38;5;124mvideo file \u001b[39m\u001b[38;5;132;01m{\u001b[39;00m\u001b[38;5;28mself\u001b[39m\u001b[38;5;241m.\u001b[39mfilename\u001b[38;5;132;01m}\u001b[39;00m\u001b[38;5;124m. That might mean that the file is \u001b[39m\u001b[38;5;124m\"\u001b[39m\n\u001b[1;32m    200\u001b[0m                 \u001b[38;5;124m\"\u001b[39m\u001b[38;5;124mcorrupted. That may also mean that you are using \u001b[39m\u001b[38;5;124m\"\u001b[39m\n\u001b[1;32m    201\u001b[0m                 \u001b[38;5;124m\"\u001b[39m\u001b[38;5;124ma deprecated version of FFMPEG. On Ubuntu/Debian \u001b[39m\u001b[38;5;124m\"\u001b[39m\n\u001b[1;32m    202\u001b[0m                 \u001b[38;5;124m\"\u001b[39m\u001b[38;5;124mfor instance the version in the repos is deprecated. \u001b[39m\u001b[38;5;124m\"\u001b[39m\n\u001b[1;32m    203\u001b[0m                 \u001b[38;5;124m\"\u001b[39m\u001b[38;5;124mPlease update to a recent version from the website.\u001b[39m\u001b[38;5;124m\"\u001b[39m\n\u001b[1;32m    204\u001b[0m             )\n\u001b[1;32m    205\u001b[0m         )\n\u001b[1;32m    207\u001b[0m     result \u001b[38;5;241m=\u001b[39m \u001b[38;5;28mself\u001b[39m\u001b[38;5;241m.\u001b[39mlast_read\n\u001b[1;32m    209\u001b[0m \u001b[38;5;28;01melse\u001b[39;00m:\n",
      "\u001b[0;31mOSError\u001b[0m: MoviePy error: failed to read the first frame of video file /gpfs/radev/pi/saxena/aj764Training_COOPERATION/032824/032824_COOPTRAIN_LARGEARENA_KL002B-KL002Y_Camera2.mp4. That might mean that the file is corrupted. That may also mean that you are using a deprecated version of FFMPEG. On Ubuntu/Debian for instance the version in the repos is deprecated. Please update to a recent version from the website."
     ]
    }
   ],
   "source": [
    "fpss = []\n",
    "count = 0\n",
    "for key, value in training_vids.items():\n",
    "    for vid in value:\n",
    "        duration, fps = with_moviepy(defaultdir + key + '/' + vid)\n",
    "        fpss.append(fps)\n",
    "        count += 1\n",
    "        if count > 100:\n",
    "            break\n",
    "    if count > 100:\n",
    "        break"
   ]
  },
  {
   "cell_type": "code",
   "execution_count": null,
   "id": "28609b32-7f13-4398-b6d4-f212e6791792",
   "metadata": {},
   "outputs": [],
   "source": [
    "print(np.mean(fpss))"
   ]
  }
 ],
 "metadata": {
  "kernelspec": {
   "display_name": "Python 3 (ipykernel)",
   "language": "python",
   "name": "python3"
  },
  "language_info": {
   "codemirror_mode": {
    "name": "ipython",
    "version": 3
   },
   "file_extension": ".py",
   "mimetype": "text/x-python",
   "name": "python",
   "nbconvert_exporter": "python",
   "pygments_lexer": "ipython3",
   "version": "3.12.5"
  }
 },
 "nbformat": 4,
 "nbformat_minor": 5
}

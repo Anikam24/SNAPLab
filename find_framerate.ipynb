{
 "cells": [
  {
   "cell_type": "code",
   "execution_count": 1,
   "id": "a97a9d75-76fb-462e-95ce-551385861860",
   "metadata": {},
   "outputs": [],
   "source": [
    "from moviepy import VideoFileClip\n",
    "import os\n",
    "import numpy as np"
   ]
  },
  {
   "cell_type": "code",
   "execution_count": 2,
   "id": "8fa2a2d5-ca61-4701-9ed0-076b0e108be8",
   "metadata": {},
   "outputs": [],
   "source": [
    "defaultdir = '/gpfs/radev/pi/saxena/aj764/'\n",
    "rootdir = f'{defaultdir}/PairedTestingSessions/'"
   ]
  },
  {
   "cell_type": "code",
   "execution_count": 3,
   "id": "a0620f6e-2236-45bc-9f4e-7b4e928ce3e7",
   "metadata": {},
   "outputs": [],
   "source": [
    "vid_subdirs = []\n",
    "for subdir, dirs, files in os.walk(rootdir):\n",
    "    if subdir.endswith(\"Videos\"):\n",
    "        vid_subdirs.append(subdir)\n",
    "vid_subdirs = sorted(vid_subdirs)"
   ]
  },
  {
   "cell_type": "code",
   "execution_count": 4,
   "id": "64ff6f6c-a6e3-4a68-9a6f-c679020df848",
   "metadata": {},
   "outputs": [],
   "source": [
    "single_vids = {}\n",
    "multi_vids = {}\n",
    "for vids in vid_subdirs:\n",
    "    files = os.listdir(vids)\n",
    "    cut_vids = vids[28:]\n",
    "    single_vids[cut_vids] = []\n",
    "    multi_vids[cut_vids] = []\n",
    "    for file in files:\n",
    "        if file.endswith('.mp4') and int(file[:2]) >= 4:\n",
    "            KL_count = file.count('KL')\n",
    "            EB_count = file.count('EB')\n",
    "            HF_count = file.count('HF')\n",
    "            if KL_count + EB_count + HF_count == 2:\n",
    "                multi_vids[cut_vids].append(file)\n",
    "            else:\n",
    "                single_vids[cut_vids].append(file)"
   ]
  },
  {
   "cell_type": "code",
   "execution_count": 5,
   "id": "ae38b478-fbed-4247-a52e-a22cb0dc3ca5",
   "metadata": {},
   "outputs": [],
   "source": [
    "def with_moviepy(filename):\n",
    "    clip = VideoFileClip(filename)\n",
    "    duration       = clip.duration\n",
    "    fps            = clip.fps\n",
    "    width, height  = clip.size\n",
    "    return duration, fps # , (width, height)"
   ]
  },
  {
   "cell_type": "code",
   "execution_count": null,
   "id": "ce4a2af8-126b-4157-8e01-fda6380ef857",
   "metadata": {},
   "outputs": [],
   "source": [
    "fpss = []\n",
    "count = 0\n",
    "for key, value in single_vids.items():\n",
    "    for vid in value:\n",
    "        duration, fps = with_moviepy(defaultdir + key + '/' + vid)\n",
    "        fpss.append(fps)\n",
    "        count += 1\n",
    "    #     if count > 100:\n",
    "    #         break\n",
    "    # if count > 100:\n",
    "    #     break"
   ]
  },
  {
   "cell_type": "code",
   "execution_count": 7,
   "id": "f1bb04e4-af5d-4e4e-ab2a-7cdd599b0bd0",
   "metadata": {},
   "outputs": [
    {
     "name": "stdout",
     "output_type": "stream",
     "text": [
      "29.873608434964673 1.6829438183943146 7.06 30.01\n"
     ]
    }
   ],
   "source": [
    "print(np.mean(fpss), np.std(fpss), np.min(fpss), np.max(fpss))"
   ]
  },
  {
   "cell_type": "code",
   "execution_count": null,
   "id": "84ce55c4-2d0b-40c6-8ad9-6a482b685ad8",
   "metadata": {},
   "outputs": [],
   "source": [
    "fpss = []\n",
    "count = 0\n",
    "for key, value in multi_vids.items():\n",
    "    for vid in value:\n",
    "        duration, fps = with_moviepy(defaultdir + key + '/' + vid)\n",
    "        fpss.append(fps)\n",
    "        count += 1\n",
    "    #     if count > 100:\n",
    "    #         break\n",
    "    # if count > 100:\n",
    "    #     break"
   ]
  },
  {
   "cell_type": "code",
   "execution_count": 9,
   "id": "bb58edd4-7d00-4c14-9e32-37d4559c9e16",
   "metadata": {},
   "outputs": [
    {
     "name": "stdout",
     "output_type": "stream",
     "text": [
      "29.997879214707943 0.012388205767576342 29.68 30.0\n"
     ]
    }
   ],
   "source": [
    "print(np.mean(fpss), np.std(fpss), np.min(fpss), np.max(fpss))"
   ]
  },
  {
   "cell_type": "code",
   "execution_count": 10,
   "id": "ef98e1b2-0b79-44c8-8ccd-610bd307a9ab",
   "metadata": {},
   "outputs": [],
   "source": [
    "defaultdir = '/gpfs/radev/pi/saxena/aj764/'\n",
    "rootdir = f'{defaultdir}/Training_COOPERATION/'"
   ]
  },
  {
   "cell_type": "code",
   "execution_count": 11,
   "id": "f3621601-b422-4f15-a131-b9bfcaf954ed",
   "metadata": {},
   "outputs": [],
   "source": [
    "vid_subdirs = []\n",
    "for subdir, dirs, files in os.walk(rootdir):\n",
    "    vid_subdirs.append(subdir)\n",
    "vid_subdirs = sorted(vid_subdirs)"
   ]
  },
  {
   "cell_type": "code",
   "execution_count": 12,
   "id": "37e4e9fb-8527-4cb0-b74a-48b4c80a7851",
   "metadata": {},
   "outputs": [],
   "source": [
    "training_vids = {}\n",
    "for vids in vid_subdirs:\n",
    "    files = os.listdir(vids)\n",
    "    cut_vids = vids[28:]\n",
    "    training_vids[cut_vids] = []\n",
    "    for file in files:\n",
    "        if file.endswith('.mp4'): # and int(file[:2]) >= 4:\n",
    "            training_vids[cut_vids].append(file)"
   ]
  },
  {
   "cell_type": "code",
   "execution_count": null,
   "id": "94fa9fec-5e08-4a5a-a2ed-83f69575c242",
   "metadata": {},
   "outputs": [],
   "source": [
    "fpss = []\n",
    "count = 0\n",
    "for key, value in training_vids.items():\n",
    "    for vid in value:\n",
    "        duration, fps = with_moviepy(defaultdir + key + '/' + vid)\n",
    "        fpss.append(fps)\n",
    "        count += 1\n",
    "    #     if count > 100:\n",
    "    #         break\n",
    "    # if count > 100:\n",
    "    #     break"
   ]
  },
  {
   "cell_type": "code",
   "execution_count": 14,
   "id": "28609b32-7f13-4398-b6d4-f212e6791792",
   "metadata": {},
   "outputs": [
    {
     "name": "stdout",
     "output_type": "stream",
     "text": [
      "29.998750333000338 0.01311600066564146 29.87 30.01\n"
     ]
    }
   ],
   "source": [
    "print(np.mean(fpss), np.std(fpss), np.min(fpss), np.max(fpss))"
   ]
  },
  {
   "cell_type": "code",
   "execution_count": null,
   "id": "28d34fa4-4b92-4579-936f-d492bed711cf",
   "metadata": {},
   "outputs": [],
   "source": []
  }
 ],
 "metadata": {
  "kernelspec": {
   "display_name": "Python 3 (ipykernel)",
   "language": "python",
   "name": "python3"
  },
  "language_info": {
   "codemirror_mode": {
    "name": "ipython",
    "version": 3
   },
   "file_extension": ".py",
   "mimetype": "text/x-python",
   "name": "python",
   "nbconvert_exporter": "python",
   "pygments_lexer": "ipython3",
   "version": "3.12.5"
  }
 },
 "nbformat": 4,
 "nbformat_minor": 5
}
